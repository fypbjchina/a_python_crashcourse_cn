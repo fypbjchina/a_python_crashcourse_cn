{
 "cells": [
  {
   "cell_type": "markdown",
   "id": "c329ce74-ea46-43ea-9db7-cca29127db22",
   "metadata": {},
   "source": [
    "# Class类 and Object对象\n",
    "\n",
    "回顾上次讲解的知识点：\n",
    "- 理解基础概念: 什么是类，什么是对象，为什么需要类，为什么需要对象\n",
    "- Python类和对象编程基本框架和运用流程\n",
    "  1. 继承： 子类申明中传入父类类名\n",
    "  2. 构建函数： 使用来调用父类的构造函数，用于初始化继承的属性\n",
    "  3. 方法重新（如有需求）\n",
    "  3.1.申明类： 明白 __init__() 和self\n",
    "  4. 实例化对象，也叫创建对象\n",
    "  5. 使用对象：运用对象的功能来实现目标或解决问题：，给属性赋值或修改属性，调用对象的方法"
   ]
  },
  {
   "cell_type": "code",
   "execution_count": 4,
   "id": "2fd6dc40-c7e9-4c42-b98c-9fac110fa559",
   "metadata": {},
   "outputs": [
    {
     "name": "stdout",
     "output_type": "stream",
     "text": [
      "Rectangle(width=10, height=5)\n",
      "Area: 50\n",
      "Perimeter: 30\n"
     ]
    },
    {
     "data": {
      "text/plain": [
       "'Rectangle(width=10, height=5)'"
      ]
     },
     "execution_count": 4,
     "metadata": {},
     "output_type": "execute_result"
    }
   ],
   "source": [
    "class Rectangle:\n",
    "    \"\"\"Represents a rectangle.\"\"\"\n",
    "\n",
    "    def __init__(self, width, height):\n",
    "        self.width = width\n",
    "        self.height = height\n",
    "        \n",
    "    def area(self):\n",
    "        \"\"\"Calculate the area of the rectangle.\"\"\"\n",
    "        return self.width * self.height\n",
    "\n",
    "    def perimeter(self):\n",
    "        \"\"\"Calculate the perimeter of the rectangle.\"\"\"\n",
    "        return 2 * (self.width + self.height)\n",
    "\n",
    "    def __str__(self):\n",
    "        return f\"Rectangle(width={self.width}, height={self.height})\"\n",
    "\n",
    "# Instance\n",
    "rect = Rectangle(10, 5)\n",
    "print(rect)                     # Rectangle(width=10, height=5)\n",
    "print(\"Area:\", rect.area())       # Area: 50\n",
    "print(\"Perimeter:\", rect.perimeter())  # Perimeter: 30\n",
    "rect.__str__()"
   ]
  },
  {
   "cell_type": "markdown",
   "id": "b1749236-abed-4e84-bdf1-6e8fcc7d6bc3",
   "metadata": {},
   "source": [
    "## Class Encapsulaton \n",
    "\n",
    "可以对类的属性进行封装，从而保护属性数据，控制内部“隐私（数据）”是否允许被外部窥见或被外部修改。\n",
    "\n",
    "软件实现方法：定义保护类型\n",
    "- Public attributes/methods: 随意访问和使用\n",
    "- Protected attributes/methods: 单下划线single underscore (_)+属性名, 用于内部使用\n",
    "- Private attributes/methods: 双下划线double underscores (__)+属性名, 不能直接访问\n",
    "\n"
   ]
  },
  {
   "cell_type": "code",
   "execution_count": 2,
   "id": "1538965a-611f-4341-b003-53ddcce9f721",
   "metadata": {},
   "outputs": [],
   "source": [
    "# code example\n",
    "class MyClass:\n",
    "\n",
    "    def __init__(self, Public, Protected, Private):\n",
    "        self.Public = Public\n",
    "        self._Protected = Protected\n",
    "        self.__Private = Private\n",
    "\n",
    "    pass"
   ]
  },
  {
   "cell_type": "markdown",
   "id": "4a27c592-9a1a-4ad1-8faf-6fe3498c2026",
   "metadata": {},
   "source": [
    "## 类的继承 - 虚拟世界也有一部进化史\n",
    "\n",
    "明白原理：为什么要继承？\n",
    "\n",
    "如何用Code实现继承关系\n",
    "1. 继承： 子类申明中传入父类类名\n",
    "2. 构建函数： 使用来调用父类的构造函数，用于初始化继承的属性\n",
    "3. 方法重新（如有需求）\n",
    "\n",
    "\n",
    "**小Tipp**  这是一个烧脑的问题： 我要怎样下手写类？\n",
    "- 我的心得：活在当下，一切从简"
   ]
  },
  {
   "cell_type": "code",
   "execution_count": 45,
   "id": "5ed04268-5f1f-46f7-9cc7-68c119322c46",
   "metadata": {},
   "outputs": [],
   "source": [
    "# code example Student\n",
    "class Student:\n",
    "    \"\"\"define a student\"\"\"\n",
    "    def __init__(self, name, age):\n",
    "        self.name = name\n",
    "        self._age = age\n",
    "        #self.__wealth = wealth\n",
    "        self.grades = []\n",
    "\n",
    "    def add_grade(self, grade):\n",
    "        \"\"\"add grade\"\"\"\n",
    "        return self.grades.append(grade)\n",
    "\n",
    "    def get_av_grade(self):\n",
    "        \"\"\"calculate the average grade\"\"\"\n",
    "        if not self.grades:\n",
    "            return 0\n",
    "        return sum(self.grades)/len(self.grades)\n",
    "\n",
    "    def show_wealth(self):\n",
    "        print(f\"Haha, you can't get any info or yes? {Student.__wealth}\")        \n",
    "\n",
    "    def get_info(self):\n",
    "        return f\"学生姓名:{self.name}, 年龄：{self._age}， 平均成绩：{self.get_av_grade():.2f}\"\n",
    "\n",
    "     "
   ]
  },
  {
   "cell_type": "code",
   "execution_count": 4,
   "id": "a8041835-8889-4f4d-9a00-23c5d48b59fa",
   "metadata": {},
   "outputs": [
    {
     "ename": "SyntaxError",
     "evalue": "invalid syntax (3237090799.py, line 3)",
     "output_type": "error",
     "traceback": [
      "\u001b[1;36m  Cell \u001b[1;32mIn[4], line 3\u001b[1;36m\u001b[0m\n\u001b[1;33m    \"\"\"define a student\"\"\"\u001b[0m\n\u001b[1;37m       ^\u001b[0m\n\u001b[1;31mSyntaxError\u001b[0m\u001b[1;31m:\u001b[0m invalid syntax\n"
     ]
    }
   ],
   "source": [
    "\"\"\"\n",
    "class Student:\n",
    "    \"\"\"define a student\"\"\"\n",
    "    def __init__(self, name, age, grades=None):\n",
    "        self.name = name\n",
    "        self.age = age\n",
    "        self.grades = []\n",
    " \n",
    "    def add_grade(self, grade):\n",
    "        \"\"\"add grade to score\"\"\"\n",
    "        print(f\"test: {self.grades}\")\n",
    "        self.grades.append(grade)\n",
    " \n",
    "    def get_av_grade(self):\n",
    "        \"\"\"calculate the average score\"\"\"\n",
    "#        if not self.grades:\n",
    "#            return 0\n",
    "        return sum(self.grades)/len(self.grades)\n",
    " \n",
    "    def get_info(self):\n",
    "        return f\"学生姓名:{self.name}, 年龄：{self.age}， 成绩：{self.grades}\"   \n",
    "\n",
    "\"\"\""
   ]
  },
  {
   "cell_type": "code",
   "execution_count": 17,
   "id": "7bb68266-27b7-4ee5-ac02-6f5c1a49c4c2",
   "metadata": {},
   "outputs": [
    {
     "name": "stdout",
     "output_type": "stream",
     "text": [
      "<class '__main__.Student'>\n"
     ]
    },
    {
     "data": {
      "text/plain": [
       "<__main__.Student at 0x1d9bdf10bb0>"
      ]
     },
     "execution_count": 17,
     "metadata": {},
     "output_type": "execute_result"
    }
   ],
   "source": [
    "Stud1 = Student(\"Li\",21)\n",
    "Stud2= Student(\"Wang\",20)\n",
    "Stud3 = Student(\"Zhang\", 21)\n",
    "Stud4 = Student(\"Zhao\", 20)\n",
    "print(type(Stud1))\n",
    "Stud1"
   ]
  },
  {
   "cell_type": "code",
   "execution_count": null,
   "id": "9c07dee9-564e-4646-9199-8c67e7166a30",
   "metadata": {},
   "outputs": [],
   "source": []
  },
  {
   "cell_type": "code",
   "execution_count": null,
   "id": "dd02e90f-4c5e-4ba7-b56a-730acf9f14b7",
   "metadata": {},
   "outputs": [],
   "source": []
  },
  {
   "cell_type": "code",
   "execution_count": null,
   "id": "353d2260-0e1c-4489-85e7-ea192beac97e",
   "metadata": {},
   "outputs": [],
   "source": []
  },
  {
   "cell_type": "code",
   "execution_count": 19,
   "id": "fed92a6c-3eb4-41b2-8fa5-c668b89d7e06",
   "metadata": {},
   "outputs": [],
   "source": [
    "Stud1.add_grade(80)\n",
    "Stud2.add_grade(90)\n",
    "Stud1.add_grade(88)\n",
    "Stud1.add_grade(100)"
   ]
  },
  {
   "cell_type": "code",
   "execution_count": 20,
   "id": "db434f4a-6e31-4980-8cb5-02b2df7c813e",
   "metadata": {},
   "outputs": [
    {
     "data": {
      "text/plain": [
       "87.2"
      ]
     },
     "execution_count": 20,
     "metadata": {},
     "output_type": "execute_result"
    }
   ],
   "source": [
    "Stud1.get_av_grade()"
   ]
  },
  {
   "cell_type": "code",
   "execution_count": 21,
   "id": "02446857-bd2e-4c05-9ecb-11b23723a8b6",
   "metadata": {},
   "outputs": [
    {
     "name": "stdout",
     "output_type": "stream",
     "text": [
      "学生姓名:Wang, 年龄：20， 平均成绩：90.00\n"
     ]
    }
   ],
   "source": [
    "print(Stud2.get_info())"
   ]
  },
  {
   "cell_type": "code",
   "execution_count": 9,
   "id": "002961e2-9f58-418b-b6a0-34d9a9c052ab",
   "metadata": {},
   "outputs": [
    {
     "data": {
      "text/plain": [
       "84.0"
      ]
     },
     "execution_count": 9,
     "metadata": {},
     "output_type": "execute_result"
    }
   ],
   "source": [
    "Stud1.get_av_grade()"
   ]
  },
  {
   "cell_type": "code",
   "execution_count": 10,
   "id": "2965c93d-1774-42c6-a761-b5cce36a6b29",
   "metadata": {},
   "outputs": [
    {
     "data": {
      "text/plain": [
       "'学生姓名:Li, 年龄：21， 平均成绩：89.00'"
      ]
     },
     "execution_count": 10,
     "metadata": {},
     "output_type": "execute_result"
    }
   ],
   "source": [
    "Stud1.add_grade(99)\n",
    "Stud1.get_info()"
   ]
  },
  {
   "cell_type": "code",
   "execution_count": null,
   "id": "5943a146-2682-4e8d-98f1-fbaad8af41c8",
   "metadata": {},
   "outputs": [],
   "source": []
  },
  {
   "cell_type": "markdown",
   "id": "ce323c0f-40ea-4805-bbcd-87f7a64a5349",
   "metadata": {},
   "source": [
    "# 类的隐私保护\n",
    "\n",
    "2个知识点：\n",
    "- 如何定义隐私属性\n",
    "- 如何使用隐私属性\n"
   ]
  },
  {
   "cell_type": "code",
   "execution_count": 36,
   "id": "cc067286-564c-4570-b49e-b6bf46697e20",
   "metadata": {},
   "outputs": [
    {
     "data": {
      "text/plain": [
       "'学生姓名:Alice, 年龄：20， 平均成绩：0.00'"
      ]
     },
     "execution_count": 36,
     "metadata": {},
     "output_type": "execute_result"
    }
   ],
   "source": [
    "Stud5 = Student(\"Alice\", 20,1000)\n",
    "Stud5.get_info()"
   ]
  },
  {
   "cell_type": "code",
   "execution_count": 37,
   "id": "d955d3e4-9565-45a4-9197-33ad4a4b2925",
   "metadata": {},
   "outputs": [
    {
     "name": "stdout",
     "output_type": "stream",
     "text": [
      "尝试访问Protected属性age: 20\n"
     ]
    }
   ],
   "source": [
    "print(f\"尝试访问Protected属性age: {Stud5._age}\")"
   ]
  },
  {
   "cell_type": "code",
   "execution_count": 38,
   "id": "e9082028-1cc5-4f72-9c1a-0c0af563e7b9",
   "metadata": {},
   "outputs": [
    {
     "ename": "AttributeError",
     "evalue": "'Student' object has no attribute '__wealth'",
     "output_type": "error",
     "traceback": [
      "\u001b[1;31m---------------------------------------------------------------------------\u001b[0m",
      "\u001b[1;31mAttributeError\u001b[0m                            Traceback (most recent call last)",
      "Cell \u001b[1;32mIn[38], line 1\u001b[0m\n\u001b[1;32m----> 1\u001b[0m \u001b[38;5;28mprint\u001b[39m(\u001b[38;5;124mf\u001b[39m\u001b[38;5;124m\"\u001b[39m\u001b[38;5;124m尝试访问Private属性wealth: \u001b[39m\u001b[38;5;132;01m{\u001b[39;00m\u001b[43mStud5\u001b[49m\u001b[38;5;241;43m.\u001b[39;49m\u001b[43m__wealth\u001b[49m\u001b[38;5;132;01m}\u001b[39;00m\u001b[38;5;124m\"\u001b[39m)\n",
      "\u001b[1;31mAttributeError\u001b[0m: 'Student' object has no attribute '__wealth'"
     ]
    }
   ],
   "source": [
    "print(f\"尝试访问Private属性wealth: {Stud5.__wealth}\")"
   ]
  },
  {
   "cell_type": "code",
   "execution_count": 63,
   "id": "c14cc330-56ce-4110-8b3c-f5df55141b53",
   "metadata": {},
   "outputs": [
    {
     "ename": "AttributeError",
     "evalue": "'Student' object has no attribute 'show_wealth'",
     "output_type": "error",
     "traceback": [
      "\u001b[1;31m---------------------------------------------------------------------------\u001b[0m",
      "\u001b[1;31mAttributeError\u001b[0m                            Traceback (most recent call last)",
      "Cell \u001b[1;32mIn[63], line 1\u001b[0m\n\u001b[1;32m----> 1\u001b[0m \u001b[43mStud5\u001b[49m\u001b[38;5;241;43m.\u001b[39;49m\u001b[43mshow_wealth\u001b[49m()\n",
      "\u001b[1;31mAttributeError\u001b[0m: 'Student' object has no attribute 'show_wealth'"
     ]
    }
   ],
   "source": [
    "Stud5.show_wealth()"
   ]
  },
  {
   "cell_type": "markdown",
   "id": "34e0e8b8-b6a5-4733-b54a-34ad5631c29e",
   "metadata": {},
   "source": [
    "# 继承\n",
    "\n"
   ]
  },
  {
   "cell_type": "code",
   "execution_count": 58,
   "id": "519a5403-a3de-4f6c-8785-de0034f95ad6",
   "metadata": {},
   "outputs": [],
   "source": [
    "# Class Student --> Graded_Student\n",
    "#coding:utf8\n",
    "class Graded_Student(Student):  # 括号里面加入父类的名称\n",
    "    def __init__(self, name, age, research_topic, thesis_title):\n",
    "        super().__init__(name, age)  # super() call parent class attributes!\n",
    "        self.research_topic = research_topic\n",
    "        self.thesis_title = thesis_title\n",
    "\n",
    "    def get_info(self):\n",
    "        base_info= super().get_info()\n",
    "        return f\"{base_info}, 研究方向是:{self.research_topic}, 研究课题是：{self.thesis_title}\"       "
   ]
  },
  {
   "cell_type": "code",
   "execution_count": 61,
   "id": "f1f55cc1-a223-40a2-aa69-dd932828eb5c",
   "metadata": {},
   "outputs": [
    {
     "data": {
      "text/plain": [
       "99.0"
      ]
     },
     "execution_count": 61,
     "metadata": {},
     "output_type": "execute_result"
    }
   ],
   "source": [
    "grad_stud1 = Graded_Student(\"李飞飞\", 20, \"人工智能\",\"深度学习在图形识别中的应用\")\n",
    "grad_stud1.add_grade(100)\n",
    "grad_stud1.add_grade(98)\n",
    "grad_stud1.get_av_grade()"
   ]
  },
  {
   "cell_type": "code",
   "execution_count": 62,
   "id": "8b38a8af-7bdf-4e1d-9532-f7364d0aad01",
   "metadata": {},
   "outputs": [
    {
     "data": {
      "text/plain": [
       "'学生姓名:李飞飞, 年龄：20， 平均成绩：99.00, 研究方向是:人工智能, 研究课题是：深度学习在图形识别中的应用'"
      ]
     },
     "execution_count": 62,
     "metadata": {},
     "output_type": "execute_result"
    }
   ],
   "source": [
    "grad_stud1.get_info()"
   ]
  }
 ],
 "metadata": {
  "kernelspec": {
   "display_name": "Python 3 (ipykernel)",
   "language": "python",
   "name": "python3"
  },
  "language_info": {
   "codemirror_mode": {
    "name": "ipython",
    "version": 3
   },
   "file_extension": ".py",
   "mimetype": "text/x-python",
   "name": "python",
   "nbconvert_exporter": "python",
   "pygments_lexer": "ipython3",
   "version": "3.10.14"
  }
 },
 "nbformat": 4,
 "nbformat_minor": 5
}
