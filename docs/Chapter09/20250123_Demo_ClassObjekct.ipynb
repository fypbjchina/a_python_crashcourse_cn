{
 "cells": [
  {
   "cell_type": "markdown",
   "id": "c329ce74-ea46-43ea-9db7-cca29127db22",
   "metadata": {},
   "source": [
    "# Class类 and Object对象\n",
    "\n",
    "回顾上次讲解的知识点：\n",
    "- 理解基础概念: 什么是类，什么是对象，为什么需要类，为什么需要对象\n",
    "- Python类和对象编程基本框架和运用流程\n",
    "  1. 继承： 子类申明中传入父类类名\n",
    "  2. 构建函数： 使用来调用父类的构造函数，用于初始化继承的属性\n",
    "  3. 方法重新（如有需求）\n",
    "  3.1.申明类： 明白 __init__() 和self\n",
    "  4. 实例化对象，也叫创建对象\n",
    "  5. 使用对象：运用对象的功能来实现目标或解决问题：，给属性赋值或修改属性，调用对象的方法"
   ]
  },
  {
   "cell_type": "code",
   "execution_count": 4,
   "id": "2fd6dc40-c7e9-4c42-b98c-9fac110fa559",
   "metadata": {},
   "outputs": [
    {
     "name": "stdout",
     "output_type": "stream",
     "text": [
      "Rectangle(width=10, height=5)\n",
      "Area: 50\n",
      "Perimeter: 30\n"
     ]
    },
    {
     "data": {
      "text/plain": [
       "'Rectangle(width=10, height=5)'"
      ]
     },
     "execution_count": 4,
     "metadata": {},
     "output_type": "execute_result"
    }
   ],
   "source": [
    "class Rectangle:\n",
    "    \"\"\"Represents a rectangle.\"\"\"\n",
    "\n",
    "    def __init__(self, width, height):\n",
    "        self.width = width\n",
    "        self.height = height\n",
    "        \n",
    "    def area(self):\n",
    "        \"\"\"Calculate the area of the rectangle.\"\"\"\n",
    "        return self.width * self.height\n",
    "\n",
    "    def perimeter(self):\n",
    "        \"\"\"Calculate the perimeter of the rectangle.\"\"\"\n",
    "        return 2 * (self.width + self.height)\n",
    "\n",
    "    def __str__(self):\n",
    "        return f\"Rectangle(width={self.width}, height={self.height})\"\n",
    "\n",
    "# Instance\n",
    "rect = Rectangle(10, 5)\n",
    "print(rect)                     # Rectangle(width=10, height=5)\n",
    "print(\"Area:\", rect.area())       # Area: 50\n",
    "print(\"Perimeter:\", rect.perimeter())  # Perimeter: 30\n",
    "rect.__str__()"
   ]
  },
  {
   "cell_type": "markdown",
   "id": "b1749236-abed-4e84-bdf1-6e8fcc7d6bc3",
   "metadata": {},
   "source": [
    "## Class Encapsulaton \n",
    "\n",
    "可以对类的属性进行封装，从而保护属性数据，控制内部“隐私（数据）”是否允许被外部窥见或被外部修改。\n",
    "\n",
    "软件实现方法：定义保护类型\n",
    "- Public attributes/methods: 随意访问和使用\n",
    "- Protected attributes/methods: 单下划线single underscore (_)+属性名, 用于内部使用\n",
    "- Private attributes/methods: 双下划线double underscores (__)+属性名, 不能直接访问\n",
    "\n"
   ]
  },
  {
   "cell_type": "code",
   "execution_count": 5,
   "id": "1538965a-611f-4341-b003-53ddcce9f721",
   "metadata": {},
   "outputs": [],
   "source": [
    "# code example\n",
    "class MyClass:\n",
    "\n",
    "    def __init__(self, Public, Protected, Private):\n",
    "        self.Public = Public\n",
    "        self._Protected = Protected\n",
    "        self.__Private = Private\n",
    "\n",
    "    pass"
   ]
  },
  {
   "cell_type": "markdown",
   "id": "4a27c592-9a1a-4ad1-8faf-6fe3498c2026",
   "metadata": {},
   "source": [
    "## 类的继承 - 虚拟世界也有一部进化史\n",
    "\n",
    "明白原理：为什么要继承？\n",
    "\n",
    "如何用Code实现继承关系\n",
    "1. 继承： 子类申明中传入父类类名\n",
    "2. 构建函数： 使用来调用父类的构造函数，用于初始化继承的属性\n",
    "3. 方法重新（如有需求）\n",
    "\n",
    "\n",
    "**小Tipp**  这是一个烧脑的问题： 我要怎样下手写类？\n",
    "- 我的心得：活在当下，一切从简"
   ]
  },
  {
   "cell_type": "code",
   "execution_count": 90,
   "id": "5ed04268-5f1f-46f7-9cc7-68c119322c46",
   "metadata": {},
   "outputs": [],
   "source": [
    "# code example Student\n",
    "class Student:\n",
    "    \"\"\"define a student\"\"\"\n",
    "    def __init__(self, name, age):\n",
    "        self.name = name\n",
    "        self.age = age\n",
    "        self.grades = []\n",
    "\n",
    "    def add_grade(self, grade):\n",
    "        \"\"\"add grade\"\"\"\n",
    "        return self.grades.append(grade)\n",
    "\n",
    "    def get_av_grade(self):\n",
    "        \"\"\"calculate the average grade\"\"\"\n",
    "        if not self.grades:\n",
    "            return 0\n",
    "        return sum(self.grades)/len(self.grades)\n",
    "\n",
    "    def get_info(self):\n",
    "        return f\"学生姓名:{self.name}, 年龄：{self.age}， 平均成绩：{self.get_av_grade():.2f}\"\n",
    "\n",
    "     "
   ]
  },
  {
   "cell_type": "code",
   "execution_count": 72,
   "id": "a8041835-8889-4f4d-9a00-23c5d48b59fa",
   "metadata": {},
   "outputs": [
    {
     "ename": "SyntaxError",
     "evalue": "invalid syntax (3237090799.py, line 3)",
     "output_type": "error",
     "traceback": [
      "\u001b[1;36m  Cell \u001b[1;32mIn[72], line 3\u001b[1;36m\u001b[0m\n\u001b[1;33m    \"\"\"define a student\"\"\"\u001b[0m\n\u001b[1;37m       ^\u001b[0m\n\u001b[1;31mSyntaxError\u001b[0m\u001b[1;31m:\u001b[0m invalid syntax\n"
     ]
    }
   ],
   "source": [
    "\"\"\"\n",
    "class Student:\n",
    "    \"\"\"define a student\"\"\"\n",
    "    def __init__(self, name, age, grades=None):\n",
    "        self.name = name\n",
    "        self.age = age\n",
    "        self.grades = []\n",
    " \n",
    "    def add_grade(self, grade):\n",
    "        \"\"\"add grade to score\"\"\"\n",
    "        print(f\"test: {self.grades}\")\n",
    "        self.grades.append(grade)\n",
    " \n",
    "    def get_av_grade(self):\n",
    "        \"\"\"calculate the average score\"\"\"\n",
    "#        if not self.grades:\n",
    "#            return 0\n",
    "        return sum(self.grades)/len(self.grades)\n",
    " \n",
    "    def get_info(self):\n",
    "        return f\"学生姓名:{self.name}, 年龄：{self.age}， 成绩：{self.grades}\"   \n",
    "\n",
    "\"\"\""
   ]
  },
  {
   "cell_type": "code",
   "execution_count": 91,
   "id": "7bb68266-27b7-4ee5-ac02-6f5c1a49c4c2",
   "metadata": {},
   "outputs": [],
   "source": [
    "Stud1 = Student(\"Li\",21)\n",
    "Stud2= Student(\"Wang\",20)\n",
    "Stud3 = Student(\"Zhang\", 21)\n",
    "Stud4 = Student(\"Zhao\", 20)"
   ]
  },
  {
   "cell_type": "code",
   "execution_count": 92,
   "id": "fed92a6c-3eb4-41b2-8fa5-c668b89d7e06",
   "metadata": {},
   "outputs": [],
   "source": [
    "Stud1.add_grade(80)\n",
    "Stud2.add_grade(90)\n",
    "Stud1.add_grade(88)"
   ]
  },
  {
   "cell_type": "code",
   "execution_count": 83,
   "id": "db434f4a-6e31-4980-8cb5-02b2df7c813e",
   "metadata": {},
   "outputs": [
    {
     "data": {
      "text/plain": [
       "84.0"
      ]
     },
     "execution_count": 83,
     "metadata": {},
     "output_type": "execute_result"
    }
   ],
   "source": [
    "Stud1.get_av_grade()"
   ]
  },
  {
   "cell_type": "code",
   "execution_count": 84,
   "id": "02446857-bd2e-4c05-9ecb-11b23723a8b6",
   "metadata": {},
   "outputs": [
    {
     "name": "stdout",
     "output_type": "stream",
     "text": [
      "学生姓名:Wang, 年龄：20， 平均成绩：90.00\n"
     ]
    }
   ],
   "source": [
    "print(Stud2.get_info())"
   ]
  },
  {
   "cell_type": "code",
   "execution_count": 78,
   "id": "002961e2-9f58-418b-b6a0-34d9a9c052ab",
   "metadata": {},
   "outputs": [
    {
     "data": {
      "text/plain": [
       "80.0"
      ]
     },
     "execution_count": 78,
     "metadata": {},
     "output_type": "execute_result"
    }
   ],
   "source": [
    "Stud1.get_av_grade()"
   ]
  },
  {
   "cell_type": "code",
   "execution_count": 93,
   "id": "2965c93d-1774-42c6-a761-b5cce36a6b29",
   "metadata": {},
   "outputs": [
    {
     "data": {
      "text/plain": [
       "'学生姓名:Li, 年龄：21， 平均成绩：89.00'"
      ]
     },
     "execution_count": 93,
     "metadata": {},
     "output_type": "execute_result"
    }
   ],
   "source": [
    "Stud1.add_grade(99)\n",
    "Stud1.get_info()"
   ]
  }
 ],
 "metadata": {
  "kernelspec": {
   "display_name": "Python 3 (ipykernel)",
   "language": "python",
   "name": "python3"
  },
  "language_info": {
   "codemirror_mode": {
    "name": "ipython",
    "version": 3
   },
   "file_extension": ".py",
   "mimetype": "text/x-python",
   "name": "python",
   "nbconvert_exporter": "python",
   "pygments_lexer": "ipython3",
   "version": "3.10.14"
  }
 },
 "nbformat": 4,
 "nbformat_minor": 5
}
