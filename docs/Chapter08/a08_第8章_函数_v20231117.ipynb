{
 "cells": [
  {
   "cell_type": "markdown",
   "id": "e27a4d82",
   "metadata": {},
   "source": [
    "# Python编程：从入门到实践（第2版）/ 20230323 <a class=\"tocSkip\">"
   ]
  },
  {
   "cell_type": "markdown",
   "id": "8bd7159c",
   "metadata": {},
   "source": [
    "# 第 8 章　函数 / 20230506 <a class=tocSkip>"
   ]
  },
  {
   "cell_type": "markdown",
   "id": "a17a368d",
   "metadata": {},
   "source": [
    "函数是带名字的代码块，用于完成具体的工作。\n",
    "\n",
    "要执行函数定义的特定任务，可调用 该函数。"
   ]
  },
  {
   "cell_type": "markdown",
   "id": "a9ad8847",
   "metadata": {},
   "source": [
    "8.1　定义函数"
   ]
  },
  {
   "cell_type": "code",
   "execution_count": null,
   "id": "12fa0bde",
   "metadata": {},
   "outputs": [],
   "source": [
    "# a08_1_f_welcome().py\n",
    "# 定义函数-welcome(): 关键字def\n",
    "\n",
    "def welcome():\n",
    "    \"\"\"问候语\"\"\" # 文档字符串 (docstring）的注释，描述了函数是做什么的\n",
    "    \n",
    "    hints = \"Please kindly enter your name ('quit' for stopping),\\n\"\n",
    "    hints += \"Your input is:\\t\"\n",
    "       \n",
    "    while True:        \n",
    "        name = input(hints)\n",
    "        \n",
    "        if name.lower() == 'quit':\n",
    "            break            \n",
    "        else:\n",
    "            print(f\"Hello, {name.title()}, welcome to join Python-Beginner\\n\")\n",
    "\n",
    "welcome()"
   ]
  },
  {
   "cell_type": "markdown",
   "id": "6c829322",
   "metadata": {},
   "source": [
    "8.1.1　向函数传递信息"
   ]
  },
  {
   "cell_type": "code",
   "execution_count": null,
   "id": "b7441d77",
   "metadata": {},
   "outputs": [],
   "source": [
    "# a08_1_1_f_welcome(name).py\n",
    "# 定义函数 - welcome() 的括号内添加 参数 - name \n",
    "\n",
    "def welcome(name):\n",
    "    \"\"\"问候语\"\"\"\n",
    "    print(f\"Hello, {name.title()}, welcome to join Python-Beginner!\")\n",
    "\n",
    "name_1 = 'zhang 4'    \n",
    "\n",
    "welcome(name_1)"
   ]
  },
  {
   "cell_type": "raw",
   "id": "afcd508f",
   "metadata": {},
   "source": [
    "8.1.2　实参和形参\n",
    "上例中，name是形参，而'zhang 3'是实参， 实参值赋给函数的形参name"
   ]
  },
  {
   "cell_type": "raw",
   "id": "194cfecf",
   "metadata": {},
   "source": [
    "练习8-1：消息 　编写一个名为display_message() 的函数，它打印一个句子，指出你在本章学的是什么。\n",
    "调用这个函数，确认显示的消息正确无误。"
   ]
  },
  {
   "cell_type": "raw",
   "id": "04936f6a",
   "metadata": {},
   "source": [
    "练习8-2：喜欢的图书 　编写一个名为favorite_book() 的函数，其中包含一个名为title 的形参。\n",
    "这个函数打印一条消息，下面是一个例子。\n",
    "One of my favorite books is Alice in Wonderland.\n",
    "调用这个函数，并将一本图书的名称作为实参传递给它。"
   ]
  },
  {
   "cell_type": "raw",
   "id": "b9aaa53b",
   "metadata": {},
   "source": [
    "8.2　传递实参\n",
    "函数定义中可能包含多个形参，因此函数调用中也可能包含多个实参。\n",
    "向函数传递实参的方式很多：可使用位置实参 ，这要求实参的顺序与形参的顺序相同；\n",
    "也可使用关键字实参 ，其中每个实参都由变量名和值组成；还可使用列表和字典。"
   ]
  },
  {
   "cell_type": "raw",
   "id": "a48290bb",
   "metadata": {},
   "source": [
    "8.2.1　位置实参\n",
    "最简单的关联方式是基于实参的顺序。这种关联方式称为位置实参 。\n",
    "a. 多次调用函数\n",
    "b. 位置实参的顺序很重要"
   ]
  },
  {
   "cell_type": "code",
   "execution_count": null,
   "id": "23962155",
   "metadata": {},
   "outputs": [],
   "source": [
    "# a08_2_1_f_friend().py\n",
    "# 定义函数friend() - 位置实参\n",
    "\n",
    "def friend(name, time, location, country):\n",
    "    \"\"\"显示最初认识朋友时的信息\"\"\"\n",
    "    print(f\"Friend Info.:\")\n",
    "    print(f\"{name}\\t\\t{time}\\t{location.title()}  @ {country.upper()}\\n\")\n",
    "\n",
    "friend(20040401,'zhang 3', 'beijing', 'china')\n",
    "friend('li 4', 20190801, 'horb', 'germany')\n",
    "friend('wang 5', 20220801, 'rottenburg', 'germany')"
   ]
  },
  {
   "cell_type": "raw",
   "id": "111d007e",
   "metadata": {},
   "source": [
    "8.2.2　关键字实参\n",
    "关键字实参 是传递给函数的名称值对。"
   ]
  },
  {
   "cell_type": "code",
   "execution_count": 1,
   "id": "bbc43da3",
   "metadata": {},
   "outputs": [
    {
     "name": "stdout",
     "output_type": "stream",
     "text": [
      "Friend Info.:\n",
      "Zhang 3\t\t20040401\tBeijing @ CHINA\n",
      "\n",
      "Friend Info.:\n",
      "Li 4\t\t20190801\tHorb @ GERMANY\n",
      "\n",
      "Friend Info.:\n",
      "Wang 5\t\t20220801\tRottenburg @ GERMANY\n",
      "\n"
     ]
    }
   ],
   "source": [
    "# a08_2_2_f_friend().py\n",
    "# 定义函数friend() - 关键字实参\n",
    "\n",
    "def friend(name, time, location, country):\n",
    "    \"\"\"显示最初认识朋友时的信息\"\"\"\n",
    "    print(f\"Friend Info.:\")\n",
    "    print(f\"{name.title()}\\t\\t{time}\\t{location.title()} @ {country.upper()}\\n\")\n",
    "\n",
    "friend(name='zhang 3', time=20040401, location='beijing', country='china')\n",
    "friend(time=20190801, name='li 4', country='germany', location='horb') # 打乱位置顺序，名称值对正确，结果正确\n",
    "friend(name='wang 5', time=20220801, location='rottenburg', country='germany')"
   ]
  },
  {
   "cell_type": "code",
   "execution_count": 9,
   "id": "8bd5882f",
   "metadata": {},
   "outputs": [],
   "source": [
    "def friend(name, time, country, location=None):\n",
    "    \"\"\"显示最初认识朋友时的信息\"\"\"\n",
    "    print(f\"Friend Info.:\")\n",
    "    print(f\"{name.title()}\\t\\t{time}\\t{location.title()} @ {country.upper()}\\n\")"
   ]
  },
  {
   "cell_type": "code",
   "execution_count": 13,
   "id": "19beadd0",
   "metadata": {},
   "outputs": [
    {
     "name": "stdout",
     "output_type": "stream",
     "text": [
      "Friend Info.:\n",
      "Zhang 3\t\t20040401\tBeijing @ CHINA\n",
      "\n"
     ]
    }
   ],
   "source": [
    "friend('zhang 3', 20040401, 'china', location='beijing') # 位置实参"
   ]
  },
  {
   "cell_type": "raw",
   "id": "bf8bfa00",
   "metadata": {},
   "source": [
    "8.2.3　默认值\n",
    "编写函数时，可给每个形参指定默认值。\n",
    "在调用函数中给形参提供了实参时，Python将使用指定的实参值；否则，将使用形参的默认值。\n",
    "因此，给形参指定默认值后，可在函数调用中省略相应的实参。"
   ]
  },
  {
   "cell_type": "code",
   "execution_count": 1,
   "id": "8b867930",
   "metadata": {},
   "outputs": [
    {
     "name": "stdout",
     "output_type": "stream",
     "text": [
      "Friend Info.:\n",
      "Zhang 3\t\t20040401\tBeijing @ CHINA\n",
      "\n",
      "Friend Info.:\n",
      "Li 4\t\t20190801\tHorb @ GERMANY\n",
      "\n",
      "Friend Info.:\n",
      "Wang 5\t\t20220801\tRottenburg @ GERMANY\n",
      "\n"
     ]
    }
   ],
   "source": [
    "# a08_2_3_f_friend().py\n",
    "# 定义函数friend() - 默认值\n",
    "\n",
    "def friend(name, time, location='beijing', country='china'):\n",
    "    \"\"\"显示最初认识朋友时的信息\"\"\"\n",
    "    print(f\"Friend Info.:\")\n",
    "    print(f\"{name.title()}\\t\\t{time}\\t{location.title()} @ {country.upper()}\\n\")\n",
    "\n",
    "f01 = friend(name='zhang 3', time=20040401) # 使用形参默认值\n",
    "f02 = friend(time=20190801, name='li 4', country='germany', location='horb') # 实参替换默认值，关键字实参\n",
    "f03 = friend('wang 5', 20220801, 'rottenburg', 'germany') # 实参替换默认值，位置实参"
   ]
  },
  {
   "cell_type": "raw",
   "id": "4766f023",
   "metadata": {},
   "source": [
    "8.2.4　等效的函数调用\n",
    "鉴于可混合使用位置实参、关键字实参和默认值，通常有多种等效的函数调用方式。(如上例)"
   ]
  },
  {
   "cell_type": "raw",
   "id": "ffb234a1",
   "metadata": {},
   "source": [
    "8.2.5　避免实参错误"
   ]
  },
  {
   "cell_type": "raw",
   "id": "07d13c22",
   "metadata": {},
   "source": [
    "练习8-3：T恤 　编写一个名为make_shirt() 的函数，它接受一个尺码以及要印到T恤上的字样。\n",
    "这个函数应打印一个句子，概要地说明T恤的尺码和字样。\n",
    "使用位置实参调用该函数来制作一件T恤，再使用关键字实参来调用这个函数。"
   ]
  },
  {
   "cell_type": "raw",
   "id": "4cae727f",
   "metadata": {},
   "source": [
    "练习8-4：大号T恤 　修改函数make_shirt() ，\n",
    "使其在默认情况下制作一件印有“I love Python”字样的大号T恤。\n",
    "调用这个函数来制作：一件印有默认字样的大号T恤，一件"
   ]
  },
  {
   "cell_type": "raw",
   "id": "d8ef3820",
   "metadata": {},
   "source": [
    "练习8-5：城市 　编写一个名为describe_city() 的函数，它接受一座城市的名字以及该城市所属的国家。\n",
    "这个函数应打印一个简单的句子，下面是一个例子。\n",
    "Reykjavik is in Iceland.\n",
    "给用于存储国家的形参指定默认值。为三座不同的城市调用这个函数，且其中至少有一座城市不属于默认国家。"
   ]
  },
  {
   "cell_type": "raw",
   "id": "fc8e4872",
   "metadata": {},
   "source": [
    "8.3　返回值\n",
    "函数并非总是直接显示输出，它还可以处理一些数据，并返回一个或一组值。\n",
    "函数返回的值称为返回值。\n",
    "return 语句将值返回到调用函数的代码行。"
   ]
  },
  {
   "cell_type": "raw",
   "id": "072b17a9",
   "metadata": {},
   "source": [
    "8.3.1　返回简单值"
   ]
  },
  {
   "cell_type": "code",
   "execution_count": 6,
   "id": "f4371f30",
   "metadata": {},
   "outputs": [
    {
     "name": "stdout",
     "output_type": "stream",
     "text": [
      "my friend's name is: \t3.Zhang\n"
     ]
    }
   ],
   "source": [
    "# a08_3_1_f_name().py\n",
    "# 定义函数name(): return语句 - 返回值\n",
    "\n",
    "def name(first_name, last_name):\n",
    "    \"\"\"返回格式为first_name.last_name的名字\"\"\"\n",
    "    full_name = f\"{first_name}.{last_name}\"\n",
    "    # print(full_name)\n",
    "    return full_name.title()\n",
    "\n",
    "friend_name = name('3', 'zhang')\n",
    "print(f\"my friend's name is: \\t{friend_name}\")"
   ]
  },
  {
   "cell_type": "raw",
   "id": "79e29966",
   "metadata": {},
   "source": [
    "8.3.2　让实参变成可选的"
   ]
  },
  {
   "cell_type": "code",
   "execution_count": 8,
   "id": "c22026ed",
   "metadata": {},
   "outputs": [
    {
     "name": "stdout",
     "output_type": "stream",
     "text": [
      "3.Zhang\n",
      "4.A.Li\n"
     ]
    }
   ],
   "source": [
    "# a08_3_2_f_name().py\n",
    "# 定义函数name(): 实参可选，形参位于末尾，默认为空，如mid_name\n",
    "\n",
    "def name(first_name, last_name, mid_name=''):\n",
    "    \"\"\"返回格式为first_name.mid_name.last_name的名字\"\"\"\n",
    "    if mid_name:\n",
    "        full_name = f\"{first_name}.{mid_name}.{last_name}\"\n",
    "    else:\n",
    "        full_name = f\"{first_name}.{last_name}\"\n",
    "    return full_name.title()\n",
    "\n",
    "friend_name_01 = name('3', 'zhang') # 无mid_name, 默认形参为空\n",
    "friend_name_02 = name('4', 'li', 'a') # 有mid_name, 替换默认形参\n",
    "\n",
    "print(friend_name_01)\n",
    "print(friend_name_02)"
   ]
  },
  {
   "cell_type": "raw",
   "id": "747acc12",
   "metadata": {},
   "source": [
    "8.3.3　返回字典\n",
    "函数可返回任何类型的值，包括列表和字典等较复杂的数据结构。"
   ]
  },
  {
   "cell_type": "code",
   "execution_count": 9,
   "id": "8a4dfb64",
   "metadata": {},
   "outputs": [
    {
     "name": "stdout",
     "output_type": "stream",
     "text": [
      "{'first': '3', 'last': 'zhang'}\n",
      "{'first': '4', 'last': 'li', 'age': 20}\n"
     ]
    }
   ],
   "source": [
    "# a08_3_3_f_name_dic().py\n",
    "# 定义函数name_dic(): return语句 - 返回字典\n",
    "\n",
    "def name_dic(first_name, last_name, age=False):\n",
    "    \"\"\"返回一个字典，包含人名信息\"\"\"\n",
    "    person = {'first': first_name, 'last': last_name}\n",
    "    if age:\n",
    "        person['age'] = age # 有age信息，添加键值对 'age'-age 到字典\n",
    "    return person \n",
    "\n",
    "friend_name_01 = name_dic('3', 'zhang') # 无age, 默认形参为空, None=''=False\n",
    "friend_name_02 = name_dic('4', 'li', age=20) # 关键字实参age 等效 位置实参age\n",
    "\n",
    "print(friend_name_01)\n",
    "print(friend_name_02)"
   ]
  },
  {
   "cell_type": "raw",
   "id": "7f6a1801",
   "metadata": {},
   "source": [
    "8.3.4　结合使用函数和while 循环\n",
    "使用break 语句提供退出循环的简单途径"
   ]
  },
  {
   "cell_type": "code",
   "execution_count": 10,
   "id": "8f3da6ce",
   "metadata": {},
   "outputs": [
    {
     "name": "stdout",
     "output_type": "stream",
     "text": [
      "\n",
      "Please tell me your name:\n",
      "(enter 'q' at any time to quit)\n",
      "First name:\t3\n",
      "Last name:\tzhang\n",
      "\n",
      "Hello, 3.Zhang!\n",
      "\n",
      "Please tell me your name:\n",
      "(enter 'q' at any time to quit)\n",
      "First name:\tq\n"
     ]
    }
   ],
   "source": [
    "# a08_3_4_f_name().py\n",
    "# 结合使用函数和while循环\n",
    "\n",
    "def name(first_name, last_name):\n",
    "    \"\"\"返回整洁的姓名\"\"\"\n",
    "    full_name = f\"{first_name}.{last_name}\"\n",
    "    return full_name.title()\n",
    "\n",
    "while True:\n",
    "    print(\"\\nPlease tell me your name:\")\n",
    "    print(\"(enter 'q' at any time to quit)\")\n",
    "    f_name = input(\"First name:\\t\")\n",
    "    if f_name == 'q':\n",
    "        break\n",
    "    \n",
    "    l_name = input(\"Last name:\\t\")\n",
    "    if l_name == 'q':\n",
    "        break\n",
    "    \n",
    "    formatted_name = name(f_name, l_name)\n",
    "    print(f\"\\nHello, {formatted_name}!\")"
   ]
  },
  {
   "cell_type": "raw",
   "id": "cc9c6269",
   "metadata": {},
   "source": [
    "练习8-6：城市名 　编写一个名为city_country() 的函数，\n",
    "它接受城市的名称及其所属的国家。这个函数应返回一个格式类似于下面的字符串：\n",
    "至少使用三个城市国家对来调用这个函数，并打印它返回的值。"
   ]
  },
  {
   "cell_type": "raw",
   "id": "5e660d1e",
   "metadata": {},
   "source": [
    "练习8-7：专辑 　编写一个名为make_album() 的函数，它创建一个描述音乐专辑的字典。\n",
    "这个函数应接受歌手的名字和专辑名，并返回一个包含这两项信息的字典。\n",
    "使用这个函数创建三个表示不同专辑的字典，并打印每个返回的值，以核实字典正确地存储了专辑的信息。\n",
    "给函数make_album() 添加一个默认值为None 的可选形参，以便存储专辑包含的歌曲数。\n",
    "如果调用这个函数时指定了歌曲数，就将该值添加到表示专辑的字典中。\n",
    "调用这个函数，并至少在一次调用中指定专辑包含的歌曲数。"
   ]
  },
  {
   "cell_type": "raw",
   "id": "aa8b1845",
   "metadata": {},
   "source": [
    "练习8-8：用户的专辑 　在为完成练习8-7编写的程序中，编写一个while 循环，让用户输入专辑的歌手和名称。\n",
    "获取这些信息后，使用它们来调用函数make_album() 并将创建的字典打印出来。\n",
    "在这个while 循环中，务必提供退出途径。"
   ]
  },
  {
   "cell_type": "raw",
   "id": "202ad48d",
   "metadata": {},
   "source": [
    "8.4　传递列表"
   ]
  },
  {
   "cell_type": "code",
   "execution_count": null,
   "id": "eb3dbaba",
   "metadata": {},
   "outputs": [],
   "source": [
    "# a08_4_f_welcome(names).py\n",
    "# 定义函数welcome(names): 传递列表\n",
    "\n",
    "def welcome(names):\n",
    "    \"\"\"问候列表中的每一位\"\"\"\n",
    "    for name in names:\n",
    "        print(f\"Hello, {name.title()}, welcome to join us!\")\n",
    "\n",
    "name_list = ['3.zhang', '4.li', '5.wang']\n",
    "welcome(name_list)"
   ]
  },
  {
   "cell_type": "raw",
   "id": "cc0bd029",
   "metadata": {},
   "source": [
    "8.4.1　在函数中修改列表\n",
    "函数中对这个列表所做的任何修改都是永久性的"
   ]
  },
  {
   "cell_type": "code",
   "execution_count": 11,
   "id": "5a27c003",
   "metadata": {},
   "outputs": [
    {
     "name": "stdout",
     "output_type": "stream",
     "text": [
      "Current use tag:\tF\n",
      "Current use tag:\tE\n",
      "Current use tag:\tD\n",
      "Current use tag:\tc\n",
      "Current use tag:\tb\n",
      "Current use tag:\ta\n",
      "\n",
      "The tags status are:\n",
      "Used tags list:\t['a', 'b', 'c', 'd', 'e', 'f']\n",
      "new tags list:\t[]\n"
     ]
    }
   ],
   "source": [
    "# a08_4_1a_m_tag.py\n",
    "# 模块tag包含两个函数，第一个函数负责打印标签，第二个负责显示打印过后的标签信息\n",
    "# 使用pop()方法弹出列表最后一个元素\n",
    "\n",
    "def print_tags(new_tags, used_tags):\n",
    "   \"\"\"模拟打印每个标签，直到没有标签为止。\n",
    "   使用过的标签，都将移动到列表used_tags中。\n",
    "    \"\"\"\n",
    "   while new_tags:\n",
    "       use_tag = new_tags.pop() # pop()默认弹出列表最后一个元素，pop(0)弹出第一元素\n",
    "       print(f\"Current use tag:\\t{use_tag}\")\n",
    "       used_tags.append(use_tag.lower())\n",
    "\n",
    "            \n",
    "def show_tags(new_tags, used_tags):\n",
    "    \"\"\"显示打印过后的标签列表状态\"\"\"\n",
    "    used_tags = sorted(used_tags)\n",
    "    print(\"\\nThe tags status are:\")\n",
    "    print(f\"Used tags list:\\t{used_tags}\")\n",
    "    print(f\"new tags list:\\t{new_tags}\")\n",
    "\n",
    "new_tags = ['a','b','c','D','E','F']\n",
    "used_tags = []\n",
    "\n",
    "print_tags(new_tags, used_tags)\n",
    "show_tags(new_tags, used_tags)"
   ]
  },
  {
   "cell_type": "code",
   "execution_count": 12,
   "id": "aa9fe1cc",
   "metadata": {},
   "outputs": [
    {
     "name": "stdout",
     "output_type": "stream",
     "text": [
      "Current use tag:\ta\n",
      "['b', 'c', 'D', 'E', 'F']\n",
      "Current use tag:\tb\n",
      "['c', 'D', 'E', 'F']\n",
      "Current use tag:\tc\n",
      "['D', 'E', 'F']\n",
      "Current use tag:\tD\n",
      "['E', 'F']\n",
      "Current use tag:\tE\n",
      "['F']\n",
      "Current use tag:\tF\n",
      "[]\n",
      "\n",
      "The tags status are:\n",
      "Used tags list:\t['a', 'b', 'c', 'd', 'e', 'f']\n",
      "new tags list:\t[]\n"
     ]
    }
   ],
   "source": [
    "# a08_4_1b_m_tag.py\n",
    "# 模块tag包含两个函数，第一个函数负责打印标签，第二个负责显示打印过后的标签信息\n",
    "# 使用del语句删除\n",
    "\n",
    "def print_tags(new_tags, used_tags):\n",
    "    \"\"\"模拟打印每个标签，直到没有标签为止。\n",
    "    使用过的标签，都将移动到列表used_tags中。\n",
    "    \"\"\"\n",
    "    while new_tags:\n",
    "        for x in new_tags:\n",
    "            print(f\"Current use tag:\\t{new_tags[0]}\")\n",
    "            used_tags.append(new_tags[0].lower())\n",
    "            del new_tags[0] # del语句删除列表中第一位置的元素 ?\n",
    "            print(new_tags)\n",
    "            \n",
    "def show_tags(new_tags, used_tags):\n",
    "    \"\"\"显示打印过后的标签列表状态\"\"\"\n",
    "    used_tags = sorted(used_tags)\n",
    "    print(\"\\nThe tags status are:\")\n",
    "    print(f\"Used tags list:\\t{used_tags}\")\n",
    "    print(f\"new tags list:\\t{new_tags}\")\n",
    "\n",
    "new_tags = ['a','b','c','D','E','F']\n",
    "used_tags = []\n",
    "\n",
    "print_tags(new_tags, used_tags)\n",
    "show_tags(new_tags, used_tags)"
   ]
  },
  {
   "cell_type": "raw",
   "id": "ee3ca353",
   "metadata": {},
   "source": [
    "8.4.2　禁止函数修改列表\n",
    "传递给函数列表副本 - 切片表示法[:]"
   ]
  },
  {
   "cell_type": "code",
   "execution_count": 13,
   "id": "18d357a2",
   "metadata": {},
   "outputs": [
    {
     "name": "stdout",
     "output_type": "stream",
     "text": [
      "Current use tag:\tF\n",
      "Current use tag:\tE\n",
      "Current use tag:\tD\n",
      "Current use tag:\tc\n",
      "Current use tag:\tb\n",
      "Current use tag:\ta\n",
      "\n",
      "The tags status are:\n",
      "Used tags list:\t['a', 'b', 'c', 'd', 'e', 'f']\n",
      "New tags list:\t['a', 'b', 'c', 'D', 'E', 'F']\n"
     ]
    }
   ],
   "source": [
    "# a08_4_2_m_tag.py\n",
    "# 模块tag包含两个函数，第一个函数负责打印标签，第二个负责显示打印过后的标签信息\n",
    "# 禁止函数修改列表: 传递给函数列表副本 - 切片表示法[:]\n",
    "\n",
    "def print_tags(new_tags, used_tags):\n",
    "    \"\"\"模拟打印每个标签，直到没有标签为止。\n",
    "    使用过的标签，都将移动到列表used_tags中。\n",
    "    \"\"\"\n",
    "    while new_tags:\n",
    "        use_tag = new_tags.pop() # pop()默认弹出列表最后一个元素，pop(0)弹出第一元素\n",
    "        print(f\"Current use tag:\\t{use_tag}\")\n",
    "        used_tags.append(use_tag.lower())\n",
    "            \n",
    "def show_tags(new_tags, used_tags):\n",
    "    \"\"\"显示打印过后的标签列表状态\"\"\"\n",
    "    used_tags = sorted(used_tags)\n",
    "    print(\"\\nThe tags status are:\")\n",
    "    print(f\"Used tags list:\\t{used_tags}\")\n",
    "    print(f\"New tags list:\\t{new_tags}\")\n",
    "\n",
    "new_tags = ['a','b','c','D','E','F']\n",
    "used_tags = []\n",
    "\n",
    "print_tags(new_tags[:], used_tags) # 向函数传递列表的副本, 函数所做的任何修改都只影响副本，而原件丝毫不受影响。\n",
    "show_tags(new_tags, used_tags)"
   ]
  },
  {
   "cell_type": "raw",
   "id": "afcde120",
   "metadata": {},
   "source": [
    "练习8-9：消息 　创建一个列表，其中包含一系列简短的文本消息。\n",
    "将该列表传递给一个名为show_messages() 的函数，这个函数会打印列表中的每条文本消息。"
   ]
  },
  {
   "cell_type": "raw",
   "id": "8ba6f542",
   "metadata": {},
   "source": [
    "练习8-10：发送消息 　在你为完成练习8-9而编写的程序中，编写一个名为send_messages() 的函数，\n",
    "将每条消息都打印出来并移到一个名为sent_messages 的列表中。\n",
    "调用函数send_messages() ，再将两个列表都打印出来，确认正确地移动了消息。"
   ]
  },
  {
   "cell_type": "raw",
   "id": "f6b2868b",
   "metadata": {},
   "source": [
    "练习8-11：消息归档 　修改你为完成练习8-10而编写的程序，在调用函数send_messages() 时，向它传递消息列表的副本。\n",
    "调用函数send_messages() 后，将两个列表都打印出来，确认保留了原始列表中的消息。"
   ]
  },
  {
   "cell_type": "raw",
   "id": "1d279e8e",
   "metadata": {},
   "source": [
    "8.5　传递任意数量的实参\n",
    "*args - *生成一个空元组"
   ]
  },
  {
   "cell_type": "code",
   "execution_count": 14,
   "id": "b475d5fb",
   "metadata": {},
   "outputs": [
    {
     "name": "stdout",
     "output_type": "stream",
     "text": [
      "('a', 'b', 'c')\n",
      "('a', 'b', 'c', 'D', 'E', 'F')\n"
     ]
    }
   ],
   "source": [
    "# a08_5a_f_tag_list(tags).py\n",
    "# 定义函数: 形参名 *tags 中的星号让Python创建一个名为 tags 的空元组，并将收到的所有值都封装到这个元组中。\n",
    "\n",
    "def tag_list(*tags): # *生成一个空元组\n",
    "    \"\"\"打印所有标签 - 元组\"\"\"\n",
    "    print(tags)\n",
    "\n",
    "tag_list('a', 'b', 'c')\n",
    "tag_list('a', 'b', 'c', 'D', 'E', 'F')"
   ]
  },
  {
   "cell_type": "code",
   "execution_count": 15,
   "id": "c9590796",
   "metadata": {},
   "outputs": [
    {
     "name": "stdout",
     "output_type": "stream",
     "text": [
      "List inclues follow tags:\n",
      "- a\n",
      "- b\n",
      "- c\n",
      "List inclues follow tags:\n",
      "- a\n",
      "- b\n",
      "- c\n",
      "- D\n",
      "- E\n",
      "- F\n"
     ]
    }
   ],
   "source": [
    "# a08_5b_f_tag_list(tags).py\n",
    "# 定义函数, 使用for循环遍历打印标签\n",
    "\n",
    "def tag_list(*tags): # *生成一个空元组\n",
    "    \"\"\"打印所有标签 - 标签元素\"\"\"\n",
    "    print(f\"List inclues follow tags:\")\n",
    "    for tag in tags:\n",
    "        print(f\"- {tag}\")\n",
    "\n",
    "tag_list('a', 'b', 'c')\n",
    "tag_list('a', 'b', 'c', 'D', 'E', 'F')"
   ]
  },
  {
   "cell_type": "raw",
   "id": "658c1af4",
   "metadata": {},
   "source": [
    "8.5.1　结合使用位置实参和任意数量实参\n",
    "函数接受不同类型的实参，必须在函数定义中将接纳任意数量实参的形参放在最后。\n",
    "Python先匹配位置实参和关键字实参，再将余下的实参都收集到最后一个形参中。\n",
    "通用形参名*args, 也收集任意数量的位置实"
   ]
  },
  {
   "cell_type": "code",
   "execution_count": 16,
   "id": "9df2a10e",
   "metadata": {},
   "outputs": [
    {
     "name": "stdout",
     "output_type": "stream",
     "text": [
      "Sample_01 inclues follow tags:\n",
      "- 01_a\n",
      "- 01_b\n",
      "- 01_c\n",
      "Sample_02 inclues follow tags:\n",
      "- 02_a\n",
      "- 02_b\n",
      "- 02_c\n",
      "- 02_D\n",
      "- 02_E\n",
      "- 02_F\n"
     ]
    }
   ],
   "source": [
    "# a08_5_1_f_tag_list(n,tags).py\n",
    "# 定义函数, 接纳两种实参 - 位置实参 01/02 + 任意实参 *tags\n",
    "\n",
    "def tag_list(nr, *tags): # *生成一个空元组\n",
    "    \"\"\"打印所有标签- 标签元素\"\"\"\n",
    "    print(f\"Sample_{nr} inclues follow tags:\")\n",
    "    for tag in tags:\n",
    "        print(f\"- {nr}_{tag}\")\n",
    "\n",
    "tag_list('01', 'a', 'b', 'c')\n",
    "tag_list('02', 'a', 'b', 'c', 'D', 'E', 'F')"
   ]
  },
  {
   "cell_type": "raw",
   "id": "f4f49845",
   "metadata": {},
   "source": [
    "8.5.2　使用任意数量的关键字实参\n",
    "**kwargs **生成一个字典"
   ]
  },
  {
   "cell_type": "code",
   "execution_count": 17,
   "id": "23bc6951",
   "metadata": {},
   "outputs": [
    {
     "name": "stdout",
     "output_type": "stream",
     "text": [
      "{'Tag': 'a', 'Date': '20230528', 'Part': 'Piston', 'Nr.': '01'}\n",
      "Piston_01 with tag: a @ 20230528\n"
     ]
    }
   ],
   "source": [
    "# a08_5_2_f_tag_list(p,n,tags_dic).py\n",
    "# 函数形参名 **tags_dic 中的星号让Python创建一个名为 tags_dic 的空字典，并将收到的所有键值对都放到这个字典中。\n",
    "\n",
    "def tag_list(part, nr, **tags_dic): # *生成一个空字典\n",
    "    \"\"\"打印所有标签 - 字典\"\"\"\n",
    "    tags_dic['Part'] = part.title()\n",
    "    tags_dic['Nr.'] = nr\n",
    "    return tags_dic\n",
    "\n",
    "\n",
    "part_tag = tag_list('piston', '01', \n",
    "                    Tag='a', Date='20230528',\n",
    "                   )\n",
    "\n",
    "print(part_tag)\n",
    "print(f\"{part_tag['Part']}_{part_tag['Nr.']} with tag: {part_tag['Tag']} @ {part_tag['Date']}\")"
   ]
  },
  {
   "cell_type": "raw",
   "id": "1448e03f",
   "metadata": {},
   "source": [
    "练习8-12：三明治 　编写一个函数，它接受顾客要在三明治中添加的一系列食材。\n",
    "这个函数只有一个形参（它收集函数调用中提供的所有食材），并打印一条消息，对顾客点的三明治进行概述。\n",
    "调用这个函数三次，每次都提供不同数量的实参。"
   ]
  },
  {
   "cell_type": "raw",
   "id": "eef5225d",
   "metadata": {},
   "source": [
    "练习8-13：用户简介 　复制前面的程序user_profile.py，在其中调用build_profile() 来创建有关你的简介。\n",
    "调用这个函数时，指定你的名和姓，以及三个描述你的键值对。"
   ]
  },
  {
   "cell_type": "raw",
   "id": "47de8da4",
   "metadata": {},
   "source": [
    "练习8-14：汽车 　编写一个函数，将一辆汽车的信息存储在字典中。\n",
    "这个函数总是接受制造商和型号，还接受任意数量的关键字实参。\n",
    "这样调用该函数：提供必不可少的信息，以及两个名称值对，如颜色和选装配件。\n",
    "这个函数必须能够像下面这样进行调用：\n",
    "car = make_car('subaru', 'outback', color='blue', tow_package=True)\n",
    "打印返回的字典，确认正确地处理了所有的信息。"
   ]
  },
  {
   "cell_type": "raw",
   "id": "e758a1f0",
   "metadata": {},
   "source": [
    "8.6　将函数存储在模块中\n",
    "函数存储在称为模块 的独立文件中，再将模块导入 到主程序中。"
   ]
  },
  {
   "cell_type": "raw",
   "id": "9195c48e",
   "metadata": {},
   "source": [
    "8.6.1　导入整个模块\n",
    "import 语句允许在当前运行的程序文件中使用模块中的代码。"
   ]
  },
  {
   "cell_type": "code",
   "execution_count": 18,
   "id": "505021f1",
   "metadata": {},
   "outputs": [
    {
     "name": "stdout",
     "output_type": "stream",
     "text": [
      "Current use tag:\tF\n",
      "Current use tag:\tE\n",
      "Current use tag:\tD\n",
      "Current use tag:\tc\n",
      "Current use tag:\tb\n",
      "Current use tag:\ta\n",
      "\n",
      "The tags status are:\n",
      "Used tags list:\t['a', 'b', 'c', 'd', 'e', 'f']\n",
      "new tags list:\t[]\n"
     ]
    }
   ],
   "source": [
    "# a08_6_1.py\n",
    "# 导入整个模块a08_4_1_m_tag.py\n",
    "\n",
    "import a08_4_1_m_tag as m_tag\n",
    "\n",
    "new_tags = ['a','b','c','D','E','F']\n",
    "used_tags = []\n",
    "\n",
    "m_tag.print_tags(new_tags, used_tags)\n",
    "m_tag.show_tags(new_tags, used_tags)"
   ]
  },
  {
   "cell_type": "raw",
   "id": "093255d3",
   "metadata": {},
   "source": [
    "8.6.2　导入特定的函数\n",
    "from module_name import function_name_01, function_name_02, ...\n",
    "\n",
    "8.6.5　导入模块中的所有函数\n",
    "使用星号（* ）运算符可让Python导入模块中的所有函数：\n",
    "from module_name import *"
   ]
  },
  {
   "cell_type": "code",
   "execution_count": 19,
   "id": "69fe439e",
   "metadata": {},
   "outputs": [
    {
     "name": "stdout",
     "output_type": "stream",
     "text": [
      "Current use tag:\tF\n",
      "Current use tag:\tE\n",
      "Current use tag:\tD\n",
      "Current use tag:\tc\n",
      "Current use tag:\tb\n",
      "Current use tag:\ta\n",
      "\n",
      "The tags status are:\n",
      "Used tags list:\t['a', 'b', 'c', 'd', 'e', 'f']\n",
      "new tags list:\t[]\n"
     ]
    }
   ],
   "source": [
    "# a08_6_5.py\n",
    "# 模块a08_4_1_m_tag.py\n",
    "\n",
    "# 导入特定的函数\n",
    "# from a08_4_1_m_tag import print_tags, show_tags\n",
    "\n",
    "# 导入模块中的所有函数\n",
    "from a08_4_1_m_tag import *\n",
    "\n",
    "new_tags = ['a','b','c','D','E','F']\n",
    "used_tags = []\n",
    "\n",
    "print_tags(new_tags, used_tags)\n",
    "show_tags(new_tags, used_tags)"
   ]
  },
  {
   "cell_type": "raw",
   "id": "b861da10",
   "metadata": {},
   "source": [
    "8.6.3　使用as 给函数指定别名\n",
    "from ... import ... as .."
   ]
  },
  {
   "cell_type": "code",
   "execution_count": null,
   "id": "93d4afa2",
   "metadata": {},
   "outputs": [],
   "source": [
    "# a08_6_3.py\n",
    "# 模块a08_4_1_m_tag.py\n",
    "# 使用as给函数指定别名\n",
    "\n",
    "\n",
    "from a08_4_1_m_tag import print_tags as pts\n",
    "from a08_4_1_m_tag import show_tags as sts\n",
    "\n",
    "new_tags = ['a','b','c','D','E','F']\n",
    "used_tags = []\n",
    "\n",
    "pts(new_tags, used_tags)\n",
    "sts(new_tags, used_tags)"
   ]
  },
  {
   "cell_type": "raw",
   "id": "28795200",
   "metadata": {},
   "source": [
    "8.6.4　使用as 给模块指定别名\n",
    "import module_name as mn"
   ]
  },
  {
   "cell_type": "code",
   "execution_count": null,
   "id": "e5845e29",
   "metadata": {},
   "outputs": [],
   "source": [
    "# a08_6_4.py\n",
    "# 模块a08_4_1_m_tag.py\n",
    "# 使用as给模块指定别名\n",
    "\n",
    "import a08_4_1_m_tag as tag\n",
    "\n",
    "new_tags = ['a','b','c','D','E','F']\n",
    "used_tags = []\n",
    "\n",
    "tag.print_tags(new_tags, used_tags)\n",
    "tag.show_tags(new_tags, used_tags)"
   ]
  },
  {
   "cell_type": "raw",
   "id": "f376d507",
   "metadata": {},
   "source": [
    "8.7　函数编写指南\n",
    "1. 应给函数指定描述性名称，且只在其中使用小写字母和下划线。\n",
    "2. 每个函数都应包含简要地阐述其功能的注释, 该注释应紧跟在函数定义后面，并采用文档字符串格式\n",
    "3. 给形参指定默认值时，等号两边不要有空格, 关键字实参，也应遵循这种约定\n",
    "4. 如果形参很多，导致函数定义的长度超过了79字符，可在函数定义中输入左括号后按回车键，\n",
    "并在下一行按两次Tab键，从而将形参列表和只缩进一层的函数体区分开来。\n",
    "5. 所有import 语句都应放在文件开头。唯一例外的情形是，在文件开头使用了注释来描述整个程序"
   ]
  },
  {
   "cell_type": "raw",
   "id": "052002a9",
   "metadata": {},
   "source": [
    "练习8-15：打印模型 　将示例printing_models.py中的函数放在一个名为printing_functions.py的文件中。\n",
    "在printing_models.py的开头编写一条import 语句，并修改该文件以使用导入的函数。"
   ]
  },
  {
   "cell_type": "raw",
   "id": "76fd4396",
   "metadata": {},
   "source": [
    "练习8-15：打印模型 　将示例printing_models.py中的函数放在一个名为printing_functions.py的文件中。\n",
    "在printing_models.py的开头编写一条import 语句，并修改该文件以使用导入的函数。"
   ]
  },
  {
   "cell_type": "raw",
   "id": "9ad3ec7d",
   "metadata": {},
   "source": [
    "练习8-16：导入　 选择一个你编写的且只包含一个函数的程序，将该函数放在另一个文件中。\n",
    "在主程序文件中，使用下述各种方法导入这个函数，再调用它：\n",
    "import module"
   ]
  }
 ],
 "metadata": {
  "hide_input": false,
  "kernelspec": {
   "display_name": "Python 3",
   "language": "python",
   "name": "python3"
  },
  "language_info": {
   "codemirror_mode": {
    "name": "ipython",
    "version": 3
   },
   "file_extension": ".py",
   "mimetype": "text/x-python",
   "name": "python",
   "nbconvert_exporter": "python",
   "pygments_lexer": "ipython3",
   "version": "3.11.5"
  },
  "toc": {
   "base_numbering": 1,
   "nav_menu": {},
   "number_sections": true,
   "sideBar": true,
   "skip_h1_title": false,
   "title_cell": "Table of Contents",
   "title_sidebar": "Contents",
   "toc_cell": false,
   "toc_position": {
    "height": "calc(100% - 180px)",
    "left": "10px",
    "top": "150px",
    "width": "165px"
   },
   "toc_section_display": true,
   "toc_window_display": false
  },
  "varInspector": {
   "cols": {
    "lenName": 16,
    "lenType": 16,
    "lenVar": 40
   },
   "kernels_config": {
    "python": {
     "delete_cmd_postfix": "",
     "delete_cmd_prefix": "del ",
     "library": "var_list.py",
     "varRefreshCmd": "print(var_dic_list())"
    },
    "r": {
     "delete_cmd_postfix": ") ",
     "delete_cmd_prefix": "rm(",
     "library": "var_list.r",
     "varRefreshCmd": "cat(var_dic_list()) "
    }
   },
   "position": {
    "height": "396.854px",
    "left": "910px",
    "right": "20px",
    "top": "120px",
    "width": "350px"
   },
   "types_to_exclude": [
    "module",
    "function",
    "builtin_function_or_method",
    "instance",
    "_Feature"
   ],
   "window_display": false
  }
 },
 "nbformat": 4,
 "nbformat_minor": 5
}
