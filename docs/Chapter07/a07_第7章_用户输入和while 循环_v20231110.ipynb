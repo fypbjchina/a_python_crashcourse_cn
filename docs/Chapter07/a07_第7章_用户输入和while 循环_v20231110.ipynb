{
 "cells": [
  {
   "cell_type": "markdown",
   "id": "0b2db1bd",
   "metadata": {},
   "source": [
    "# Python编程：从入门到实践（第2版）/ 20230323 <a class=\"tocSkip\">"
   ]
  },
  {
   "cell_type": "markdown",
   "id": "79827ec6",
   "metadata": {},
   "source": [
    "# 第 7 章　用户输入和while 循环 / 20230504 <a class=tocSkip>"
   ]
  },
  {
   "cell_type": "markdown",
   "id": "7db2a45b",
   "metadata": {},
   "source": [
    "通过获取用户输入并学会控制程序的运行时间，你就能编写出交互式程序。"
   ]
  },
  {
   "cell_type": "markdown",
   "id": "ccd9ce91",
   "metadata": {},
   "source": [
    "7.1　函数input() 的工作原理\n",
    "\n",
    "7.1.1　编写清晰的程序"
   ]
  },
  {
   "cell_type": "code",
   "execution_count": 1,
   "id": "fb847935",
   "metadata": {},
   "outputs": [
    {
     "name": "stdout",
     "output_type": "stream",
     "text": [
      "Hello, Digitfu!\n"
     ]
    }
   ],
   "source": [
    "# input()\n",
    "\n",
    "name = input(\"Tell me your name: \")\n",
    "\n",
    "print(f\"Hello, {name.title()}!\")"
   ]
  },
  {
   "cell_type": "markdown",
   "id": "efdb74b7",
   "metadata": {},
   "source": [
    "有时候，提示可能超过一行。例如，你可能需要指出获取特定输入的原因。\n",
    "\n",
    "在这种情况下，可将提示赋给一个变量，再将该变量传递给函数input() 。\n",
    "\n",
    "这样，即便提示超过一行，input() 语句也会非常清晰。"
   ]
  },
  {
   "cell_type": "code",
   "execution_count": 16,
   "id": "60609bc6",
   "metadata": {},
   "outputs": [
    {
     "name": "stdout",
     "output_type": "stream",
     "text": [
      "Dear user, we´d like to check your account.\n",
      "Please input your username(e.g. mike schneider):\tyiping fu\n",
      "\n",
      "Hello, Yiping Fu!\n"
     ]
    }
   ],
   "source": [
    "hints = \"Dear user, we´d like to check your account.\\n\"\n",
    "hints += \"Please input your username(e.g. mike schneider):\\t\"\n",
    "\n",
    "username = input(hints)\n",
    "print(f\"\\nHello, {username.title()}!\")"
   ]
  },
  {
   "cell_type": "markdown",
   "id": "d3ef180c",
   "metadata": {},
   "source": [
    "7.1.2　使用int() 来获取数值输入"
   ]
  },
  {
   "cell_type": "code",
   "execution_count": 19,
   "id": "dba3823d",
   "metadata": {},
   "outputs": [
    {
     "name": "stdout",
     "output_type": "stream",
     "text": [
      "Please input your lucky number:21\n",
      "21\n"
     ]
    },
    {
     "data": {
      "text/plain": [
       "str"
      ]
     },
     "execution_count": 19,
     "metadata": {},
     "output_type": "execute_result"
    }
   ],
   "source": [
    "# input(): 使用函数input() 时，Python将用户输入解读为字符串\n",
    "\n",
    "number = input(\"Please input your lucky number:\")\n",
    "print(number)\n",
    "\n",
    "type(number)\n",
    "# print(number+3)"
   ]
  },
  {
   "cell_type": "code",
   "execution_count": 18,
   "id": "6bbc260d",
   "metadata": {},
   "outputs": [
    {
     "name": "stdout",
     "output_type": "stream",
     "text": [
      "Please input your lucky number:\t21\n",
      "21\n",
      "24\n"
     ]
    }
   ],
   "source": [
    "# int(): 函数int()将数的字符串表示转换为数值表示, 可算术进行运算\n",
    "\n",
    "number = input(\"Please input your lucky number:\\t\")\n",
    "print(number)\n",
    "\n",
    "number = int(number)\n",
    "number += 3\n",
    "\n",
    "print(number)"
   ]
  },
  {
   "cell_type": "code",
   "execution_count": 20,
   "id": "cf6a74f6",
   "metadata": {},
   "outputs": [
    {
     "name": "stdout",
     "output_type": "stream",
     "text": [
      "Please input your lucky number:\t21\n",
      "21\n",
      "24\n"
     ]
    }
   ],
   "source": [
    "# input(): 使用函数input() 时，Python将用户输入解读为字符串\n",
    "\n",
    "number = int(input(\"Please input your lucky number:\\t\"))\n",
    "print(number)\n",
    "\n",
    "print(number+3)"
   ]
  },
  {
   "cell_type": "code",
   "execution_count": 22,
   "id": "7462e5dc",
   "metadata": {},
   "outputs": [
    {
     "name": "stdout",
     "output_type": "stream",
     "text": [
      "Please input your lucky number:\t21\n",
      "21\n"
     ]
    },
    {
     "data": {
      "text/plain": [
       "True"
      ]
     },
     "execution_count": 22,
     "metadata": {},
     "output_type": "execute_result"
    }
   ],
   "source": [
    "# int(): 函数int()将数的字符串表示转换为数值表示, 可进行比较判断\n",
    "\n",
    "number = input(\"Please input your lucky number:\\t\")\n",
    "print(number)\n",
    "\n",
    "# number = int(number)\n",
    "number == '21'"
   ]
  },
  {
   "cell_type": "markdown",
   "id": "d2afac06",
   "metadata": {},
   "source": [
    "7.1.3　求模运算符 %\n",
    "\n",
    "求模运算符 （%），它将两个数相除并返回余数"
   ]
  },
  {
   "cell_type": "code",
   "execution_count": 23,
   "id": "0b443a6f",
   "metadata": {},
   "outputs": [
    {
     "data": {
      "text/plain": [
       "2"
      ]
     },
     "execution_count": 23,
     "metadata": {},
     "output_type": "execute_result"
    }
   ],
   "source": [
    "# 求模运算符不会指出一个数是另一个数的多少倍，只指出余数是多少\n",
    "# 如果一个数可被另一个数整除，余数就为0，因此求模运算将返回0\n",
    "\n",
    "5 % 3"
   ]
  },
  {
   "cell_type": "code",
   "execution_count": 9,
   "id": "72971bb7",
   "metadata": {},
   "outputs": [
    {
     "data": {
      "text/plain": [
       "1.6666666666666667"
      ]
     },
     "execution_count": 9,
     "metadata": {},
     "output_type": "execute_result"
    }
   ],
   "source": [
    "# 除法 / - 浮点数\n",
    "\n",
    "5 / 3"
   ]
  },
  {
   "cell_type": "code",
   "execution_count": 24,
   "id": "070f6e2a",
   "metadata": {},
   "outputs": [
    {
     "data": {
      "text/plain": [
       "1.66667"
      ]
     },
     "execution_count": 24,
     "metadata": {},
     "output_type": "execute_result"
    }
   ],
   "source": [
    "round((5/3), 5)"
   ]
  },
  {
   "cell_type": "code",
   "execution_count": 25,
   "id": "a285d2fd",
   "metadata": {},
   "outputs": [
    {
     "data": {
      "text/plain": [
       "2"
      ]
     },
     "execution_count": 25,
     "metadata": {},
     "output_type": "execute_result"
    }
   ],
   "source": [
    "# 整除 // - 整数部分\n",
    "\n",
    "8 // 3"
   ]
  },
  {
   "cell_type": "code",
   "execution_count": 14,
   "id": "d5d20df9",
   "metadata": {},
   "outputs": [
    {
     "name": "stdout",
     "output_type": "stream",
     "text": [
      "2r1\n"
     ]
    }
   ],
   "source": [
    "# 整数部分 + 余数部分\n",
    "\n",
    "a = 5 % 2\n",
    "b = 5 // 2\n",
    "\n",
    "print(f\"{b}r{a}\")"
   ]
  },
  {
   "cell_type": "code",
   "execution_count": 26,
   "id": "3872f84c",
   "metadata": {},
   "outputs": [
    {
     "name": "stdout",
     "output_type": "stream",
     "text": [
      "Number = 28\n",
      "Even list: [28]\n",
      "Odd list: []\n"
     ]
    }
   ],
   "source": [
    "# 可利用 % 来判断一个数是奇数还是偶数\n",
    "\n",
    "even = []\n",
    "odd = []\n",
    "\n",
    "number = input(\"Number = \") # input()函数返回字符串类型值\n",
    "number = int(number) # int()函数是变量整数化\n",
    "\n",
    "if number % 2 == 0:\n",
    "    even.append(number)\n",
    "else:\n",
    "    odd.append(number)\n",
    "\n",
    "print(f\"Even list: {even}\")\n",
    "print(f\"Odd list: {odd}\")"
   ]
  },
  {
   "cell_type": "code",
   "execution_count": 28,
   "id": "4fd75cdb",
   "metadata": {},
   "outputs": [
    {
     "name": "stdout",
     "output_type": "stream",
     "text": [
      "Number(<30) = 29\n",
      "Even list =\t[28, 26, 24, 22, 20, 18, 16, 14, -10, -8, -6, -4, -2, 0, 2, 4, 6, 8, 10, 12]\n",
      "Odd list =\t[29, 27, 25, 23, 21, 19, 17, 15, 13, 11, 9, 7, 5, 3, 1, -1, -3, -5, -7, -9]\n"
     ]
    }
   ],
   "source": [
    "# 可利用 % 判断创建奇偶数列表\n",
    "\n",
    "even = []\n",
    "odd = []\n",
    "\n",
    "number = int(input(\"Number(<30) = \")) # 函数int()中直接使用input()返回值\n",
    "\n",
    "while number > 30:\n",
    "    number = int(input(\"Number should be less than 30. Try again: \"))\n",
    " \n",
    "while number >= -10: # 创建 -10 - 30之内的列表\n",
    "    if number % 2 == 0:\n",
    "        even.insert(8,number) # 方法insert()在列表中指定位置插入元素\n",
    "    else:\n",
    "        odd.append(number) # 方法append()在列表末尾添加元素\n",
    "    number -= 1\n",
    "    \n",
    "print(f\"Even list =\\t{even}\")\n",
    "print(f\"Odd list =\\t{odd}\")"
   ]
  },
  {
   "cell_type": "raw",
   "id": "1ea9611c",
   "metadata": {},
   "source": [
    "练习7-1：汽车租赁 　编写一个程序，询问用户要租赁什么样的汽车，并打印\n",
    "一条消息，下面是一个例子。\n",
    "Let me see if I can find you a Subaru."
   ]
  },
  {
   "cell_type": "raw",
   "id": "f1c4309f",
   "metadata": {},
   "source": [
    "练习7-2：餐馆订位 　编写一个程序，询问用户有多少人用餐。如果超过8位，\n",
    "就打印一条消息，指出没有空桌；否则指出有空桌。"
   ]
  },
  {
   "cell_type": "raw",
   "id": "0a2921c8",
   "metadata": {},
   "source": [
    "练习7-3：10的整数倍 　让用户输入一个数，并指出该数是否是10的整数倍。"
   ]
  },
  {
   "cell_type": "code",
   "execution_count": 25,
   "id": "6464c0c4",
   "metadata": {},
   "outputs": [
    {
     "name": "stdout",
     "output_type": "stream",
     "text": [
      "Please give a number: 55\n",
      "55不可以被10整除。\n"
     ]
    }
   ],
   "source": [
    "# 练习7-3\n",
    "\n",
    "number = int(input(\"Please give a number: \"))\n",
    "\n",
    "if number % 10 == 0:\n",
    "    print(f\"{number}可以被10整除。\")\n",
    "else:\n",
    "    print(f\"{number}不可以被10整除。\")"
   ]
  },
  {
   "cell_type": "markdown",
   "id": "6181a6a3",
   "metadata": {},
   "source": [
    "7.2　while 循环简介\n",
    "\n",
    "for 循环用于针对集合中的每个元素都执行一个代码块，\n",
    "\n",
    "while 循环则不断运行，直到指定的条件不满足为止。"
   ]
  },
  {
   "cell_type": "code",
   "execution_count": 30,
   "id": "3a246176",
   "metadata": {},
   "outputs": [
    {
     "name": "stdout",
     "output_type": "stream",
     "text": [
      "[0, 4, 8, 12, 16, 20, 24, 28, 32, 36, 40, 44, 48, 52, 56, 60, 64, 68, 72, 76, 80, 84, 88, 92, 96, 100]\n",
      "[0, 4, 8, 12, 16, 20, 24, 28, 32, 36]\n"
     ]
    }
   ],
   "source": [
    "# for循环\n",
    "\n",
    "# import numpy as np\n",
    "# numpy 中使用 arange()函数创建列表\n",
    "# list(), range()函数创建列表\n",
    "\n",
    "new_list = []\n",
    "my_list = list(range(0, 101, 4))\n",
    "\n",
    "for number in my_list[:10]:\n",
    "    new_list.append(number)\n",
    "\n",
    "print(my_list)\n",
    "print(new_list)"
   ]
  },
  {
   "cell_type": "markdown",
   "id": "1ae4049b",
   "metadata": {},
   "source": [
    "7.2.1　使用while 循环"
   ]
  },
  {
   "cell_type": "code",
   "execution_count": 1,
   "id": "a5d4126d",
   "metadata": {},
   "outputs": [
    {
     "name": "stdout",
     "output_type": "stream",
     "text": [
      "1\n",
      "[1]\n",
      "2\n",
      "[1, 2]\n",
      "3\n",
      "[1, 2, 3]\n",
      "4\n",
      "[1, 2, 3, 4]\n",
      "5\n",
      "[1, 2, 3, 4, 5]\n",
      "6\n",
      "[1, 2, 3, 4, 5, 6]\n",
      "7\n",
      "[1, 2, 3, 4, 5, 6, 7]\n",
      "8\n",
      "[1, 2, 3, 4, 5, 6, 7, 8]\n",
      "9\n",
      "[1, 2, 3, 4, 5, 6, 7, 8, 9]\n",
      "10\n",
      "[1, 2, 3, 4, 5, 6, 7, 8, 9, 10]\n",
      "\n",
      "while循环停止: 11 > 5\n"
     ]
    }
   ],
   "source": [
    "# while循环\n",
    "\n",
    "new_list = []\n",
    "\n",
    "current_number = 1 # 初始化当前变量值为1\n",
    "\n",
    "while current_number <= 10:\n",
    "    print(current_number)\n",
    "    new_list.append(current_number)\n",
    "    print(new_list)\n",
    "    current_number += 1\n",
    "\n",
    "print(f\"\\nwhile循环停止: {current_number} > 5\") # 判断 >5 循环结束"
   ]
  },
  {
   "cell_type": "markdown",
   "id": "9f053aec",
   "metadata": {},
   "source": [
    "7.2.2　让用户选择何时退出\n",
    "\n",
    "while循环可以定义一个退出值, 只要用户输入的不是这个值，程序就将接着运行"
   ]
  },
  {
   "cell_type": "code",
   "execution_count": 4,
   "id": "066db659",
   "metadata": {},
   "outputs": [
    {
     "name": "stdout",
     "output_type": "stream",
     "text": [
      "\n",
      "Tell me something, and I will repeat it back to you,\n",
      "Enter 'quit' to end the program:\tqUiT\n",
      "qUiT\n"
     ]
    }
   ],
   "source": [
    "prompt = \"\\nTell me something, and I will repeat it back to you,\"\n",
    "prompt += \"\\nEnter 'quit' to end the program:\\t\"\n",
    "\n",
    "message = \"\"\n",
    "\n",
    "while message != 'quit':\n",
    "    message = input(prompt)\n",
    "    print(message)"
   ]
  },
  {
   "cell_type": "code",
   "execution_count": 1,
   "id": "9df34be6",
   "metadata": {},
   "outputs": [
    {
     "name": "stdout",
     "output_type": "stream",
     "text": [
      "\n",
      "Please input your name,\n",
      "Enter 'quit' to end the program:\tquit\n"
     ]
    }
   ],
   "source": [
    "prompt = \"\\nPlease input your name,\"\n",
    "prompt += \"\\nEnter 'quit' to end the program:\\t\"\n",
    "\n",
    "name = \"\"\n",
    "\n",
    "while name.lower() != 'quit':\n",
    "    name = input(prompt)\n",
    "    if name.lower() != 'quit':\n",
    "        print(f\"Hello, {name.title()}\")"
   ]
  },
  {
   "cell_type": "markdown",
   "id": "54933e4a",
   "metadata": {},
   "source": [
    "7.2.3　使用标志\n",
    "\n",
    "在要求很多条件都满足才继续运行的程序中，可定义一个变量，用于判断整个程序是否处于活动状态。\n",
    "\n",
    "这个变量称为标志 （flag），充当程序的交通信号灯。"
   ]
  },
  {
   "cell_type": "code",
   "execution_count": 7,
   "id": "3d707195",
   "metadata": {},
   "outputs": [
    {
     "name": "stdout",
     "output_type": "stream",
     "text": [
      "\n",
      "Please input your name,\n",
      "Enter 'quit' to end the program:\t123\n",
      "Hello, 123\n",
      "\n",
      "Please input your name,\n",
      "Enter 'quit' to end the program:\tquit\n"
     ]
    }
   ],
   "source": [
    "# 使用标志退出循环\n",
    "\n",
    "prompt = \"\\nPlease input your name,\"\n",
    "prompt += \"\\nEnter 'quit' to end the program:\\t\"\n",
    "\n",
    "active = 1 # 1 等同于 True\n",
    "\n",
    "while active:\n",
    "    name = input(prompt)\n",
    "    if name.lower() == 'quit':\n",
    "        active = None # 0/None/'' 等同于 False\n",
    "    else:\n",
    "        print(f\"Hello, {name.title()}\")\n",
    "\n",
    "active"
   ]
  },
  {
   "cell_type": "markdown",
   "id": "39f35c7d",
   "metadata": {},
   "source": [
    "7.2.4　使用break 退出循环\n",
    "\n",
    "要立即退出while 循环，不再运行循环中余下的代码，也不管条件测试的结果如何，可使用break 语句。"
   ]
  },
  {
   "cell_type": "code",
   "execution_count": 4,
   "id": "49a514b3",
   "metadata": {},
   "outputs": [
    {
     "name": "stdout",
     "output_type": "stream",
     "text": [
      "\n",
      "Please input your name,\n",
      "Enter 'quit' to end the program:\t123\n",
      "Hello, 123\n",
      "\n",
      "Please input your name,\n",
      "Enter 'quit' to end the program:\t456\n",
      "Hello, 456\n",
      "\n",
      "Please input your name,\n",
      "Enter 'quit' to end the program:\tquit\n"
     ]
    }
   ],
   "source": [
    "# 使用break退出循环\n",
    "\n",
    "prompt = \"\\nPlease input your name,\"\n",
    "prompt += \"\\nEnter 'quit' to end the program:\\t\"\n",
    "\n",
    "# active = True\n",
    "\n",
    "while True:\n",
    "    name = input(prompt)\n",
    "    \n",
    "    if name.lower() == 'quit':\n",
    "        break\n",
    "    else:\n",
    "        print(f\"Hello, {name.title()}\")"
   ]
  },
  {
   "cell_type": "markdown",
   "id": "42a5228d",
   "metadata": {},
   "source": [
    "7.2.5　在循环中使用continue\n",
    "\n",
    "要返回循环开头，并根据条件测试结果决定是否继续执行循环，可使用continue语句，\n",
    "\n",
    "它不像break 语句那样不再执行余下的代码并退出整个循环。"
   ]
  },
  {
   "cell_type": "code",
   "execution_count": 8,
   "id": "91475918",
   "metadata": {},
   "outputs": [
    {
     "name": "stdout",
     "output_type": "stream",
     "text": [
      "[1, 3, 5, 7, 9, 11, 13, 15, 17, 19, 21, 23, 25]\n"
     ]
    }
   ],
   "source": [
    "# 使用continue返回，继续循环 - 创建奇数列表\n",
    "\n",
    "odd = []\n",
    "\n",
    "number = 0\n",
    " \n",
    "while number < 25: # 创建奇数列表\n",
    "    number += 1\n",
    "    if number % 2 == 0:\n",
    "        continue\n",
    "        \n",
    "    odd.append(number) \n",
    "\n",
    "print(odd)"
   ]
  },
  {
   "cell_type": "code",
   "execution_count": 8,
   "id": "8100f050",
   "metadata": {},
   "outputs": [
    {
     "name": "stdout",
     "output_type": "stream",
     "text": [
      "[1, 3, 5, 7, 9, 11, 13, 15, 17, 19, 21, 23, 25]\n"
     ]
    }
   ],
   "source": [
    "# 使用continue返回，继续循环 - 创建奇数列表\n",
    "\n",
    "odd = []\n",
    "\n",
    "number = 0\n",
    " \n",
    "while number < 25: # 创建奇数列表\n",
    "    number += 1\n",
    "    if number % 2 == 1:\n",
    "        odd.append(number) \n",
    "\n",
    "print(odd)"
   ]
  },
  {
   "cell_type": "markdown",
   "id": "9e45943c",
   "metadata": {},
   "source": [
    "7.2.6　避免无限循环\n",
    "\n",
    "每个while 循环都必须有停止运行的途径，这样才不会没完没了地执行下去。\n",
    "\n",
    "如果程序陷入无限循环，可按Ctrl + C，"
   ]
  },
  {
   "cell_type": "raw",
   "id": "3c16736f",
   "metadata": {},
   "source": [
    "练习7-4：比萨配料 　编写一个循环，提示用户输入一系列比萨配料，并在用户输入'quit' 时结束循环。\n",
    "每当用户输入一种配料后，都打印一条消息，指出我们会在比萨中添加这种配料。"
   ]
  },
  {
   "cell_type": "raw",
   "id": "680ede30",
   "metadata": {},
   "source": [
    "练习7-5：电影票 　有家电影院根据观众的年龄收取不同的票价：\n",
    "不到3岁的观众免费；3～12岁的观众收费10美元；超过12岁的观众收费15美元。\n",
    "请编写一个循环，在其中询问用户的年龄，并指出其票价。"
   ]
  },
  {
   "cell_type": "raw",
   "id": "14ed7f14",
   "metadata": {},
   "source": [
    "练习7-6：三种出路 　以不同的方式完成练习7-4或练习7-5，在程序中采取如下做法。\n",
    "在while 循环中使用条件测试来结束循环。\n",
    "使用变量active 来控制循环结束的时机。\n",
    "使用break 语句在用户输入'quit' 时退出循环。"
   ]
  },
  {
   "cell_type": "raw",
   "id": "9c573843",
   "metadata": {},
   "source": [
    "练习7-7：无限循环 　编写一个没完没了的循环，并运行它（要结束该循环，\n",
    "可按Ctrl + C，也可关闭显示输出的窗口）。"
   ]
  },
  {
   "cell_type": "markdown",
   "id": "56fb7ed8",
   "metadata": {},
   "source": [
    "7.3　使用while 循环处理列表和字典\n",
    "\n",
    "for 循环是一种遍历列表的有效方式，但不应在for 循环中修改列表，否则将导致Python难以跟踪其中的元素。\n",
    "\n",
    "要在遍历列表的同时对其进行修改，可使用while 循环。\n",
    "\n",
    "通过将while 循环同列表和字典结合起来使用"
   ]
  },
  {
   "cell_type": "markdown",
   "id": "d402964d",
   "metadata": {},
   "source": [
    "7.3.1　在列表之间移动元素"
   ]
  },
  {
   "cell_type": "code",
   "execution_count": 9,
   "id": "8e92c1e9",
   "metadata": {},
   "outputs": [
    {
     "name": "stdout",
     "output_type": "stream",
     "text": [
      "Current tag is:\tF\n",
      "Current tag is:\tE\n",
      "Current tag is:\tD\n",
      "['a', 'b', 'c', 'f', 'e', 'd']\n",
      "\n",
      "The following tags have been used:\n",
      "['a', 'b', 'c', 'd', 'e', 'f']\n"
     ]
    }
   ],
   "source": [
    "# 使用过和未使用过的标签\n",
    "\n",
    "used_tags = ['a','b','c']\n",
    "new_tags = ['D','E','F']\n",
    "\n",
    "while new_tags:\n",
    "    current_tag = new_tags.pop()\n",
    "    \n",
    "    print(f\"Current tag is:\\t{current_tag}\")\n",
    "    used_tags.append(current_tag.lower())\n",
    "\n",
    "print(used_tags)\n",
    "\n",
    "used_tags = sorted(used_tags) # Python没有内置的rank函数\n",
    "    \n",
    "print(\"\\nThe following tags have been used:\")\n",
    "print(used_tags)"
   ]
  },
  {
   "cell_type": "markdown",
   "id": "ee3ff1e3",
   "metadata": {},
   "source": [
    "7.3.2　删除为特定值的所有列表元素\n",
    "\n",
    "在第3章中，我们使用函数remove() 来删除列表中的特定值 - del???\n",
    "\n",
    "这之所以可行，是因为要删除的值只在列表中出现一次。\n",
    "\n",
    "如果要删除列表中所有为特定值的元素，该怎么办呢？--> while语句"
   ]
  },
  {
   "cell_type": "code",
   "execution_count": 10,
   "id": "ba65fe33",
   "metadata": {},
   "outputs": [
    {
     "name": "stdout",
     "output_type": "stream",
     "text": [
      "['a', 'b', 'c', 'a', 'b', 'c']\n",
      "['b', 'c', 'b', 'c']\n"
     ]
    }
   ],
   "source": [
    "# 删除列表中所有标签含a的标签\n",
    "# while循环 + remove()方法\n",
    "\n",
    "tags = ['a','b','c','a','b','c']\n",
    "print(tags)\n",
    "\n",
    "while 'a' in tags:\n",
    "        tags.remove('a')\n",
    "\n",
    "print(tags)"
   ]
  },
  {
   "cell_type": "code",
   "execution_count": 11,
   "id": "51c54d0a",
   "metadata": {},
   "outputs": [
    {
     "name": "stdout",
     "output_type": "stream",
     "text": [
      "['a', 'b', 'c', 'a', 'b', 'c']\n",
      "['b', 'c', 'a', 'b', 'c']\n"
     ]
    }
   ],
   "source": [
    "# del语句删除列表中的标签\n",
    "\n",
    "tags = ['a','b','c','a','b','c']\n",
    "print(tags)\n",
    "\n",
    "del tags[0] # 删除指定位置的元素\n",
    "\n",
    "print(tags)"
   ]
  },
  {
   "cell_type": "markdown",
   "id": "35cf089c",
   "metadata": {},
   "source": [
    "7.3.3　使用用户输入来填充字典\n",
    "\n",
    "可使用while 循环提示用户输入任意多的信息。\n",
    "\n",
    "我们将收集的数据存储在一个字典中，以便将回答同被调查者关联起来。"
   ]
  },
  {
   "cell_type": "code",
   "execution_count": 13,
   "id": "08460743",
   "metadata": {},
   "outputs": [
    {
     "name": "stdout",
     "output_type": "stream",
     "text": [
      "Please input your first name:\n",
      "yiping\n",
      "Please input your last name:\n",
      "fu\n",
      "Please enter date of acquaintance(yyyymmdd):\n",
      "20231110\n",
      "The next collection (yes / no):\tno\n",
      "\n",
      "--- friends Info. ---\n",
      "Yiping.Fu\t20231110\n",
      "{'yiping.fu': '20231110'}\n"
     ]
    }
   ],
   "source": [
    "# 使用input()输入，创建friends字典，包括姓名和认识年份，利用while语句的标志判断继续或停止\n",
    "\n",
    "# 创建一个friends空字典\n",
    "friends = {}\n",
    "\n",
    "# 设置一个标准，判断输入是否继续\n",
    "input_active = True\n",
    "\n",
    "while input_active:\n",
    "    # 提示输入姓名和认识年月\n",
    "    first_name = input(\"Please input your first name:\\n\")\n",
    "    last_name = input(\"Please input your last name:\\n\")\n",
    "    name = f\"{first_name}.{last_name}\"\n",
    "    date = input(\"Please enter date of acquaintance(yyyymmdd):\\n\")\n",
    "\n",
    "    # 将日期信息配对姓名存储到字典中\n",
    "    friends[name] = date\n",
    "    \n",
    "    # 判断是否有新的输入\n",
    "    repeat = input(\"The next collection (yes / no):\\t\")\n",
    "    if repeat == 'no':\n",
    "        input_active = False\n",
    "\n",
    "# 输入结束，显示结果\n",
    "print(\"\\n--- friends Info. ---\")\n",
    "for name, date in friends.items():\n",
    "    print(f\"{name.title()}\\t{date}\")\n",
    "\n",
    "print(friends)"
   ]
  },
  {
   "cell_type": "raw",
   "id": "7978f132",
   "metadata": {},
   "source": [
    "练习7-8：熟食店 　\n",
    "创建一个名为sandwich_orders 的列表，在其中包含各种三明治的名字，再创建一个名为finished_sandwiches 的空列表。\n",
    "遍历列表sandwich_orders ，对于其中的每种三明治，都打印一条消息，\n",
    "如Imade your tuna sandwich ，并将其移到列表finished_sandwiches中。\n",
    "所有三明治都制作好后，打印一条消息，将这些三明治列出来。"
   ]
  },
  {
   "cell_type": "raw",
   "id": "4b475441",
   "metadata": {},
   "source": [
    "练习7-9：五香烟熏牛肉卖完了 　\n",
    "使用为完成练习7-8而创建的列表sandwich_orders ，并确保'pastrami' 在其中至少出现了三次。\n",
    "在程序开头附近添加这样的代码：打印一条消息，指出熟食店的五香烟熏牛肉（pastrami）卖完了；\n",
    "再使用一个while 循环将列表sandwich_orders 中的'pastrami' 都删除。\n",
    "确认最终的列表finished_sandwiches 未包含'pastrami' 。"
   ]
  },
  {
   "cell_type": "raw",
   "id": "92405cbb",
   "metadata": {},
   "source": [
    "练习7-10：梦想的度假胜地 　编写一个程序，调查用户梦想的度假胜地。\n",
    "使用类似于下面的提示，并编写一个打印调查结果的代码块。\n",
    "If you could visit one place in the world, where would you go?"
   ]
  }
 ],
 "metadata": {
  "hide_input": false,
  "kernelspec": {
   "display_name": "fyp2023",
   "language": "python",
   "name": "python3"
  },
  "language_info": {
   "codemirror_mode": {
    "name": "ipython",
    "version": 3
   },
   "file_extension": ".py",
   "mimetype": "text/x-python",
   "name": "python",
   "nbconvert_exporter": "python",
   "pygments_lexer": "ipython3",
   "version": "3.11.5"
  },
  "toc": {
   "base_numbering": 1,
   "nav_menu": {},
   "number_sections": true,
   "sideBar": true,
   "skip_h1_title": false,
   "title_cell": "Table of Contents",
   "title_sidebar": "Contents",
   "toc_cell": false,
   "toc_position": {
    "height": "calc(100% - 180px)",
    "left": "10px",
    "top": "150px",
    "width": "165px"
   },
   "toc_section_display": true,
   "toc_window_display": true
  },
  "varInspector": {
   "cols": {
    "lenName": 16,
    "lenType": 16,
    "lenVar": 40
   },
   "kernels_config": {
    "python": {
     "delete_cmd_postfix": "",
     "delete_cmd_prefix": "del ",
     "library": "var_list.py",
     "varRefreshCmd": "print(var_dic_list())"
    },
    "r": {
     "delete_cmd_postfix": ") ",
     "delete_cmd_prefix": "rm(",
     "library": "var_list.r",
     "varRefreshCmd": "cat(var_dic_list()) "
    }
   },
   "position": {
    "height": "396.854px",
    "left": "910px",
    "right": "20px",
    "top": "120px",
    "width": "350px"
   },
   "types_to_exclude": [
    "module",
    "function",
    "builtin_function_or_method",
    "instance",
    "_Feature"
   ],
   "window_display": false
  }
 },
 "nbformat": 4,
 "nbformat_minor": 5
}
