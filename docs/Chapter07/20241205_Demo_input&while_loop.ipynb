{
 "cells": [
  {
   "cell_type": "markdown",
   "id": "b508b492-8372-43db-a82c-a855b6085ea2",
   "metadata": {},
   "source": [
    "# 用户输入方法：函数input（）和while循环\n",
    "\n",
    "需要理解和掌握的知识点：\n",
    "1. input（）\n",
    "\n",
    "\n",
    "2. while循环\n",
    "\n",
    "Input()函数:\n",
    "•\t停止程序运行，等待用户输入\n",
    "•\t人际互动最直接方式：接收用户输入，直到用户以按回车键\n",
    "•\t用户一起输入皆是字符串数据类型，执行时常用一个变量来存储用户输入\n",
    "按需求可能回需要将输入内容转化数据类型：整数，浮点数，布尔数，列表，元组，字典，数集\n",
    "\n",
    "While循环：\n",
    "while condition:\n",
    "      do something\n",
    "\n",
    "\n",
    "•\t条件验证\n",
    "•\t无限循环\n",
    "while True:\n",
    "      do service check\n",
    "\n",
    "      \n",
    "•\t循环控制: break, continue\n",
    "•\tWhile-else用法\n",
    "\n"
   ]
  },
  {
   "cell_type": "code",
   "execution_count": null,
   "id": "98cd0458-adf5-43cf-a4b2-9d86094232b8",
   "metadata": {},
   "outputs": [],
   "source": []
  },
  {
   "cell_type": "code",
   "execution_count": 1,
   "id": "a054d792-4941-44c0-a1a3-da3de8010da4",
   "metadata": {},
   "outputs": [
    {
     "name": "stdin",
     "output_type": "stream",
     "text": [
      "请输入内容（姓名）： MicroDigit\n"
     ]
    }
   ],
   "source": [
    "usr_input = input(\"请输入内容（姓名）：\")"
   ]
  },
  {
   "cell_type": "code",
   "execution_count": 2,
   "id": "8d0d8157-a5dd-4d1e-a7f6-c08c1c44c818",
   "metadata": {},
   "outputs": [
    {
     "name": "stdout",
     "output_type": "stream",
     "text": [
      "MicroDigit\n"
     ]
    }
   ],
   "source": [
    "print(usr_input)"
   ]
  },
  {
   "cell_type": "code",
   "execution_count": 3,
   "id": "dc274dcb-5aa4-4b6d-a32e-1ae5502447de",
   "metadata": {},
   "outputs": [
    {
     "name": "stdin",
     "output_type": "stream",
     "text": [
      "请输入内容（integer）： 25\n"
     ]
    },
    {
     "data": {
      "text/plain": [
       "25"
      ]
     },
     "execution_count": 3,
     "metadata": {},
     "output_type": "execute_result"
    }
   ],
   "source": [
    "usr_input = input(\"请输入内容（integer）：\")\n",
    "\n",
    "usr_int= int(usr_input)\n",
    "usr_int"
   ]
  },
  {
   "cell_type": "code",
   "execution_count": 4,
   "id": "2238dbf2-ece7-4fdf-b132-d755c8757a0b",
   "metadata": {},
   "outputs": [
    {
     "name": "stdin",
     "output_type": "stream",
     "text": [
      "请输入内容（integer）： 3.14\n"
     ]
    },
    {
     "ename": "ValueError",
     "evalue": "invalid literal for int() with base 10: '3.14'",
     "output_type": "error",
     "traceback": [
      "\u001b[1;31m---------------------------------------------------------------------------\u001b[0m",
      "\u001b[1;31mValueError\u001b[0m                                Traceback (most recent call last)",
      "Cell \u001b[1;32mIn[4], line 3\u001b[0m\n\u001b[0;32m      1\u001b[0m usr_input \u001b[38;5;241m=\u001b[39m \u001b[38;5;28minput\u001b[39m(\u001b[38;5;124m\"\u001b[39m\u001b[38;5;124m请输入内容（integer）：\u001b[39m\u001b[38;5;124m\"\u001b[39m)\n\u001b[1;32m----> 3\u001b[0m usr_int\u001b[38;5;241m=\u001b[39m \u001b[38;5;28;43mint\u001b[39;49m\u001b[43m(\u001b[49m\u001b[43musr_input\u001b[49m\u001b[43m)\u001b[49m\n\u001b[0;32m      4\u001b[0m usr_int\n",
      "\u001b[1;31mValueError\u001b[0m: invalid literal for int() with base 10: '3.14'"
     ]
    }
   ],
   "source": [
    "usr_input = input(\"请输入内容（integer）：\")\n",
    "\n",
    "usr_int= int(usr_input)\n",
    "usr_int"
   ]
  },
  {
   "cell_type": "code",
   "execution_count": 8,
   "id": "087a2cd4-c8b0-43e8-b184-7b01f2d097c4",
   "metadata": {},
   "outputs": [
    {
     "name": "stdin",
     "output_type": "stream",
     "text": [
      "请输入内容（float）： 3.14\n"
     ]
    },
    {
     "name": "stdout",
     "output_type": "stream",
     "text": [
      "calculation with usr_int: 3.143.14\n"
     ]
    }
   ],
   "source": [
    "usr_input = input(\"请输入内容（float）：\")\n",
    "\n",
    "# usr_float= float(usr_input)\n",
    "print(f\"calculation with usr_int: {2*usr_input}\")"
   ]
  },
  {
   "cell_type": "code",
   "execution_count": 9,
   "id": "faa64b2a-ca92-41b1-88e0-83e348a29b02",
   "metadata": {},
   "outputs": [
    {
     "name": "stdin",
     "output_type": "stream",
     "text": [
      "请输入内容（bool）： \n"
     ]
    },
    {
     "data": {
      "text/plain": [
       "False"
      ]
     },
     "execution_count": 9,
     "metadata": {},
     "output_type": "execute_result"
    }
   ],
   "source": [
    "usr_input = input(\"请输入内容（bool）：\")\n",
    "\n",
    "usr_bool= bool(usr_input)\n",
    "usr_bool"
   ]
  },
  {
   "cell_type": "code",
   "execution_count": 10,
   "id": "0afbec59-bc86-4834-ab60-c41280ccdda2",
   "metadata": {},
   "outputs": [
    {
     "name": "stdin",
     "output_type": "stream",
     "text": [
      "请输入内容（bool）： False\n"
     ]
    },
    {
     "data": {
      "text/plain": [
       "True"
      ]
     },
     "execution_count": 10,
     "metadata": {},
     "output_type": "execute_result"
    }
   ],
   "source": [
    "usr_input = input(\"请输入内容（bool）：\")\n",
    "\n",
    "usr_bool= bool(usr_input)\n",
    "usr_bool"
   ]
  },
  {
   "cell_type": "code",
   "execution_count": 11,
   "id": "c28ffb28-822b-4903-af59-555a0eca32a3",
   "metadata": {},
   "outputs": [
    {
     "name": "stdin",
     "output_type": "stream",
     "text": [
      "请输入内容（bool）： Hallo\n"
     ]
    },
    {
     "data": {
      "text/plain": [
       "True"
      ]
     },
     "execution_count": 11,
     "metadata": {},
     "output_type": "execute_result"
    }
   ],
   "source": [
    "usr_input = input(\"请输入内容（bool）：\")\n",
    "\n",
    "usr_bool= bool(usr_input)\n",
    "usr_bool\n"
   ]
  },
  {
   "cell_type": "code",
   "execution_count": 12,
   "id": "9e369d91-2c0b-40da-928b-3b9c1d69ba1d",
   "metadata": {},
   "outputs": [
    {
     "name": "stdin",
     "output_type": "stream",
     "text": [
      "请输入内容（bool）： False\n"
     ]
    },
    {
     "data": {
      "text/plain": [
       "False"
      ]
     },
     "execution_count": 12,
     "metadata": {},
     "output_type": "execute_result"
    }
   ],
   "source": [
    "usr_input = input(\"请输入内容（bool）：\")\n",
    "\n",
    "usr_bool= bool(usr_input) == \"False\"\n",
    "usr_bool\n"
   ]
  },
  {
   "cell_type": "code",
   "execution_count": 15,
   "id": "74a939b1-1334-4283-8f9e-a779aea57aac",
   "metadata": {},
   "outputs": [
    {
     "name": "stdin",
     "output_type": "stream",
     "text": [
      "请输入内容，并用逗号分隔（list）： MicroDigit, 25, Python\n"
     ]
    },
    {
     "name": "stdout",
     "output_type": "stream",
     "text": [
      "<class 'list'> ['MicroDigit', ' 25', ' Python']\n"
     ]
    }
   ],
   "source": [
    "# method .split()\n",
    "usr_input = input(\"请输入内容，并用逗号分隔（list）：\")\n",
    "\n",
    "usr_list= usr_input.split(\",\")\n",
    "print(type(usr_list), usr_list)"
   ]
  },
  {
   "cell_type": "code",
   "execution_count": 17,
   "id": "d979c4c4-3951-4952-9c1e-7c0074c3b775",
   "metadata": {},
   "outputs": [
    {
     "name": "stdin",
     "output_type": "stream",
     "text": [
      "请输入内容，并用空格分隔（tuple）： 1 2 3 4 5\n"
     ]
    },
    {
     "name": "stdout",
     "output_type": "stream",
     "text": [
      "<class 'tuple'> ('1', '2', '3', '4', '5')\n"
     ]
    }
   ],
   "source": [
    "# input -> tuple\n",
    "usr_input = input(\"请输入内容，并用空格分隔（tuple）：\")\n",
    "\n",
    "usr_tuple= tuple(usr_input.split())\n",
    "print(type(usr_tuple), usr_tuple)"
   ]
  },
  {
   "cell_type": "code",
   "execution_count": 18,
   "id": "384cb75e-fbd3-4231-bdd9-2dde93859d88",
   "metadata": {},
   "outputs": [
    {
     "name": "stdin",
     "output_type": "stream",
     "text": [
      "请输入字典形式的元素（key1:val1, key2:val2）： Name: MicroDigit, Age: 25, Hobby:Python\n"
     ]
    },
    {
     "name": "stdout",
     "output_type": "stream",
     "text": [
      "<class 'dict'> {'Name': ' MicroDigit', ' Age': ' 25', ' Hobby': 'Python'}\n"
     ]
    }
   ],
   "source": [
    "# intput --> dict\n",
    "usr_input = input(\"请输入字典形式的元素（key1:val1, key2:val2）：\")\n",
    "\n",
    "usr_dict= dict(item.split(\":\") for item in usr_input.split(\",\"))\n",
    "print(type(usr_dict), usr_dict)\n"
   ]
  },
  {
   "cell_type": "code",
   "execution_count": 19,
   "id": "0bbaa530-6410-4fe3-acd3-dee896e18edb",
   "metadata": {},
   "outputs": [
    {
     "name": "stdin",
     "output_type": "stream",
     "text": [
      "请输入空格分隔元素（set）： 1 2 3 4 5\n"
     ]
    },
    {
     "name": "stdout",
     "output_type": "stream",
     "text": [
      "<class 'set'> {'1', '4', '5', '2', '3'}\n"
     ]
    }
   ],
   "source": [
    "# input --> set\n",
    "usr_input = input(\"请输入空格分隔元素（set）：\")\n",
    "\n",
    "usr_set= set(usr_input.split())\n",
    "print(type(usr_set), usr_set)"
   ]
  },
  {
   "cell_type": "code",
   "execution_count": 20,
   "id": "0ca0ee98-19bb-4b05-b202-d62dc28e0e39",
   "metadata": {},
   "outputs": [
    {
     "name": "stdout",
     "output_type": "stream",
     "text": [
      "Counter is 1\n",
      "Counter is 2\n",
      "Counter is 3\n",
      "Counter is 4\n",
      "Counter is 5\n",
      "Counter is 6\n",
      "Counter is 7\n",
      "Counter is 8\n",
      "Counter is 9\n",
      "Counter is 10\n"
     ]
    }
   ],
   "source": [
    "# while loop vairable condition\n",
    "\n",
    "counter = 0\n",
    "while counter < 10:\n",
    "    counter += 1\n",
    "    print(f\"Counter is {counter}\")"
   ]
  },
  {
   "cell_type": "code",
   "execution_count": null,
   "id": "8a851f8e-f1aa-4311-adb5-c48bfa33f362",
   "metadata": {},
   "outputs": [],
   "source": [
    "# infite loop endless loop\n",
    "#while True:\n",
    "#    print(\"i love pyhton\")"
   ]
  },
  {
   "cell_type": "code",
   "execution_count": 21,
   "id": "65d5d036-44ca-454b-afe0-f18121296ae9",
   "metadata": {},
   "outputs": [
    {
     "name": "stdout",
     "output_type": "stream",
     "text": [
      "Counter is 1\n",
      "Counter is 2\n",
      "Counter is 3\n",
      "Counter is 4\n",
      "Counter is 5\n",
      "Counter is 6\n",
      "Counter is 7\n",
      "Counter is 8\n"
     ]
    }
   ],
   "source": [
    "counter = 0\n",
    "while counter < 10:\n",
    "    counter += 1\n",
    "    if counter ==9:\n",
    "        break\n",
    "    print(f\"Counter is {counter}\")"
   ]
  },
  {
   "cell_type": "code",
   "execution_count": 22,
   "id": "6a0cd296-b163-4a1a-98d4-95820b913a34",
   "metadata": {},
   "outputs": [
    {
     "name": "stdout",
     "output_type": "stream",
     "text": [
      "Counter is 1\n",
      "Counter is 2\n",
      "Counter is 3\n",
      "Counter is 4\n",
      "Counter is 5\n",
      "Counter is 6\n",
      "Counter is 8\n",
      "Counter is 9\n",
      "Counter is 10\n"
     ]
    }
   ],
   "source": [
    "counter = 0\n",
    "while counter < 10:\n",
    "    counter += 1\n",
    "    if counter ==7:\n",
    "        continue\n",
    "    print(f\"Counter is {counter}\")"
   ]
  },
  {
   "cell_type": "code",
   "execution_count": 23,
   "id": "69ab1517-af97-4f8d-ad2e-249c6cc25432",
   "metadata": {},
   "outputs": [
    {
     "name": "stdout",
     "output_type": "stream",
     "text": [
      "Counter is 1\n",
      "Counter is 2\n",
      "Counter is 3\n",
      "Counter is 4\n",
      "Counter is 5\n",
      "Counter is 6\n",
      "Counter is 8\n",
      "Counter is 9\n",
      "Counter is 10\n",
      "while loop is ended!\n"
     ]
    }
   ],
   "source": [
    "counter = 0\n",
    "while counter < 10:\n",
    "    counter += 1\n",
    "    if counter ==7:\n",
    "        continue\n",
    "    print(f\"Counter is {counter}\")\n",
    "else:\n",
    "    print(\"while loop is ended!\")\n",
    "    "
   ]
  },
  {
   "cell_type": "code",
   "execution_count": 24,
   "id": "d870fc65-4d71-492f-90c0-f2aea5fdce81",
   "metadata": {},
   "outputs": [
    {
     "name": "stdout",
     "output_type": "stream",
     "text": [
      "Counter is 1\n",
      "Counter is 2\n",
      "Counter is 3\n",
      "Counter is 4\n",
      "Counter is 5\n",
      "Counter is 6\n"
     ]
    }
   ],
   "source": [
    "counter = 0\n",
    "while counter < 10:\n",
    "    counter += 1\n",
    "    if counter ==7:\n",
    "        break\n",
    "    print(f\"Counter is {counter}\")\n",
    "else:\n",
    "    print(\"while loop is ended!\")"
   ]
  }
 ],
 "metadata": {
  "kernelspec": {
   "display_name": "Python 3 (ipykernel)",
   "language": "python",
   "name": "python3"
  },
  "language_info": {
   "codemirror_mode": {
    "name": "ipython",
    "version": 3
   },
   "file_extension": ".py",
   "mimetype": "text/x-python",
   "name": "python",
   "nbconvert_exporter": "python",
   "pygments_lexer": "ipython3",
   "version": "3.10.14"
  }
 },
 "nbformat": 4,
 "nbformat_minor": 5
}
