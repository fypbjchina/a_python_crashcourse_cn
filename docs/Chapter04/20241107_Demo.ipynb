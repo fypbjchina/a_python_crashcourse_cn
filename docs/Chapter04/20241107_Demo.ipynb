{
 "cells": [
  {
   "cell_type": "markdown",
   "id": "da5aec23-ec9d-4fc6-b6ba-f9414568d854",
   "metadata": {},
   "source": [
    "# Python list\n",
    "\n",
    "1.1. 回顾，总结，答疑 \n",
    "\n",
    "1.2. 深刻理解核心基础概念 - §03列表, 顺序，索引 \n",
    "\n",
    "1.3. 初出茅庐建功立业 - §03 列表的结构，生成和消亡 \n",
    "\n",
    "1.4. 知识点 - 独家揭秘： 如何表达Python指令 \n",
    "\n",
    "1.5.（MDA:-)）管理入门 - §03 列表的管理（修改，排序，etc） "
   ]
  },
  {
   "cell_type": "markdown",
   "id": "a5c06334-82c5-4f66-be4a-fbc0a6f49b95",
   "metadata": {},
   "source": [
    " ## 回顾，总结，答疑"
   ]
  },
  {
   "cell_type": "markdown",
   "id": "cecac3b1-1afe-47ac-8dae-a5c783ea4864",
   "metadata": {},
   "source": [
    "## 深刻理解核心基础概念 - §03列表, 顺序，索引 \n",
    "\n",
    "容器\n",
    "动态\n",
    "顺序\n",
    "索引Index\n"
   ]
  },
  {
   "cell_type": "markdown",
   "id": "2d01cac1-e78e-4a32-b049-d328b44eb669",
   "metadata": {},
   "source": [
    "## 初出茅庐建功立业 - §03 列表的结构，生成和消亡"
   ]
  },
  {
   "cell_type": "code",
   "execution_count": 1,
   "id": "188334e7-1e0d-459c-9997-902f881cae5b",
   "metadata": {},
   "outputs": [
    {
     "data": {
      "text/plain": [
       "[]"
      ]
     },
     "execution_count": 1,
     "metadata": {},
     "output_type": "execute_result"
    }
   ],
   "source": [
    "my_list = []\n",
    "my_list"
   ]
  },
  {
   "cell_type": "code",
   "execution_count": null,
   "id": "a7e93def-ced9-45f2-b0d7-3abe79a4d479",
   "metadata": {},
   "outputs": [],
   "source": [
    "my_buz = []\n",
    "my_buz =[\"MyFirstCompany\", \"Owner\",\"Date\",\"Waren\"]\n",
    "my_buz"
   ]
  },
  {
   "cell_type": "code",
   "execution_count": null,
   "id": "aaf9ea38-7d6f-41b4-8434-f3185548a268",
   "metadata": {},
   "outputs": [],
   "source": [
    "my_buz[0] =\"Online Handyshop\"\n",
    "my_buz[1] = \"小疯子\"\n",
    "my_buz[2]  = \"2024-09-17\"\n",
    "my_buz[3]= \"Apple\"\n",
    "my_buz[4]  # 如果不小心就要出错的！！"
   ]
  },
  {
   "cell_type": "markdown",
   "id": "ee445e13-e4b8-4410-9866-b3f7e2ad860a",
   "metadata": {},
   "source": [
    "## 知识点 - 独家揭秘： 如何表达Python指令 \n"
   ]
  },
  {
   "cell_type": "code",
   "execution_count": null,
   "id": "a658bd94-b143-4d88-a89d-c3bfc1f3594c",
   "metadata": {},
   "outputs": [],
   "source": [
    "print(my_buz)"
   ]
  },
  {
   "cell_type": "markdown",
   "id": "3a813da4-7424-4051-8fff-f65bc2362d4c",
   "metadata": {},
   "source": [
    " ## MDA:-)）管理入门 - §03 列表的管理（修改，排序，etc） \n",
    "\n",
    " insert, apppend"
   ]
  },
  {
   "cell_type": "code",
   "execution_count": null,
   "id": "e3dfcb09-b323-4597-b66f-52ef0abbf7d1",
   "metadata": {},
   "outputs": [],
   "source": [
    "my_buz.append(5+15)\n",
    "my_buz.insert(2,\"Tuoer\")\n",
    "my_buz"
   ]
  },
  {
   "cell_type": "code",
   "execution_count": null,
   "id": "985fe55c-6071-4f61-bac6-0c0e1ee24c0e",
   "metadata": {},
   "outputs": [],
   "source": [
    "len(my_buz)"
   ]
  },
  {
   "cell_type": "markdown",
   "id": "0963c16d-4487-4434-a365-2d0816f23156",
   "metadata": {},
   "source": [
    "# List\n",
    "\n",
    "1.1. 回顾，总结，答疑 \n",
    "\n",
    "1.2. （MDA:-)）管理入门 - §03 列表的管理（访问，修改，排序）继续 \n",
    "\n",
    "1.3.  有用的快速扫描 - §03 列表一眼看胖瘦 \n",
    "\n",
    "1.4.  我最喜欢切切切： §04 列表切片和背后隐藏的原则 \n",
    "\n",
    "1.5. 转不晕：§04 列表中的for-循环来遍历元素 \n",
    "\n",
    "1.6. 数据分析的起点站：§04 建立数值列表，计算操作 \n"
   ]
  },
  {
   "cell_type": "code",
   "execution_count": null,
   "id": "73724099-ecdf-4c9a-9410-4424f696c8e7",
   "metadata": {},
   "outputs": [],
   "source": [
    "my_buz"
   ]
  },
  {
   "cell_type": "code",
   "execution_count": null,
   "id": "d51c16cb-d50d-4819-a1e9-0d7ec85698b1",
   "metadata": {},
   "outputs": [],
   "source": [
    "my_buz.append(10)\n",
    "my_buz.append(30)\n",
    "my_buz.append(25)\n",
    "my_buz"
   ]
  },
  {
   "cell_type": "code",
   "execution_count": null,
   "id": "14c9ec1f-d090-44dc-abcb-d52c0f36a0af",
   "metadata": {},
   "outputs": [],
   "source": [
    "wlw_buz = my_buz[:]\n",
    "wlw_buz"
   ]
  },
  {
   "cell_type": "code",
   "execution_count": null,
   "id": "f798b2a7-c032-4631-af99-5d6d9277af0c",
   "metadata": {},
   "outputs": [],
   "source": [
    "wlw_buz[3]=\"Applo\"\n",
    "wlw_buz"
   ]
  },
  {
   "cell_type": "code",
   "execution_count": null,
   "id": "9dba4df7-cfca-4b88-bac2-f35fa83ca256",
   "metadata": {},
   "outputs": [],
   "source": [
    "testlist=wlw_buz[4:]\n",
    "testlist"
   ]
  },
  {
   "cell_type": "code",
   "execution_count": null,
   "id": "8fc4dcfb-2369-4e00-b847-fd89cca0c7b0",
   "metadata": {},
   "outputs": [],
   "source": [
    "testlist.sort()\n",
    "testlist"
   ]
  },
  {
   "cell_type": "code",
   "execution_count": null,
   "id": "bbad50b7-9cc0-4f80-a2d5-4c86415cf5cf",
   "metadata": {},
   "outputs": [],
   "source": [
    "testlist1=wlw_buz[5:]\n",
    "print(f\"testlist1 before sort() is: {testlist1}\")\n",
    "\n",
    "print(f\"testlist1 after sort() is: {testlist1.sort()}\")"
   ]
  },
  {
   "cell_type": "code",
   "execution_count": null,
   "id": "0740aaca-40d1-4881-a8a3-be3f34596136",
   "metadata": {},
   "outputs": [],
   "source": [
    "tlist2=wlw_buz[5:]\n",
    "tlist2"
   ]
  },
  {
   "cell_type": "code",
   "execution_count": null,
   "id": "18f3f581-9649-4f8e-b8a5-353017b1c50d",
   "metadata": {},
   "outputs": [],
   "source": [
    "sorted(tlist2)"
   ]
  },
  {
   "cell_type": "code",
   "execution_count": null,
   "id": "6f80a2c9-3553-4355-ab84-9d1bc547ed6e",
   "metadata": {},
   "outputs": [],
   "source": [
    "tlist2"
   ]
  },
  {
   "cell_type": "code",
   "execution_count": null,
   "id": "9490d7c5-00b4-49be-bcba-da986fcca22a",
   "metadata": {},
   "outputs": [],
   "source": [
    "tlist2.reverse()\n",
    "tlist2.reverse()\n",
    "tlist2"
   ]
  },
  {
   "cell_type": "code",
   "execution_count": null,
   "id": "282601aa-f337-4620-bf34-abb72098ca12",
   "metadata": {},
   "outputs": [],
   "source": [
    "tlist2.sort(reverse=True)\n",
    "tlist2"
   ]
  },
  {
   "cell_type": "code",
   "execution_count": null,
   "id": "f7ab26d6-87cf-496a-ab53-22f48f803cb4",
   "metadata": {},
   "outputs": [],
   "source": [
    "tlist2"
   ]
  },
  {
   "cell_type": "code",
   "execution_count": null,
   "id": "8647408a-3bdc-4ab9-8b85-3ac4eff5e77e",
   "metadata": {},
   "outputs": [],
   "source": [
    "tlist2.reverse()\n",
    "tlist2"
   ]
  },
  {
   "cell_type": "markdown",
   "id": "a5645073-b1ba-4ede-a28d-7a89f1c2568a",
   "metadata": {},
   "source": [
    "1.3. 有用的快速扫描 - §03 列表一眼看胖瘦 \n",
    "\n",
    "1. type()\n",
    "2. len()"
   ]
  },
  {
   "cell_type": "code",
   "execution_count": null,
   "id": "196991f6-c44f-4624-be12-55dce9bca46f",
   "metadata": {},
   "outputs": [],
   "source": [
    "type(tlist2)"
   ]
  },
  {
   "cell_type": "code",
   "execution_count": null,
   "id": "8d50084c-791f-48f4-8baf-68fe6edeb296",
   "metadata": {},
   "outputs": [],
   "source": [
    "len(tlist2)"
   ]
  },
  {
   "cell_type": "code",
   "execution_count": null,
   "id": "43a5f3fa-99d4-4e21-9455-75ae253659f6",
   "metadata": {},
   "outputs": [],
   "source": [
    "len(my_buz)"
   ]
  },
  {
   "cell_type": "markdown",
   "id": "80b19f92-1f0c-432a-a4a0-d88192b81e54",
   "metadata": {},
   "source": [
    "1.4.  我最喜欢切切切： §04 列表切片和背后隐藏的原则 \n",
    "\n",
    "list slicing \n",
    "\n",
    "Index:    Start:Stop:step     incl. start ... stopo-1  "
   ]
  },
  {
   "cell_type": "code",
   "execution_count": null,
   "id": "2212c63e-4b83-4967-9034-df5a5bf0351b",
   "metadata": {},
   "outputs": [],
   "source": [
    "my_buz[0:5]"
   ]
  },
  {
   "cell_type": "code",
   "execution_count": null,
   "id": "af26cd70-96c0-43af-ab43-37175a7bf287",
   "metadata": {},
   "outputs": [],
   "source": [
    "my_buz\n"
   ]
  },
  {
   "cell_type": "code",
   "execution_count": null,
   "id": "08429aaa-7fdc-4bed-b9e4-ee3d1a28b155",
   "metadata": {},
   "outputs": [],
   "source": [
    "my_buz[1:4]"
   ]
  },
  {
   "cell_type": "code",
   "execution_count": null,
   "id": "217e659e-31eb-45a1-9cf8-41b1076f86b5",
   "metadata": {},
   "outputs": [],
   "source": [
    "my_buz[4:]"
   ]
  },
  {
   "cell_type": "code",
   "execution_count": null,
   "id": "678b73c7-817a-4195-a7bc-a0d5042e2580",
   "metadata": {},
   "outputs": [],
   "source": [
    "my_buz[::-1]  #my_buz.reverse()"
   ]
  },
  {
   "cell_type": "markdown",
   "id": "3791f1ce-a7c2-4e7f-8a52-d595b935573d",
   "metadata": {},
   "source": [
    "1.5. 转不晕：§04 列表中的for-循环来遍历元素 \n",
    "\n",
    "for loop\n",
    "\n",
    "[man]  从第一个元素到最后一个元素，做XX。 for counter count list[0] to list[n-1] do something\n",
    "[C] int i \n",
    "for i =0, i< 10, i++ {do something}\n",
    "[Python] for item in list:\n",
    "            print(item)\n",
    "        "
   ]
  },
  {
   "cell_type": "code",
   "execution_count": null,
   "id": "645bf0ba-372e-473b-9c3f-a2c6ab50b3b2",
   "metadata": {},
   "outputs": [],
   "source": [
    "for item in my_buz:\n",
    "    print(item)\n"
   ]
  },
  {
   "cell_type": "code",
   "execution_count": null,
   "id": "74ff630a-1340-4b08-9c90-525c53da3d9d",
   "metadata": {},
   "outputs": [],
   "source": [
    "for item in my_buz[4:]:\n",
    "    print(f\"daily sales: {item}\")"
   ]
  },
  {
   "cell_type": "code",
   "execution_count": null,
   "id": "8e2b56cd-77c1-4eda-b3b6-c9414c76d23f",
   "metadata": {},
   "outputs": [],
   "source": [
    "for index, item in enumerate(my_buz[4:]):\n",
    "       print(f\"daily sales: day: {index}, sale: {item}\") "
   ]
  },
  {
   "cell_type": "markdown",
   "id": "e1fa19c1-9b13-45ea-a7aa-d03a9a055ee7",
   "metadata": {},
   "source": [
    "# Python list Part III\n",
    "\n",
    "\n",
    "1.1. 回顾，总结，答疑 \n",
    "\n",
    "1.2. 数据分析的起点站：§04 建立数值列表，计算操作 - 继续 \n",
    "\n",
    "1.3.  （MDA:-)）管理入门 - §03 列表的管理（删除元素）-继续 \n",
    "\n",
    "1.4.  万物归墟： 列表的消亡 \n",
    "\n",
    "1.5. 新概念：§04 元组入门，正确理解元组，特性，和列表的对比 \n",
    "\n",
    "1.6. 为什么需要元组 + 元组的运用场景介绍 "
   ]
  },
  {
   "cell_type": "code",
   "execution_count": null,
   "id": "ca4e7d21-ea30-40d4-bc30-75ccb0061dac",
   "metadata": {},
   "outputs": [],
   "source": [
    "testlist =[]\n",
    "testlist"
   ]
  },
  {
   "cell_type": "markdown",
   "id": "fcc46a46-48c7-4424-ac4e-e7c450574152",
   "metadata": {},
   "source": [
    "Create list using:\n",
    "- range(number)  # number is integer, range(number) creates int serie, number expression: start:stop:step\n",
    "\n",
    "- list()"
   ]
  },
  {
   "cell_type": "code",
   "execution_count": null,
   "id": "51debff8-9ccc-417e-a3b1-095429fb50d3",
   "metadata": {},
   "outputs": [],
   "source": [
    "testlist3 = list(range(20))\n",
    "testlist3"
   ]
  },
  {
   "cell_type": "code",
   "execution_count": null,
   "id": "d5a2bf41-8128-46d9-a1a0-ea37e0c2d792",
   "metadata": {},
   "outputs": [],
   "source": [
    "testlist4=list(range(5,35))\n",
    "testlist4"
   ]
  },
  {
   "cell_type": "code",
   "execution_count": null,
   "id": "3421a7b3-f1ec-4cc4-8cb6-27c1ec87290c",
   "metadata": {},
   "outputs": [],
   "source": [
    "wlw_buz"
   ]
  },
  {
   "cell_type": "code",
   "execution_count": null,
   "id": "76889c7b-622a-414e-93a9-aa3e5f15a687",
   "metadata": {},
   "outputs": [],
   "source": [
    "indices = list(range(len(wlw_buz)))  # range as indexing method\n",
    "indices"
   ]
  },
  {
   "cell_type": "code",
   "execution_count": null,
   "id": "42708583-9a16-4be9-a815-25c999a3ade2",
   "metadata": {},
   "outputs": [],
   "source": [
    "wlw_buz"
   ]
  },
  {
   "cell_type": "code",
   "execution_count": null,
   "id": "224c3865-f34d-43fe-a439-9aba392b4873",
   "metadata": {},
   "outputs": [],
   "source": [
    "# used in for loop\n",
    "for i in range(len(wlw_buz)):   # identical  for item in wlw_buz:\n",
    "    print(wlw_buz[i])"
   ]
  },
  {
   "cell_type": "code",
   "execution_count": 1,
   "id": "68635311-8225-44a0-9264-d68eaba85073",
   "metadata": {},
   "outputs": [
    {
     "ename": "TypeError",
     "evalue": "list indices must be integers or slices, not range",
     "output_type": "error",
     "traceback": [
      "\u001b[1;31m---------------------------------------------------------------------------\u001b[0m",
      "\u001b[1;31mTypeError\u001b[0m                                 Traceback (most recent call last)",
      "\u001b[1;32m~\\AppData\\Local\\Temp/ipykernel_3388/1629028303.py\u001b[0m in \u001b[0;36m<module>\u001b[1;34m\u001b[0m\n\u001b[0;32m      2\u001b[0m \u001b[0mnumbers\u001b[0m \u001b[1;33m=\u001b[0m \u001b[0mlist\u001b[0m\u001b[1;33m(\u001b[0m\u001b[0mrange\u001b[0m\u001b[1;33m(\u001b[0m\u001b[1;36m10\u001b[0m\u001b[1;33m)\u001b[0m\u001b[1;33m)\u001b[0m\u001b[1;33m\u001b[0m\u001b[1;33m\u001b[0m\u001b[0m\n\u001b[0;32m      3\u001b[0m \u001b[1;31m# print the first 5 elements\u001b[0m\u001b[1;33m\u001b[0m\u001b[1;33m\u001b[0m\u001b[0m\n\u001b[1;32m----> 4\u001b[1;33m \u001b[0mprint\u001b[0m\u001b[1;33m(\u001b[0m\u001b[1;34mf\" the fist 5: {numbers[range(0,5)]}\"\u001b[0m\u001b[1;33m)\u001b[0m\u001b[1;33m\u001b[0m\u001b[1;33m\u001b[0m\u001b[0m\n\u001b[0m\u001b[0;32m      5\u001b[0m \u001b[1;31m#print(f\" the fist 5: {numbers[0:5]}\")\u001b[0m\u001b[1;33m\u001b[0m\u001b[1;33m\u001b[0m\u001b[0m\n\u001b[0;32m      6\u001b[0m \u001b[1;33m\u001b[0m\u001b[0m\n",
      "\u001b[1;31mTypeError\u001b[0m: list indices must be integers or slices, not range"
     ]
    }
   ],
   "source": [
    "# slicing using range\n",
    "numbers = list(range(10))\n",
    "# print the first 5 elements\n",
    "print(f\" the fist 5: {numbers[range(0,5)]}\")\n",
    "#print(f\" the fist 5: {numbers[0:5]}\")\n",
    "\n",
    "# print the last 3 elements\n",
    "#print(f\" the last 3: {numbers[range(-3,len(numbers))]}\")\n",
    "\n",
    "# print segments in the list\n",
    "#print(f\" the fist 5: {numbers[range(3,len(numbers),2)]}\")\n"
   ]
  },
  {
   "cell_type": "markdown",
   "id": "d386cb3e-d704-4a48-a072-78ea1851dff6",
   "metadata": {},
   "source": [
    "## deleting list elements \n",
    "\n",
    "- Function: del list()\n",
    "  \n",
    "- Method: list.remove(), list.pop()"
   ]
  },
  {
   "cell_type": "code",
   "execution_count": null,
   "id": "e663857b-26c4-4966-9c76-df5b09338dce",
   "metadata": {},
   "outputs": [],
   "source": [
    "wlw_buz"
   ]
  },
  {
   "cell_type": "code",
   "execution_count": null,
   "id": "d269f36c-3047-47bf-821b-0efb47fae486",
   "metadata": {},
   "outputs": [],
   "source": [
    "wlw2_buz = wlw_buz[:]\n",
    "wlw2_buz"
   ]
  },
  {
   "cell_type": "code",
   "execution_count": null,
   "id": "76bf7675-585f-47e2-8194-ccc99bda0d56",
   "metadata": {},
   "outputs": [],
   "source": [
    "# del delets the total list\n",
    "del wlw2_buz\n",
    "wlw2_buz"
   ]
  },
  {
   "cell_type": "code",
   "execution_count": null,
   "id": "7dbd1a5e-2bc7-4c4c-9bc6-203f3d394c7e",
   "metadata": {},
   "outputs": [],
   "source": [
    "wlw2_buz = wlw_buz[:]\n",
    "wlw2_buz"
   ]
  },
  {
   "cell_type": "code",
   "execution_count": null,
   "id": "e26d95ca-456c-40a9-8b0c-03bd37d1e58d",
   "metadata": {},
   "outputs": [],
   "source": [
    "del wlw2_buz[0:4]\n",
    "wlw2_buz   #  ??"
   ]
  },
  {
   "cell_type": "code",
   "execution_count": null,
   "id": "20dc7126-ccea-4766-a6e9-bcf779ad0eec",
   "metadata": {},
   "outputs": [],
   "source": [
    "# .remove()\n",
    "wlw2_buz = wlw_buz[:]\n",
    "wlw2_buz.remove(\"Tuoer\")\n",
    "wlw2_buz"
   ]
  },
  {
   "cell_type": "code",
   "execution_count": null,
   "id": "768c05ee-2810-4e8d-b13f-94d45c126e84",
   "metadata": {},
   "outputs": [],
   "source": [
    "wlw2_buz.remove(\"Applo\")\n",
    "wlw2_buz"
   ]
  },
  {
   "cell_type": "code",
   "execution_count": null,
   "id": "ab93d3be-1667-428c-94e4-be7f143e12ff",
   "metadata": {},
   "outputs": [],
   "source": [
    "wlw2_buz.remove(25)\n",
    "wlw2_buz"
   ]
  },
  {
   "cell_type": "code",
   "execution_count": null,
   "id": "36fbeb13-a1b3-414f-a95c-7cffb7ac0e6f",
   "metadata": {},
   "outputs": [],
   "source": [
    "# using .pop()\n",
    "wlw2_buz = wlw_buz[:]\n",
    "wlw2_buz.pop()\n",
    "wlw2_buz"
   ]
  },
  {
   "cell_type": "code",
   "execution_count": null,
   "id": "1ca7a16d-3d50-4c13-b50b-98f39d08423f",
   "metadata": {},
   "outputs": [],
   "source": [
    "wlw2_buz.pop(3)\n",
    "wlw2_buz"
   ]
  },
  {
   "cell_type": "markdown",
   "id": "bc85c5a4-43db-431c-9875-0c4a81708c34",
   "metadata": {},
   "source": [
    "#  the death of list \n",
    "\n",
    "how many ways you can use to let a list to die!\n",
    "\n"
   ]
  },
  {
   "cell_type": "code",
   "execution_count": null,
   "id": "a38a494c-adae-4d72-b6f0-085bfb85ef23",
   "metadata": {},
   "outputs": [],
   "source": [
    "wlw2_buz "
   ]
  },
  {
   "cell_type": "code",
   "execution_count": null,
   "id": "8142bc16-d597-482e-94eb-d1c1226458d7",
   "metadata": {},
   "outputs": [],
   "source": [
    "# death via creation\n",
    "wlw2_buz = []\n",
    "wlw2_buz"
   ]
  },
  {
   "cell_type": "code",
   "execution_count": null,
   "id": "d01b493c-ada4-427d-a90d-9b9c73736f5a",
   "metadata": {},
   "outputs": [],
   "source": [
    "# 赋值\n",
    "wlw2_buz = ['Online Handyshop', '小疯子', 'Tuoer', 'Apple', 20, 10, 30]\n",
    "wlw3_buz= wlw2_buz[:]\n",
    "wlw3_buz *=0\n",
    "wlw3_buz\n"
   ]
  },
  {
   "cell_type": "code",
   "execution_count": null,
   "id": "f2173ef4-695a-4bcc-959f-9955ae60b2dc",
   "metadata": {},
   "outputs": [],
   "source": [
    "# del \n",
    "wlw3_buz= wlw2_buz[:]\n",
    "print(f\" before del: {wlw3_buz}\")\n",
    "del wlw3_buz[:]\n",
    "wlw3_buz"
   ]
  },
  {
   "cell_type": "code",
   "execution_count": null,
   "id": "62d757b3-ca9f-457c-b479-e983257728bf",
   "metadata": {},
   "outputs": [],
   "source": [
    "# clear()\n",
    "# slicing \n",
    "# for /while loop  + len(list) + pop()"
   ]
  },
  {
   "cell_type": "code",
   "execution_count": null,
   "id": "61081514-6d94-416f-af64-6c9362f7fff2",
   "metadata": {},
   "outputs": [],
   "source": []
  },
  {
   "cell_type": "code",
   "execution_count": null,
   "id": "c7a8d4f7-01e8-4f99-a3b1-2567134ded59",
   "metadata": {},
   "outputs": [],
   "source": []
  },
  {
   "cell_type": "code",
   "execution_count": null,
   "id": "496d5a92-07f3-40d7-9901-7e9e01d671bf",
   "metadata": {},
   "outputs": [],
   "source": []
  },
  {
   "cell_type": "code",
   "execution_count": null,
   "id": "2d44d798-93c6-4880-958a-49ca5512982e",
   "metadata": {},
   "outputs": [],
   "source": []
  }
 ],
 "metadata": {
  "kernelspec": {
   "display_name": "Python 3 (ipykernel)",
   "language": "python",
   "name": "python3"
  },
  "language_info": {
   "codemirror_mode": {
    "name": "ipython",
    "version": 3
   },
   "file_extension": ".py",
   "mimetype": "text/x-python",
   "name": "python",
   "nbconvert_exporter": "python",
   "pygments_lexer": "ipython3",
   "version": "3.9.7"
  }
 },
 "nbformat": 4,
 "nbformat_minor": 5
}
