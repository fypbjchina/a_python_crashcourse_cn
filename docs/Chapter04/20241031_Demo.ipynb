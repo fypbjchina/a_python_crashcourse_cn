{
 "cells": [
  {
   "cell_type": "markdown",
   "id": "da5aec23-ec9d-4fc6-b6ba-f9414568d854",
   "metadata": {},
   "source": [
    "# Python list\n",
    "\n",
    "1.1. 回顾，总结，答疑 \n",
    "\n",
    "1.2. 深刻理解核心基础概念 - §03列表, 顺序，索引 \n",
    "\n",
    "1.3. 初出茅庐建功立业 - §03 列表的结构，生成和消亡 \n",
    "\n",
    "1.4. 知识点 - 独家揭秘： 如何表达Python指令 \n",
    "\n",
    "1.5.（MDA:-)）管理入门 - §03 列表的管理（修改，排序，etc） "
   ]
  },
  {
   "cell_type": "code",
   "execution_count": null,
   "id": "85abc9a0-2d2f-4d08-be37-337c0c677735",
   "metadata": {},
   "outputs": [],
   "source": []
  },
  {
   "cell_type": "code",
   "execution_count": null,
   "id": "e4540245-bc87-4ca7-b4ae-7e9f61fbdab6",
   "metadata": {},
   "outputs": [],
   "source": []
  },
  {
   "cell_type": "markdown",
   "id": "a5c06334-82c5-4f66-be4a-fbc0a6f49b95",
   "metadata": {},
   "source": [
    " ## 回顾，总结，答疑"
   ]
  },
  {
   "cell_type": "markdown",
   "id": "cecac3b1-1afe-47ac-8dae-a5c783ea4864",
   "metadata": {},
   "source": [
    "## 深刻理解核心基础概念 - §03列表, 顺序，索引 \n",
    "\n",
    "容器\n",
    "动态\n",
    "顺序\n",
    "索引Index\n"
   ]
  },
  {
   "cell_type": "markdown",
   "id": "2d01cac1-e78e-4a32-b049-d328b44eb669",
   "metadata": {},
   "source": [
    "## 初出茅庐建功立业 - §03 列表的结构，生成和消亡"
   ]
  },
  {
   "cell_type": "code",
   "execution_count": 2,
   "id": "188334e7-1e0d-459c-9997-902f881cae5b",
   "metadata": {},
   "outputs": [
    {
     "data": {
      "text/plain": [
       "[]"
      ]
     },
     "execution_count": 2,
     "metadata": {},
     "output_type": "execute_result"
    }
   ],
   "source": [
    "my_list = []\n",
    "my_list"
   ]
  },
  {
   "cell_type": "code",
   "execution_count": 3,
   "id": "a7e93def-ced9-45f2-b0d7-3abe79a4d479",
   "metadata": {},
   "outputs": [
    {
     "data": {
      "text/plain": [
       "['MyFirstCompany', 'Owner', 'Date', 'Waren']"
      ]
     },
     "execution_count": 3,
     "metadata": {},
     "output_type": "execute_result"
    }
   ],
   "source": [
    "my_buz = []\n",
    "my_buz =[\"MyFirstCompany\", \"Owner\",\"Date\",\"Waren\"]\n",
    "my_buz"
   ]
  },
  {
   "cell_type": "code",
   "execution_count": 4,
   "id": "aaf9ea38-7d6f-41b4-8434-f3185548a268",
   "metadata": {},
   "outputs": [
    {
     "ename": "IndexError",
     "evalue": "list index out of range",
     "output_type": "error",
     "traceback": [
      "\u001b[1;31m---------------------------------------------------------------------------\u001b[0m",
      "\u001b[1;31mIndexError\u001b[0m                                Traceback (most recent call last)",
      "Cell \u001b[1;32mIn[4], line 5\u001b[0m\n\u001b[0;32m      3\u001b[0m my_buz[\u001b[38;5;241m2\u001b[39m]  \u001b[38;5;241m=\u001b[39m \u001b[38;5;124m\"\u001b[39m\u001b[38;5;124m2024-09-17\u001b[39m\u001b[38;5;124m\"\u001b[39m\n\u001b[0;32m      4\u001b[0m my_buz[\u001b[38;5;241m3\u001b[39m]\u001b[38;5;241m=\u001b[39m \u001b[38;5;124m\"\u001b[39m\u001b[38;5;124mApple\u001b[39m\u001b[38;5;124m\"\u001b[39m\n\u001b[1;32m----> 5\u001b[0m \u001b[43mmy_buz\u001b[49m\u001b[43m[\u001b[49m\u001b[38;5;241;43m4\u001b[39;49m\u001b[43m]\u001b[49m  \u001b[38;5;66;03m# 如果不小心就要出错的！！\u001b[39;00m\n",
      "\u001b[1;31mIndexError\u001b[0m: list index out of range"
     ]
    }
   ],
   "source": [
    "my_buz[0] =\"Online Handyshop\"\n",
    "my_buz[1] = \"小疯子\"\n",
    "my_buz[2]  = \"2024-09-17\"\n",
    "my_buz[3]= \"Apple\"\n",
    "my_buz[4]  # 如果不小心就要出错的！！"
   ]
  },
  {
   "cell_type": "markdown",
   "id": "ee445e13-e4b8-4410-9866-b3f7e2ad860a",
   "metadata": {},
   "source": [
    "## 知识点 - 独家揭秘： 如何表达Python指令 \n"
   ]
  },
  {
   "cell_type": "code",
   "execution_count": null,
   "id": "a658bd94-b143-4d88-a89d-c3bfc1f3594c",
   "metadata": {},
   "outputs": [],
   "source": [
    "print(my_buz)"
   ]
  },
  {
   "cell_type": "markdown",
   "id": "3a813da4-7424-4051-8fff-f65bc2362d4c",
   "metadata": {},
   "source": [
    " ## MDA:-)）管理入门 - §03 列表的管理（修改，排序，etc） \n",
    "\n",
    " insert, apppend"
   ]
  },
  {
   "cell_type": "code",
   "execution_count": null,
   "id": "e3dfcb09-b323-4597-b66f-52ef0abbf7d1",
   "metadata": {},
   "outputs": [],
   "source": [
    "my_buz.append(5+15)\n",
    "my_buz.insert(2,\"Tuoer\")\n",
    "my_buz"
   ]
  },
  {
   "cell_type": "code",
   "execution_count": null,
   "id": "985fe55c-6071-4f61-bac6-0c0e1ee24c0e",
   "metadata": {},
   "outputs": [],
   "source": [
    "len(my_buz)"
   ]
  },
  {
   "cell_type": "markdown",
   "id": "0963c16d-4487-4434-a365-2d0816f23156",
   "metadata": {},
   "source": [
    "# List\n",
    "\n",
    "1.1. 回顾，总结，答疑 \n",
    "\n",
    "1.2. （MDA:-)）管理入门 - §03 列表的管理（访问，修改，排序）继续 \n",
    "\n",
    "1.3.  有用的快速扫描 - §03 列表一眼看胖瘦 \n",
    "\n",
    "1.4.  我最喜欢切切切： §04 列表切片和背后隐藏的原则 \n",
    "\n",
    "1.5. 转不晕：§04 列表中的for-循环来遍历元素 \n",
    "\n",
    "1.6. 数据分析的起点站：§04 建立数值列表，计算操作 \n"
   ]
  },
  {
   "cell_type": "code",
   "execution_count": 5,
   "id": "73724099-ecdf-4c9a-9410-4424f696c8e7",
   "metadata": {},
   "outputs": [
    {
     "data": {
      "text/plain": [
       "['Online Handyshop', '小疯子', '2024-09-17', 'Apple']"
      ]
     },
     "execution_count": 5,
     "metadata": {},
     "output_type": "execute_result"
    }
   ],
   "source": [
    "my_buz"
   ]
  },
  {
   "cell_type": "code",
   "execution_count": 11,
   "id": "d51c16cb-d50d-4819-a1e9-0d7ec85698b1",
   "metadata": {},
   "outputs": [
    {
     "data": {
      "text/plain": [
       "['Online Handyshop', '小疯子', '2024-09-17', 'Apple', 10, 10, 30, 25]"
      ]
     },
     "execution_count": 11,
     "metadata": {},
     "output_type": "execute_result"
    }
   ],
   "source": [
    "my_buz.append(10)\n",
    "my_buz.append(30)\n",
    "my_buz.append(25)\n",
    "my_buz"
   ]
  },
  {
   "cell_type": "code",
   "execution_count": 12,
   "id": "14c9ec1f-d090-44dc-abcb-d52c0f36a0af",
   "metadata": {},
   "outputs": [
    {
     "data": {
      "text/plain": [
       "['Online Handyshop', '小疯子', '2024-09-17', 'Apple', 10, 10, 30, 25]"
      ]
     },
     "execution_count": 12,
     "metadata": {},
     "output_type": "execute_result"
    }
   ],
   "source": [
    "wlw_buz = my_buz[:]\n",
    "wlw_buz"
   ]
  },
  {
   "cell_type": "code",
   "execution_count": 13,
   "id": "f798b2a7-c032-4631-af99-5d6d9277af0c",
   "metadata": {},
   "outputs": [
    {
     "data": {
      "text/plain": [
       "['Online Handyshop', '小疯子', '2024-09-17', 'Applo', 10, 10, 30, 25]"
      ]
     },
     "execution_count": 13,
     "metadata": {},
     "output_type": "execute_result"
    }
   ],
   "source": [
    "wlw_buz[3]=\"Applo\"\n",
    "wlw_buz"
   ]
  },
  {
   "cell_type": "code",
   "execution_count": 21,
   "id": "9dba4df7-cfca-4b88-bac2-f35fa83ca256",
   "metadata": {},
   "outputs": [
    {
     "data": {
      "text/plain": [
       "[10, 10, 30, 25]"
      ]
     },
     "execution_count": 21,
     "metadata": {},
     "output_type": "execute_result"
    }
   ],
   "source": [
    "testlist=wlw_buz[4:]\n",
    "testlist"
   ]
  },
  {
   "cell_type": "code",
   "execution_count": 24,
   "id": "8fc4dcfb-2369-4e00-b847-fd89cca0c7b0",
   "metadata": {},
   "outputs": [
    {
     "data": {
      "text/plain": [
       "[10, 10, 25, 30]"
      ]
     },
     "execution_count": 24,
     "metadata": {},
     "output_type": "execute_result"
    }
   ],
   "source": [
    "testlist.sort()\n",
    "testlist"
   ]
  },
  {
   "cell_type": "code",
   "execution_count": 39,
   "id": "0740aaca-40d1-4881-a8a3-be3f34596136",
   "metadata": {},
   "outputs": [
    {
     "data": {
      "text/plain": [
       "[10, 10, 30, 25]"
      ]
     },
     "execution_count": 39,
     "metadata": {},
     "output_type": "execute_result"
    }
   ],
   "source": [
    "tlist2=wlw_buz[4:]\n",
    "tlist2"
   ]
  },
  {
   "cell_type": "code",
   "execution_count": 38,
   "id": "18f3f581-9649-4f8e-b8a5-353017b1c50d",
   "metadata": {},
   "outputs": [
    {
     "data": {
      "text/plain": [
       "[10, 10, 25, 30]"
      ]
     },
     "execution_count": 38,
     "metadata": {},
     "output_type": "execute_result"
    }
   ],
   "source": [
    "sorted(tlist2)"
   ]
  },
  {
   "cell_type": "code",
   "execution_count": 40,
   "id": "6f80a2c9-3553-4355-ab84-9d1bc547ed6e",
   "metadata": {},
   "outputs": [
    {
     "data": {
      "text/plain": [
       "[10, 10, 30, 25]"
      ]
     },
     "execution_count": 40,
     "metadata": {},
     "output_type": "execute_result"
    }
   ],
   "source": [
    "tlist2"
   ]
  },
  {
   "cell_type": "code",
   "execution_count": 50,
   "id": "9490d7c5-00b4-49be-bcba-da986fcca22a",
   "metadata": {},
   "outputs": [
    {
     "data": {
      "text/plain": [
       "[30, 25, 10, 10]"
      ]
     },
     "execution_count": 50,
     "metadata": {},
     "output_type": "execute_result"
    }
   ],
   "source": [
    "tlist2.reverse()\n",
    "tlist2.reverse()\n",
    "tlist2"
   ]
  },
  {
   "cell_type": "code",
   "execution_count": 46,
   "id": "282601aa-f337-4620-bf34-abb72098ca12",
   "metadata": {},
   "outputs": [
    {
     "data": {
      "text/plain": [
       "[30, 25, 10, 10]"
      ]
     },
     "execution_count": 46,
     "metadata": {},
     "output_type": "execute_result"
    }
   ],
   "source": [
    "tlist2.sort(reverse=True)\n",
    "tlist2"
   ]
  },
  {
   "cell_type": "code",
   "execution_count": 51,
   "id": "f7ab26d6-87cf-496a-ab53-22f48f803cb4",
   "metadata": {},
   "outputs": [
    {
     "data": {
      "text/plain": [
       "[30, 25, 10, 10]"
      ]
     },
     "execution_count": 51,
     "metadata": {},
     "output_type": "execute_result"
    }
   ],
   "source": [
    "tlist2"
   ]
  },
  {
   "cell_type": "code",
   "execution_count": 52,
   "id": "8647408a-3bdc-4ab9-8b85-3ac4eff5e77e",
   "metadata": {},
   "outputs": [
    {
     "data": {
      "text/plain": [
       "[10, 10, 25, 30]"
      ]
     },
     "execution_count": 52,
     "metadata": {},
     "output_type": "execute_result"
    }
   ],
   "source": [
    "tlist2.reverse()\n",
    "tlist2"
   ]
  },
  {
   "cell_type": "markdown",
   "id": "a5645073-b1ba-4ede-a28d-7a89f1c2568a",
   "metadata": {},
   "source": [
    "1.3. 有用的快速扫描 - §03 列表一眼看胖瘦 \n",
    "\n",
    "1. type()\n",
    "2. len()"
   ]
  },
  {
   "cell_type": "code",
   "execution_count": 55,
   "id": "196991f6-c44f-4624-be12-55dce9bca46f",
   "metadata": {},
   "outputs": [
    {
     "data": {
      "text/plain": [
       "list"
      ]
     },
     "execution_count": 55,
     "metadata": {},
     "output_type": "execute_result"
    }
   ],
   "source": [
    "type(tlist2)"
   ]
  },
  {
   "cell_type": "code",
   "execution_count": 56,
   "id": "8d50084c-791f-48f4-8baf-68fe6edeb296",
   "metadata": {},
   "outputs": [
    {
     "data": {
      "text/plain": [
       "4"
      ]
     },
     "execution_count": 56,
     "metadata": {},
     "output_type": "execute_result"
    }
   ],
   "source": [
    "len(tlist2)"
   ]
  },
  {
   "cell_type": "code",
   "execution_count": 57,
   "id": "43a5f3fa-99d4-4e21-9455-75ae253659f6",
   "metadata": {},
   "outputs": [
    {
     "data": {
      "text/plain": [
       "8"
      ]
     },
     "execution_count": 57,
     "metadata": {},
     "output_type": "execute_result"
    }
   ],
   "source": [
    "len(my_buz)"
   ]
  },
  {
   "cell_type": "markdown",
   "id": "80b19f92-1f0c-432a-a4a0-d88192b81e54",
   "metadata": {},
   "source": [
    "1.4.  我最喜欢切切切： §04 列表切片和背后隐藏的原则 \n",
    "\n",
    "list slicing \n",
    "\n",
    "Index:    Start:Stop:step     incl. start ... stopo-1  "
   ]
  },
  {
   "cell_type": "code",
   "execution_count": 58,
   "id": "2212c63e-4b83-4967-9034-df5a5bf0351b",
   "metadata": {},
   "outputs": [
    {
     "data": {
      "text/plain": [
       "['Online Handyshop', '小疯子', '2024-09-17', 'Apple', 10]"
      ]
     },
     "execution_count": 58,
     "metadata": {},
     "output_type": "execute_result"
    }
   ],
   "source": [
    "my_buz[0:5]"
   ]
  },
  {
   "cell_type": "code",
   "execution_count": 62,
   "id": "af26cd70-96c0-43af-ab43-37175a7bf287",
   "metadata": {},
   "outputs": [
    {
     "data": {
      "text/plain": [
       "['Online Handyshop', '小疯子', '2024-09-17', 'Apple', 10, 10, 30, 25]"
      ]
     },
     "execution_count": 62,
     "metadata": {},
     "output_type": "execute_result"
    }
   ],
   "source": [
    "my_buz\n"
   ]
  },
  {
   "cell_type": "code",
   "execution_count": 63,
   "id": "08429aaa-7fdc-4bed-b9e4-ee3d1a28b155",
   "metadata": {},
   "outputs": [
    {
     "data": {
      "text/plain": [
       "['小疯子', '2024-09-17', 'Apple']"
      ]
     },
     "execution_count": 63,
     "metadata": {},
     "output_type": "execute_result"
    }
   ],
   "source": [
    "my_buz[1:4]"
   ]
  },
  {
   "cell_type": "code",
   "execution_count": 65,
   "id": "217e659e-31eb-45a1-9cf8-41b1076f86b5",
   "metadata": {},
   "outputs": [
    {
     "data": {
      "text/plain": [
       "[10, 10, 30, 25]"
      ]
     },
     "execution_count": 65,
     "metadata": {},
     "output_type": "execute_result"
    }
   ],
   "source": [
    "my_buz[4:]"
   ]
  },
  {
   "cell_type": "code",
   "execution_count": 67,
   "id": "678b73c7-817a-4195-a7bc-a0d5042e2580",
   "metadata": {},
   "outputs": [
    {
     "data": {
      "text/plain": [
       "[25, 30, 10, 10, 'Apple', '2024-09-17', '小疯子', 'Online Handyshop']"
      ]
     },
     "execution_count": 67,
     "metadata": {},
     "output_type": "execute_result"
    }
   ],
   "source": [
    "my_buz[::-1]  #my_buz.reverse()"
   ]
  },
  {
   "cell_type": "markdown",
   "id": "3791f1ce-a7c2-4e7f-8a52-d595b935573d",
   "metadata": {},
   "source": [
    "1.5. 转不晕：§04 列表中的for-循环来遍历元素 \n",
    "\n",
    "for loop\n",
    "\n",
    "[man]  从第一个元素到最后一个元素，做XX。 for counter count list[0] to list[n-1] do something\n",
    "[C] int i \n",
    "for i =0, i< 10, i++ {do something}\n",
    "[Python] for item in list:\n",
    "            print(item)\n",
    "        "
   ]
  },
  {
   "cell_type": "code",
   "execution_count": 68,
   "id": "645bf0ba-372e-473b-9c3f-a2c6ab50b3b2",
   "metadata": {},
   "outputs": [
    {
     "name": "stdout",
     "output_type": "stream",
     "text": [
      "Online Handyshop\n",
      "小疯子\n",
      "2024-09-17\n",
      "Apple\n",
      "10\n",
      "10\n",
      "30\n",
      "25\n"
     ]
    }
   ],
   "source": [
    "for item in my_buz:\n",
    "    print(item)\n"
   ]
  },
  {
   "cell_type": "code",
   "execution_count": 69,
   "id": "74ff630a-1340-4b08-9c90-525c53da3d9d",
   "metadata": {},
   "outputs": [
    {
     "name": "stdout",
     "output_type": "stream",
     "text": [
      "daily sales: 10\n",
      "daily sales: 10\n",
      "daily sales: 30\n",
      "daily sales: 25\n"
     ]
    }
   ],
   "source": [
    "for item in my_buz[4:]:\n",
    "    print(f\"daily sales: {item}\")"
   ]
  },
  {
   "cell_type": "code",
   "execution_count": 71,
   "id": "8e2b56cd-77c1-4eda-b3b6-c9414c76d23f",
   "metadata": {},
   "outputs": [
    {
     "name": "stdout",
     "output_type": "stream",
     "text": [
      "daily sales: day: 0, sale: 10\n",
      "daily sales: day: 1, sale: 10\n",
      "daily sales: day: 2, sale: 30\n",
      "daily sales: day: 3, sale: 25\n"
     ]
    }
   ],
   "source": [
    "for index, item in enumerate(my_buz[4:]):\n",
    "       print(f\"daily sales: day: {index}, sale: {item}\") "
   ]
  },
  {
   "cell_type": "code",
   "execution_count": null,
   "id": "b4a0c940-ab2a-445e-a915-4d485af64a37",
   "metadata": {},
   "outputs": [],
   "source": []
  },
  {
   "cell_type": "code",
   "execution_count": null,
   "id": "ca4e7d21-ea30-40d4-bc30-75ccb0061dac",
   "metadata": {},
   "outputs": [],
   "source": []
  },
  {
   "cell_type": "code",
   "execution_count": null,
   "id": "36b589b3-7116-492a-8640-a6e950aa48d3",
   "metadata": {},
   "outputs": [],
   "source": []
  },
  {
   "cell_type": "code",
   "execution_count": null,
   "id": "51debff8-9ccc-417e-a3b1-095429fb50d3",
   "metadata": {},
   "outputs": [],
   "source": []
  }
 ],
 "metadata": {
  "kernelspec": {
   "display_name": "Python 3 (ipykernel)",
   "language": "python",
   "name": "python3"
  },
  "language_info": {
   "codemirror_mode": {
    "name": "ipython",
    "version": 3
   },
   "file_extension": ".py",
   "mimetype": "text/x-python",
   "name": "python",
   "nbconvert_exporter": "python",
   "pygments_lexer": "ipython3",
   "version": "3.10.14"
  }
 },
 "nbformat": 4,
 "nbformat_minor": 5
}
