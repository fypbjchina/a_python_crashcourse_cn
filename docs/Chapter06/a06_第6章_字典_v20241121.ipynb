{
 "cells": [
  {
   "cell_type": "markdown",
   "id": "e27a4d82",
   "metadata": {},
   "source": [
    "# Python编程：从入门到实践（第2版）/ 20240919 <a class=\"tocSkip\">"
   ]
  },
  {
   "cell_type": "markdown",
   "id": "a327f814",
   "metadata": {},
   "source": [
    "# 第 6 章　字典 / 20241121"
   ]
  },
  {
   "cell_type": "markdown",
   "id": "1000dbdf",
   "metadata": {
    "vscode": {
     "languageId": "raw"
    }
   },
   "source": [
    "## 6.1　一个简单的字典"
   ]
  },
  {
   "cell_type": "code",
   "execution_count": 2,
   "id": "da8dee74",
   "metadata": {},
   "outputs": [
    {
     "name": "stdout",
     "output_type": "stream",
     "text": [
      "{'brand': 'gm chevrolet', 'color': 'black'}\n"
     ]
    }
   ],
   "source": [
    "cars = {'brand': 'gm chevrolet', 'color': 'black'}\n",
    "print(cars)"
   ]
  },
  {
   "cell_type": "code",
   "execution_count": 4,
   "id": "45da2099",
   "metadata": {},
   "outputs": [
    {
     "name": "stdout",
     "output_type": "stream",
     "text": [
      "{'brand': 'gm chevrolet', 'color': 'black'}\n"
     ]
    }
   ],
   "source": [
    "cars = {'brand':'gm chevrolet', 'color': 'black'}\n",
    "print(cars)"
   ]
  },
  {
   "cell_type": "markdown",
   "id": "c42e2903",
   "metadata": {
    "vscode": {
     "languageId": "raw"
    }
   },
   "source": [
    "## 6.2　使用字典<br>\n",
    "在Python中，字典用放在花括号 {} 中的一系列 <键-值> 对表示<br>\n",
    "方法：键值对：items(); 键: Keys(); 值: values()"
   ]
  },
  {
   "cell_type": "code",
   "execution_count": 48,
   "id": "0e9341b8",
   "metadata": {},
   "outputs": [
    {
     "name": "stdout",
     "output_type": "stream",
     "text": [
      "gm chevrolet\n",
      "black\n",
      "GM CHEVROLET:\tBlack\n"
     ]
    }
   ],
   "source": [
    "cars = {'brand': 'gm chevrolet', 'color': 'black'}\n",
    "\n",
    "print(cars['brand'])\n",
    "print(cars['color'])\n",
    "\n",
    "print(f\"{cars['brand'].upper()}:\\t{cars['color'].title()}\")"
   ]
  },
  {
   "cell_type": "code",
   "execution_count": 59,
   "id": "4a62b65a",
   "metadata": {},
   "outputs": [
    {
     "data": {
      "text/plain": [
       "['brand', 'color']"
      ]
     },
     "execution_count": 59,
     "metadata": {},
     "output_type": "execute_result"
    }
   ],
   "source": [
    "type(cars.keys())\n",
    "\n",
    "a = list(cars.keys())\n",
    "a"
   ]
  },
  {
   "cell_type": "code",
   "execution_count": 60,
   "id": "607d0eff",
   "metadata": {},
   "outputs": [
    {
     "data": {
      "text/plain": [
       "['gm chevrolet', 'black']"
      ]
     },
     "execution_count": 60,
     "metadata": {},
     "output_type": "execute_result"
    }
   ],
   "source": [
    "b = list(cars.values())\n",
    "b"
   ]
  },
  {
   "cell_type": "code",
   "execution_count": 62,
   "id": "0f9b7429",
   "metadata": {},
   "outputs": [
    {
     "data": {
      "text/plain": [
       "'gm chevrolet'"
      ]
     },
     "execution_count": 62,
     "metadata": {},
     "output_type": "execute_result"
    }
   ],
   "source": [
    "c = list(cars.items())\n",
    "c[0][1]"
   ]
  },
  {
   "cell_type": "markdown",
   "id": "c7b8e22b",
   "metadata": {
    "vscode": {
     "languageId": "raw"
    }
   },
   "source": [
    "### 6.2.1　访问字典中的值<br>\n",
    "要获取与键相关联的值，可依次指定 <字典名> 和放在 <方括号> 内的 <键>"
   ]
  },
  {
   "cell_type": "code",
   "execution_count": 66,
   "id": "95efcf62",
   "metadata": {},
   "outputs": [
    {
     "name": "stdout",
     "output_type": "stream",
     "text": [
      "['gm chevrolet', 'vw']\n",
      "['black', 'red']\n",
      "['gm chevrolet', 'vw']:\t['black', 'red']\n"
     ]
    }
   ],
   "source": [
    "cars = {'brand': ['gm chevrolet', 'vw'], 'color': ['black', 'red']}\n",
    "\n",
    "brand = cars['brand']\n",
    "color = cars['color']\n",
    "\n",
    "print(brand)\n",
    "print(color)\n",
    "\n",
    "print(f\"{brand}:\\t{color}\")"
   ]
  },
  {
   "cell_type": "markdown",
   "id": "3159bbbb",
   "metadata": {
    "vscode": {
     "languageId": "raw"
    }
   },
   "source": [
    "### 6.2.2　添加键值对<br>\n",
    "### 6.2.3　先创建一个空字典"
   ]
  },
  {
   "cell_type": "code",
   "execution_count": 70,
   "id": "479f6317",
   "metadata": {},
   "outputs": [
    {
     "name": "stdout",
     "output_type": "stream",
     "text": [
      "{}\n",
      "{'brand': 'gm chevrolet', 'color': 'black', 'year': array([0, 1, 2, 3, 4, 5, 6, 7, 8, 9]), 'nameplate': 'xyz'}\n"
     ]
    }
   ],
   "source": [
    "import numpy as np\n",
    "\n",
    "cars = {}\n",
    "print(cars)\n",
    "\n",
    "cars['brand'] = 'gm chevrolet'\n",
    "cars['color'] = 'black'\n",
    "cars['year'] = np.arange(10)\n",
    "cars['nameplate'] = 'xyz'\n",
    "\n",
    "print(cars)"
   ]
  },
  {
   "cell_type": "markdown",
   "id": "c30d68df",
   "metadata": {
    "vscode": {
     "languageId": "raw"
    }
   },
   "source": [
    "### 6.2.4　修改字典中的值"
   ]
  },
  {
   "cell_type": "code",
   "execution_count": 71,
   "id": "19d97ccd",
   "metadata": {},
   "outputs": [
    {
     "name": "stdout",
     "output_type": "stream",
     "text": [
      "{'brand': 'gm chevrolet', 'color': 'black', 'year': 2013, 'nameplate': 'xyz', 'owner': 'zhao'}\n",
      "{'brand': 'gm chevrolet', 'color': 'black', 'year': 2014, 'nameplate': 'xyz', 'owner': 'qian'}\n"
     ]
    }
   ],
   "source": [
    "cars = {'brand': 'gm chevrolet', 'color': 'black', 'year': 2013, 'nameplate': 'xyz'}\n",
    "\n",
    "cars['owner'] = 'zhao'\n",
    "\n",
    "print(cars)\n",
    "\n",
    "cars['year'] = 2014\n",
    "cars['owner'] = 'qian'\n",
    "\n",
    "print(cars)"
   ]
  },
  {
   "cell_type": "code",
   "execution_count": 7,
   "id": "15e1ebc9",
   "metadata": {},
   "outputs": [
    {
     "name": "stdout",
     "output_type": "stream",
     "text": [
      "{'brand': 'gm chevrolet', 'color': 'black', 'year': 2013, 'nameplate': 'N3-TS06', 'owner': 'fu'}\n"
     ]
    }
   ],
   "source": [
    "cars = {'brand': 'gm chevrolet', 'color': 'black', 'year': 2013, 'nameplate': 'N3-TS06'}\n",
    "\n",
    "#cars['year'] = 2014\n",
    "\n",
    "if cars['year'] == 2013:\n",
    "    cars['owner'] = 'fu'\n",
    "elif cars['year'] == 2014:\n",
    "    cars['owner'] = 'li'\n",
    "\n",
    "print(cars)"
   ]
  },
  {
   "cell_type": "markdown",
   "id": "eeb0c657",
   "metadata": {
    "vscode": {
     "languageId": "raw"
    }
   },
   "source": [
    "### 6.2.5　删除键值对 - del"
   ]
  },
  {
   "cell_type": "code",
   "execution_count": 72,
   "id": "46ab5125",
   "metadata": {},
   "outputs": [
    {
     "name": "stdout",
     "output_type": "stream",
     "text": [
      "{'brand': 'gm chevrolet', 'color': 'black', 'year': 2014, 'nameplate': 'xyz', 'owner': 'li'}\n",
      "{'brand': 'gm chevrolet', 'color': 'black', 'year': 2014, 'nameplate': 'xyz'}\n"
     ]
    }
   ],
   "source": [
    "cars = {'brand': 'gm chevrolet', 'color': 'black', 'year': 2014, 'nameplate': 'xyz', 'owner': 'li'}\n",
    "print(cars)\n",
    "\n",
    "del cars['owner']\n",
    "print(cars)"
   ]
  },
  {
   "cell_type": "markdown",
   "id": "a95a644a",
   "metadata": {
    "vscode": {
     "languageId": "raw"
    }
   },
   "source": [
    "### 6.2.6　由类似对象组成的字典"
   ]
  },
  {
   "cell_type": "code",
   "execution_count": 9,
   "id": "22c10db2",
   "metadata": {},
   "outputs": [
    {
     "name": "stdout",
     "output_type": "stream",
     "text": [
      "{'zhao': 'china', 'mike': 'usa', 'martin': 'germany', 'qian': 'china'}\n"
     ]
    }
   ],
   "source": [
    "name_list = {\n",
    "    'zhao': 'china',\n",
    "    'mike': 'usa',\n",
    "    'martin': 'germany',\n",
    "    'qian': 'china',\n",
    "    }\n",
    "\n",
    "print(name_list)"
   ]
  },
  {
   "cell_type": "code",
   "execution_count": 73,
   "id": "8771a0ac",
   "metadata": {},
   "outputs": [
    {
     "name": "stdout",
     "output_type": "stream",
     "text": [
      "China\n",
      "Zhao comes from China.\n"
     ]
    }
   ],
   "source": [
    "nationality = name_list['zhao'].title()\n",
    "print(nationality)\n",
    "\n",
    "print(f\"Zhao comes from {nationality}.\")"
   ]
  },
  {
   "cell_type": "markdown",
   "id": "abfbfd69",
   "metadata": {
    "vscode": {
     "languageId": "raw"
    }
   },
   "source": [
    "### 6.2.7　使用 get() 来访问值 - 当访问字典中可能不存在的值时"
   ]
  },
  {
   "cell_type": "code",
   "execution_count": 74,
   "id": "5662ee16",
   "metadata": {},
   "outputs": [
    {
     "name": "stdout",
     "output_type": "stream",
     "text": [
      "{'zhao': 'china', 'mike': 'usa', 'martin': 'germany', 'qian': 'china'}\n"
     ]
    },
    {
     "ename": "KeyError",
     "evalue": "'age'",
     "output_type": "error",
     "traceback": [
      "\u001b[1;31m---------------------------------------------------------------------------\u001b[0m",
      "\u001b[1;31mKeyError\u001b[0m                                  Traceback (most recent call last)",
      "Cell \u001b[1;32mIn[74], line 9\u001b[0m\n\u001b[0;32m      1\u001b[0m name_list \u001b[38;5;241m=\u001b[39m {\n\u001b[0;32m      2\u001b[0m     \u001b[38;5;124m'\u001b[39m\u001b[38;5;124mzhao\u001b[39m\u001b[38;5;124m'\u001b[39m: \u001b[38;5;124m'\u001b[39m\u001b[38;5;124mchina\u001b[39m\u001b[38;5;124m'\u001b[39m,\n\u001b[0;32m      3\u001b[0m     \u001b[38;5;124m'\u001b[39m\u001b[38;5;124mmike\u001b[39m\u001b[38;5;124m'\u001b[39m: \u001b[38;5;124m'\u001b[39m\u001b[38;5;124musa\u001b[39m\u001b[38;5;124m'\u001b[39m,\n\u001b[0;32m      4\u001b[0m     \u001b[38;5;124m'\u001b[39m\u001b[38;5;124mmartin\u001b[39m\u001b[38;5;124m'\u001b[39m: \u001b[38;5;124m'\u001b[39m\u001b[38;5;124mgermany\u001b[39m\u001b[38;5;124m'\u001b[39m,\n\u001b[0;32m      5\u001b[0m     \u001b[38;5;124m'\u001b[39m\u001b[38;5;124mqian\u001b[39m\u001b[38;5;124m'\u001b[39m: \u001b[38;5;124m'\u001b[39m\u001b[38;5;124mchina\u001b[39m\u001b[38;5;124m'\u001b[39m,\n\u001b[0;32m      6\u001b[0m     }\n\u001b[0;32m      8\u001b[0m \u001b[38;5;28mprint\u001b[39m(name_list)\n\u001b[1;32m----> 9\u001b[0m \u001b[38;5;28mprint\u001b[39m(\u001b[43mname_list\u001b[49m\u001b[43m[\u001b[49m\u001b[38;5;124;43m'\u001b[39;49m\u001b[38;5;124;43mage\u001b[39;49m\u001b[38;5;124;43m'\u001b[39;49m\u001b[43m]\u001b[49m) \u001b[38;5;66;03m# 键'age'不存在，导致错误\u001b[39;00m\n",
      "\u001b[1;31mKeyError\u001b[0m: 'age'"
     ]
    }
   ],
   "source": [
    "name_list = {\n",
    "    'zhao': 'china',\n",
    "    'mike': 'usa',\n",
    "    'martin': 'germany',\n",
    "    'qian': 'china',\n",
    "    }\n",
    "\n",
    "print(name_list)\n",
    "print(name_list['age']) # 键'age'不存在，导致错误"
   ]
  },
  {
   "cell_type": "code",
   "execution_count": 76,
   "id": "968bfd8d",
   "metadata": {},
   "outputs": [
    {
     "name": "stdout",
     "output_type": "stream",
     "text": [
      "china\n"
     ]
    }
   ],
   "source": [
    "age = name_list.get('age', 'Oops!!!, no age info.')\n",
    "print(age)"
   ]
  },
  {
   "cell_type": "code",
   "execution_count": 77,
   "id": "b43d0015",
   "metadata": {},
   "outputs": [
    {
     "name": "stdout",
     "output_type": "stream",
     "text": [
      "None\n"
     ]
    }
   ],
   "source": [
    "age = name_list.get('age',)\n",
    "print(age)"
   ]
  },
  {
   "cell_type": "raw",
   "id": "c67eebca",
   "metadata": {},
   "source": [
    "练习6-1：人 　使用一个字典来存储一个熟人的信息，包括名、姓、年龄和居住的城市。\n",
    "该字典应包含键first_name 、last_name 、age 和city 。\n",
    "将存储在该字典中的每项信息都打印出来。"
   ]
  },
  {
   "cell_type": "code",
   "execution_count": 14,
   "id": "f233b9f0",
   "metadata": {},
   "outputs": [
    {
     "name": "stdout",
     "output_type": "stream",
     "text": [
      "First name:\tMike\n",
      "Last name:\tWang\n",
      "Age:\t\t35\n",
      "City:\t\tStuttgart\n"
     ]
    }
   ],
   "source": [
    "friend = {\n",
    "    'first_name': 'mike',\n",
    "    'last_name': 'wang',\n",
    "    'age': 35,\n",
    "    'city': 'stuttgart',\n",
    "    }\n",
    "\n",
    "print(f\"First name:\\t{friend['first_name'].title()}\")\n",
    "print(f\"Last name:\\t{friend['last_name'].title()}\")\n",
    "print(f\"Age:\\t\\t{friend['age']}\")\n",
    "print(f\"City:\\t\\t{friend['city'].title()}\")"
   ]
  },
  {
   "cell_type": "raw",
   "id": "ca0694fb",
   "metadata": {},
   "source": [
    "练习6-2：喜欢的数 　使用一个字典来存储一些人喜欢的数。\n",
    "请想出5个人的名字，并将这些名字用作字典中的键；\n",
    "找出每个人喜欢的一个数，并将这些数作为值存储在字典中。\n",
    "打印每个人的名字和喜欢的数。\n",
    "为了让这个程序更有趣，通过询问朋友确保数据是真实的。"
   ]
  },
  {
   "cell_type": "code",
   "execution_count": 15,
   "id": "07e1a862",
   "metadata": {},
   "outputs": [
    {
     "name": "stdout",
     "output_type": "stream",
     "text": [
      "Zhao:\t 8\n",
      "Qian:\t 9\n",
      "Sun:\t 2\n",
      "Li:\t 6\n",
      "Zhou:\t 1\n",
      "{'zhao': 8, 'qian': 9, 'sun': 2, 'li': 6, 'zhou': 1}\n"
     ]
    }
   ],
   "source": [
    "lucky_numbers = {}\n",
    "    \n",
    "lucky_numbers['zhao'] = 8\n",
    "lucky_numbers['qian'] = 9\n",
    "lucky_numbers['sun'] = 2\n",
    "lucky_numbers['li'] = 6\n",
    "lucky_numbers['zhou'] = 1\n",
    "\n",
    "if lucky_numbers['zhao'] == 8:\n",
    "    print(f\"Zhao:\\t {lucky_numbers['zhao']}\")\n",
    "    \n",
    "if lucky_numbers['qian'] == 9:\n",
    "    print(f\"Qian:\\t {lucky_numbers['qian']}\")\n",
    "    \n",
    "if lucky_numbers['sun'] == 2:\n",
    "    print(f\"Sun:\\t {lucky_numbers['sun']}\")\n",
    "    \n",
    "if lucky_numbers['li'] == 6:\n",
    "    print(f\"Li:\\t {lucky_numbers['li']}\")\n",
    "    \n",
    "if lucky_numbers['zhou'] == 1:\n",
    "    print(f\"Zhou:\\t {lucky_numbers['zhou']}\")\n",
    "\n",
    "print(lucky_numbers)"
   ]
  },
  {
   "cell_type": "raw",
   "id": "dfeeccfd",
   "metadata": {},
   "source": [
    "练习6-3：词汇表 　Python字典可用于模拟现实生活中的字典。为避免混淆，我们将后者称为词汇表。\n",
    "想出你在前面学过的5个编程术语，将其用作词汇表中的键，并将它们的含义作为值存储在词汇表中。\n",
    "以整洁的方式打印每个术语及其含义。为此，可先打印术语，在它后面加上一个冒号，再打印其含义；\n",
    "也可在一行打印术语，再使用换行符（\\n ）\n",
    "插入一个空行，然后在下一行以缩进的方式打印其含义。"
   ]
  },
  {
   "cell_type": "code",
   "execution_count": 16,
   "id": "9ec2722a",
   "metadata": {},
   "outputs": [
    {
     "name": "stdout",
     "output_type": "stream",
     "text": [
      "变量:\t变量常被描述为可用于存储值得盒子。变量是可以赋给值的标签，也可以说变量指向特定的值。@ 2.2.3\n",
      "\n",
      "列表:\t列表由一系列按特定顺序排列的元素组,在Python中，用方括号 [] 表示列表，并用逗号分隔其中的元素。@ 3.1\n",
      "\n",
      "元组:\tPython将不能修改的值称为不可变的 ，而不可变的列表被称为元组。使用圆括号 () 而非中括号来标识。@ 4,5\n",
      "\n",
      "字典:\t字典是一系列键值对,每个键 都与一个值相关联,可将任何Python对象用作字典中的元素，键值对放在花括号 {}里。@ 6.2 \n",
      "\n",
      "集合:\te.g.: set()\n",
      "\n",
      "函数:\tprint(), f, len(), sorted(), range(), min(), max(), sum() \n",
      "\n",
      "方法:\te.g.: title(), upper(), lower(), append(), insert(), pop(), sort(), reverse(), items(), keys(), values(), get()\n",
      "\n",
      "语句:\te.g.: del语句, for循环语句, if-elif-else语句, while循环语句\n"
     ]
    }
   ],
   "source": [
    "python_wordbook = {\n",
    "    '变量': '变量常被描述为可用于存储值得盒子。变量是可以赋给值的标签，也可以说变量指向特定的值。@ 2.2.3',\n",
    "    '列表': '列表由一系列按特定顺序排列的元素组,在Python中，用方括号 [] 表示列表，并用逗号分隔其中的元素。@ 3.1',\n",
    "    '元组': 'Python将不能修改的值称为不可变的 ，而不可变的列表被称为元组。使用圆括号 () 而非中括号来标识。@ 4,5',\n",
    "    '字典': '字典是一系列键值对,每个键 都与一个值相关联,可将任何Python对象用作字典中的元素，键值对放在花括号 {}里。@ 6.2 ',\n",
    "    '集合': 'e.g.: set()',\n",
    "    '函数': 'print(), f, len(), sorted(), range(), min(), max(), sum() ',\n",
    "    '方法': 'e.g.: title(), upper(), lower(), append(), insert(), pop(), sort(), reverse(), items(), keys(), values(), get()',\n",
    "    '语句': 'e.g.: del语句, for循环语句, if-elif-else语句, while循环语句',\n",
    "    }\n",
    "\n",
    "print(f\"变量:\\t{python_wordbook['变量']}\\n\")\n",
    "print(f\"列表:\\t{python_wordbook['列表']}\\n\")\n",
    "print(f\"元组:\\t{python_wordbook['元组']}\\n\")\n",
    "print(f\"字典:\\t{python_wordbook['字典']}\\n\")\n",
    "print(f\"集合:\\t{python_wordbook['集合']}\\n\")\n",
    "print(f\"函数:\\t{python_wordbook['函数']}\\n\")\n",
    "print(f\"方法:\\t{python_wordbook['方法']}\\n\")\n",
    "print(f\"语句:\\t{python_wordbook['语句']}\")"
   ]
  },
  {
   "cell_type": "markdown",
   "id": "55524938",
   "metadata": {
    "vscode": {
     "languageId": "raw"
    }
   },
   "source": [
    "## 6.3　遍历字典<br>\n",
    "### 6.3.1　遍历所有键值对 - for循环 + 方法items() + 变量key/value"
   ]
  },
  {
   "cell_type": "code",
   "execution_count": 79,
   "id": "7b793120",
   "metadata": {},
   "outputs": [
    {
     "name": "stdout",
     "output_type": "stream",
     "text": [
      "key:\tfirst_name\n",
      "value:\tmike\n",
      "\n",
      "key:\tlast_name\n",
      "value:\twang\n",
      "\n",
      "key:\tage\n",
      "value:\t35\n",
      "\n",
      "key:\tcity\n",
      "value:\tstuttgart\n",
      "\n"
     ]
    }
   ],
   "source": [
    "friend = {\n",
    "    'first_name': 'mike',\n",
    "    'last_name': 'wang',\n",
    "    'age': 35,\n",
    "    'city': 'stuttgart',\n",
    "    }\n",
    "\n",
    "for a, b in friend.items(): #items()输出为元组\n",
    "    print(f\"key:\\t{a}\")\n",
    "    print(f\"value:\\t{b}\\n\")"
   ]
  },
  {
   "cell_type": "code",
   "execution_count": 18,
   "id": "4dfd7d60",
   "metadata": {},
   "outputs": [
    {
     "name": "stdout",
     "output_type": "stream",
     "text": [
      "first_name:\tmike\n",
      "last_name:\twang\n",
      "age:\t35\n",
      "city:\tstuttgart\n"
     ]
    }
   ],
   "source": [
    "for key, value in friend.items():\n",
    "    print(f\"{key}:\\t{value}\")"
   ]
  },
  {
   "cell_type": "code",
   "execution_count": 19,
   "id": "ac9b4f65",
   "metadata": {},
   "outputs": [
    {
     "name": "stdout",
     "output_type": "stream",
     "text": [
      "first_name:\tmike\n",
      "last_name:\twang\n",
      "age:\t35\n",
      "city:\t['stuttgart', 'ulm']\n"
     ]
    }
   ],
   "source": [
    "friend = {\n",
    "    'first_name': 'mike',\n",
    "    'last_name': 'wang',\n",
    "    'age': 35,\n",
    "    'city': ['stuttgart','ulm'],\n",
    "    }\n",
    "\n",
    "# 'city'的值为列表，打印也是列表\n",
    "\n",
    "for key, value in friend.items():\n",
    "    print(f\"{key}:\\t{value}\")"
   ]
  },
  {
   "cell_type": "code",
   "execution_count": 20,
   "id": "15d5e166",
   "metadata": {},
   "outputs": [
    {
     "name": "stdout",
     "output_type": "stream",
     "text": [
      "Zhao:\t8\n",
      "Qian:\t9\n",
      "Sun:\t2\n",
      "Li:\t6\n",
      "Zhou:\t1\n"
     ]
    }
   ],
   "source": [
    "lucky_numbers = {'zhao': 8, 'qian': 9, 'sun': 2, 'li': 6, 'zhou': 1}\n",
    "\n",
    "for name, number in lucky_numbers.items():\n",
    "    print(f\"{name.title()}:\\t{number}\")"
   ]
  },
  {
   "cell_type": "markdown",
   "id": "5d3740a2",
   "metadata": {
    "vscode": {
     "languageId": "raw"
    }
   },
   "source": [
    "### 6.3.2　遍历字典中的所有键 - 方法keys()"
   ]
  },
  {
   "cell_type": "code",
   "execution_count": 21,
   "id": "3525ce49",
   "metadata": {},
   "outputs": [
    {
     "name": "stdout",
     "output_type": "stream",
     "text": [
      "Zhao\n",
      "Qian\n",
      "Sun\n",
      "Li\n",
      "Zhou\n"
     ]
    }
   ],
   "source": [
    "# 方法keys()\n",
    "lucky_numbers = {'zhao': 8, 'qian': 9, 'sun': 2, 'li': 6, 'zhou': 1}\n",
    "\n",
    "for name in lucky_numbers.keys():\n",
    "    print(name.title())"
   ]
  },
  {
   "cell_type": "code",
   "execution_count": 22,
   "id": "d182ba44",
   "metadata": {},
   "outputs": [
    {
     "name": "stdout",
     "output_type": "stream",
     "text": [
      "Zhao\n",
      "Qian\n",
      "Sun\n",
      "Li\n",
      "Zhou\n"
     ]
    }
   ],
   "source": [
    "# 省略 方法keys()\n",
    "lucky_numbers = {'zhao': 8, 'qian': 9, 'sun': 2, 'li': 6, 'zhou': 1}\n",
    "\n",
    "for name in lucky_numbers:\n",
    "    print(name.title())"
   ]
  },
  {
   "cell_type": "code",
   "execution_count": 23,
   "id": "f25b8ede",
   "metadata": {},
   "outputs": [
    {
     "name": "stdout",
     "output_type": "stream",
     "text": [
      "Hi, Zhao\n",
      "Hi, Qian\n",
      "Hi, Sun, your lucky number is 2.\n",
      "Hi, Li\n",
      "Hi, Zhou, your lucky number is 1.\n"
     ]
    }
   ],
   "source": [
    "lucky_numbers = {'zhao': 8, 'qian': 9, 'sun': 2, 'li': 6, 'zhou': 1}\n",
    "\n",
    "names = ['sun', 'zhou'] # 特殊的名字，打印特殊的信息\n",
    "\n",
    "for name in lucky_numbers.keys():\n",
    "    if name in names:\n",
    "        print(f\"Hi, {name.title()}, your lucky number is {lucky_numbers[name]}.\")\n",
    "    else:\n",
    "        print(f\"Hi, {name.title()}\")"
   ]
  },
  {
   "cell_type": "code",
   "execution_count": 24,
   "id": "d9980f16",
   "metadata": {},
   "outputs": [
    {
     "name": "stdout",
     "output_type": "stream",
     "text": [
      "zhao\n",
      "dict_values([8, 9, 2, 6, 1])\n"
     ]
    }
   ],
   "source": [
    "# 键列表，值列表\n",
    "lucky_numbers = {'zhao': 8, 'qian': 9, 'sun': 2, 'li': 6, 'zhou': 1}\n",
    "\n",
    "names = list(lucky_numbers.keys()) # list()\n",
    "numbers = lucky_numbers.values() # 生成器\n",
    "\n",
    "print(names[0])\n",
    "print(numbers)"
   ]
  },
  {
   "cell_type": "markdown",
   "id": "c83bece7",
   "metadata": {
    "vscode": {
     "languageId": "raw"
    }
   },
   "source": [
    "### 6.3.3　按特定顺序遍历字典中的所有键 - 函数sorted()"
   ]
  },
  {
   "cell_type": "code",
   "execution_count": 80,
   "id": "5ff826a5",
   "metadata": {},
   "outputs": [
    {
     "name": "stdout",
     "output_type": "stream",
     "text": [
      "Li:\t 6\n",
      "Qian:\t 9\n",
      "Sun:\t 2\n",
      "Zhao:\t 8\n",
      "Zhou:\t 1\n"
     ]
    }
   ],
   "source": [
    "# 按 <键> 排序，打印建-值 - 方法 1\n",
    "\n",
    "lucky_numbers = {'zhao': 8, 'qian': 9, 'sun': 2, 'li': 6, 'zhou': 1}\n",
    "\n",
    "for name in sorted(lucky_numbers.keys(), reverse=False):\n",
    "    print(f\"{name.title()}:\\t {lucky_numbers[name]}\")"
   ]
  },
  {
   "cell_type": "code",
   "execution_count": 26,
   "id": "8426f19b",
   "metadata": {},
   "outputs": [
    {
     "name": "stdout",
     "output_type": "stream",
     "text": [
      "Zhou:\t 1\n",
      "Zhao:\t 8\n",
      "Sun:\t 2\n",
      "Qian:\t 9\n",
      "Li:\t 6\n"
     ]
    }
   ],
   "source": [
    "# 按 <键> 排序，打印建-值 - 方法 2\n",
    "# lambda函数用法参见 Appendix.ipynb\n",
    "\n",
    "lucky_numbers = {'zhao': 8, 'qian': 9, 'sun': 2, 'li': 6, 'zhou': 1}\n",
    "\n",
    "for name in sorted(lucky_numbers.items(), key=lambda x:x[0], reverse=True):\n",
    "    print(f\"{name[0].title()}:\\t {name[1]}\")"
   ]
  },
  {
   "cell_type": "code",
   "execution_count": 81,
   "id": "db383dec",
   "metadata": {},
   "outputs": [
    {
     "name": "stdout",
     "output_type": "stream",
     "text": [
      "Qian:\t9\n",
      "Zhao:\t8\n",
      "Li:\t6\n",
      "Sun:\t2\n",
      "Zhou:\t1\n",
      "{'zhao': 8, 'qian': 9, 'sun': 2, 'li': 6, 'zhou': 1}\n"
     ]
    }
   ],
   "source": [
    "# 按 <值> 排序，打印建-值\n",
    "# lambda函数用法参见 Appendix.ipynb\n",
    "\n",
    "lucky_numbers = {'zhao': 8, 'qian': 9, 'sun': 2, 'li': 6, 'zhou': 1}\n",
    "\n",
    "for number in sorted(lucky_numbers.items(), key=lambda x: x[1], reverse=True):\n",
    "    print(f\"{number[0].title()}:\\t{number[1]}\")\n",
    "\n",
    "print(lucky_numbers)"
   ]
  },
  {
   "cell_type": "markdown",
   "id": "70ec3d74",
   "metadata": {
    "vscode": {
     "languageId": "raw"
    }
   },
   "source": [
    "### 6.3.4　遍历字典中的所有值 - 方法values()"
   ]
  },
  {
   "cell_type": "code",
   "execution_count": 28,
   "id": "9d9e19b8",
   "metadata": {},
   "outputs": [
    {
     "name": "stdout",
     "output_type": "stream",
     "text": [
      "{'zhao': 'china', 'mike': 'usa', 'martin': 'germany', 'qian': 'china'}\n",
      "CHINA\n",
      "USA\n",
      "GERMANY\n",
      "CHINA\n"
     ]
    }
   ],
   "source": [
    "name_list = {\n",
    "    'zhao': 'china',\n",
    "    'mike': 'usa',\n",
    "    'martin': 'germany',\n",
    "    'qian': 'china',\n",
    "    }\n",
    "\n",
    "print(name_list)\n",
    "\n",
    "for nationality in name_list.values():\n",
    "    print(nationality.upper())"
   ]
  },
  {
   "cell_type": "code",
   "execution_count": 29,
   "id": "8497eb23",
   "metadata": {},
   "outputs": [
    {
     "name": "stdout",
     "output_type": "stream",
     "text": [
      "GERMANY\n",
      "CHINA\n",
      "USA\n"
     ]
    }
   ],
   "source": [
    "# 集合set()：集合中每个元素都是独一无二的，无序的\n",
    "\n",
    "name_list = {'zhao': 'china', 'mike': 'usa', 'martin': 'germany', 'qian': 'china'}\n",
    "\n",
    "for nationality in set(name_list.values()):\n",
    "    print(nationality.upper())"
   ]
  },
  {
   "cell_type": "code",
   "execution_count": 82,
   "id": "ab8fd02b",
   "metadata": {},
   "outputs": [
    {
     "name": "stdout",
     "output_type": "stream",
     "text": [
      "CHINA\n",
      "USA\n",
      "GERMANY\n",
      "CHINA\n"
     ]
    }
   ],
   "source": [
    "# 集合set()：集合中每个元素都是独一无二的，无序的\n",
    "\n",
    "name_list = {'zhao': 'china', 'mike': 'usa', 'martin': 'germany', 'qian': 'china'}\n",
    "\n",
    "for nationality in name_list.values():\n",
    "    print(nationality.upper())"
   ]
  },
  {
   "cell_type": "raw",
   "id": "2ff160c4",
   "metadata": {},
   "source": [
    "练习6-4：词汇表2 　现在你知道了如何遍历字典，可以整理为完成练习6-3而编写的代码，\n",
    "将其中的一系列函数调用print() 替换为一个遍历字典中键和值的循环。\n",
    "确定该循环正确无误后，再在词汇表中添加5个Python术语。\n",
    "当你再次运行这个程序时，这些新术语及其含义将自动包含在输出中。"
   ]
  },
  {
   "cell_type": "code",
   "execution_count": 30,
   "id": "36fda4b4",
   "metadata": {},
   "outputs": [
    {
     "name": "stdout",
     "output_type": "stream",
     "text": [
      "变量:\t变量常被描述为可用于存储值得盒子。变量是可以赋给值的标签，也可以说变量指向特定的值。@ §2.2.3\n",
      "\n",
      "列表:\t列表由一系列按特定顺序排列的元素组,在Python中，用方括号 [] 表示列表，并用逗号分隔其中的元素。@ §3.1\n",
      "\n",
      "元组:\tPython将不能修改的值称为不可变的 ，而不可变的列表被称为元组。使用圆括号而非中括号来标识。@ §4,5\n",
      "\n",
      "字典:\t字典是一系列键值对,每个键 都与一个值相关联,可将任何Python对象用作字典中的,在Python中，字典用放在花括号 {}里。@ §6.2 \n",
      "\n",
      "类:\t类是面向对象编程的基本组成单元，它代表着一类对象的抽象概念。类定义了对象的属性和方法。@ §9.1\n",
      "\n",
      "函数:\tprint(), f, len(), sorted(), range(), min(), max(), sum() \n",
      "\n",
      "方法:\te.g.: title(), upper(), lower(), append(), insert(), pop(), sort(), reverse(), items(), keys(), values(), get()\n",
      "\n",
      "属性:\t可通过实例访问的变量称为属性, 是一种变量，定义在类中，存储对象的状态或数据，有位置或数值，通过对象 <句点法> 调用。@ § 9.1\n",
      "\n",
      "语句:\te.g.: del语句, for循环语句, if-elif-else语句\n",
      "\n"
     ]
    }
   ],
   "source": [
    "python_wordbook = {\n",
    "    '变量': '变量常被描述为可用于存储值得盒子。变量是可以赋给值的标签，也可以说变量指向特定的值。@ §2.2.3',\n",
    "    '列表': '列表由一系列按特定顺序排列的元素组,在Python中，用方括号 [] 表示列表，并用逗号分隔其中的元素。@ §3.1',\n",
    "    '元组': 'Python将不能修改的值称为不可变的 ，而不可变的列表被称为元组。使用圆括号而非中括号来标识。@ §4,5',\n",
    "    '字典': '字典是一系列键值对,每个键 都与一个值相关联,可将任何Python对象用作字典中的,在Python中，字典用放在花括号 {}里。@ §6.2 ',\n",
    "    '类': '类是面向对象编程的基本组成单元，它代表着一类对象的抽象概念。类定义了对象的属性和方法。@ §9.1',\n",
    "    '函数': 'print(), f, len(), sorted(), range(), min(), max(), sum() ',\n",
    "    '方法': 'e.g.: title(), upper(), lower(), append(), insert(), pop(), sort(), reverse(), items(), keys(), values(), get()',\n",
    "    '属性': '可通过实例访问的变量称为属性, 是一种变量，定义在类中，存储对象的状态或数据，有位置或数值，通过对象 <句点法> 调用。@ § 9.1',\n",
    "    '语句': 'e.g.: del语句, for循环语句, if-elif-else语句',\n",
    "    }\n",
    "\n",
    "# k,v 变量 + 方法items() + for循环\n",
    "\n",
    "for terminology, description in python_wordbook.items():\n",
    "    print(f\"{terminology}:\\t{description}\\n\")"
   ]
  },
  {
   "cell_type": "code",
   "execution_count": 31,
   "id": "999f7b2a",
   "metadata": {},
   "outputs": [
    {
     "name": "stdout",
     "output_type": "stream",
     "text": [
      "变量:\t变量常被描述为可用于存储值得盒子。变量是可以赋给值的标签，也可以说变量指向特定的值。@ §2.2.3\n",
      "\n",
      "列表:\t列表由一系列按特定顺序排列的元素组,在Python中，用方括号 [] 表示列表，并用逗号分隔其中的元素。@ §3.1\n",
      "\n",
      "元组:\tPython将不能修改的值称为不可变的 ，而不可变的列表被称为元组。使用圆括号而非中括号来标识。@ §4,5\n",
      "\n",
      "字典:\t字典是一系列键值对,每个键 都与一个值相关联,可将任何Python对象用作字典中的,在Python中，字典用放在花括号 {}里。@ §6.2 \n",
      "\n",
      "类:\t类是面向对象编程的基本组成单元，它代表着一类对象的抽象概念。类定义了对象的属性和方法。@ §9.1\n",
      "\n",
      "函数:\tprint(), f, len(), sorted(), range(), min(), max(), sum() \n",
      "\n",
      "方法:\te.g.: title(), upper(), lower(), append(), insert(), pop(), sort(), reverse(), items(), keys(), values(), get()\n",
      "\n",
      "属性:\t可通过实例访问的变量称为属性, 是一种变量，定义在类中，存储对象的状态或数据，有位置或数值，通过对象 <句点法> 调用。@ § 9.1\n",
      "\n",
      "语句:\te.g.: del语句, for循环语句, if-elif-else语句\n",
      "\n"
     ]
    }
   ],
   "source": [
    "# 列表，for循环\n",
    "terminologies = python_wordbook.keys()\n",
    "\n",
    "for terminology in terminologies:\n",
    "    print(f\"{terminology}:\\t{python_wordbook[terminology]}\\n\")"
   ]
  },
  {
   "cell_type": "raw",
   "id": "aaa0e2fa",
   "metadata": {},
   "source": [
    "练习6-6：调查 　在6.3.1节编写的程序favorite_languages.py中执行以下操作。\n",
    "创建一个应该会接受调查的人员名单，其中有些人已包含在字典中，而其他人未包含在字典中。\n",
    "遍历这个人员名单。对于已参与调查的人，打印一条消息表示感谢；\n",
    "对于还未参与调查的人，打印一条消息邀请他参加。"
   ]
  },
  {
   "cell_type": "code",
   "execution_count": 32,
   "id": "8799dac6",
   "metadata": {},
   "outputs": [
    {
     "name": "stdout",
     "output_type": "stream",
     "text": [
      "Zhao, Thank you for participating in the survey.\n",
      "\n",
      "Qian, Thank you for participating in the survey.\n",
      "\n",
      "Sun, you´re warmly welcome to participate our survey.\n",
      "\n",
      "Li, you´re warmly welcome to participate our survey.\n",
      "\n",
      "Mike, Thank you for participating in the survey.\n",
      "\n",
      "Martin, Thank you for participating in the survey.\n",
      "\n"
     ]
    }
   ],
   "source": [
    "name_list = {'zhao': 'china', 'mike': 'usa', 'martin': 'germany', 'qian': 'china'}\n",
    "\n",
    "names = ['zhao', 'qian', 'sun', 'li', 'mike', 'martin']\n",
    "\n",
    "for name in names:\n",
    "    if name in name_list.keys():\n",
    "        print(f\"{name.title()}, Thank you for participating in the survey.\\n\")\n",
    "    else:\n",
    "        print(f\"{name.title()}, you´re warmly welcome to participate our survey.\\n\")"
   ]
  },
  {
   "cell_type": "markdown",
   "id": "f36ad3f7",
   "metadata": {
    "vscode": {
     "languageId": "raw"
    }
   },
   "source": [
    "## 6.4　嵌套<br>\n",
    "有时候，需要将一系列字典存储在列表中，或将列表作为值存储在字典中，这称为嵌套"
   ]
  },
  {
   "cell_type": "markdown",
   "id": "12b889e7",
   "metadata": {
    "vscode": {
     "languageId": "raw"
    }
   },
   "source": [
    "### 6.4.1　字典列表 --> 列表"
   ]
  },
  {
   "cell_type": "code",
   "execution_count": 33,
   "id": "bb032fee",
   "metadata": {},
   "outputs": [
    {
     "name": "stdout",
     "output_type": "stream",
     "text": [
      "{'first_name': '3', 'last_name': 'zhang', 'age': 20, 'city': 'stuttgart'}\n",
      "{'first_name': '4', 'last_name': 'li', 'age': 30, 'city': 'beijing'}\n",
      "{'first_name': '5', 'last_name': 'wang', 'age': 40, 'city': 'paris'}\n"
     ]
    }
   ],
   "source": [
    "name_01 = {'first_name': '3', 'last_name': 'zhang','age': 20, 'city': 'stuttgart'}\n",
    "name_02 = {'first_name': '4', 'last_name': 'li','age': 30, 'city': 'beijing'}\n",
    "name_03 = {'first_name': '5', 'last_name': 'wang','age': 40, 'city': 'paris'}\n",
    "\n",
    "names = [name_01, name_02, name_03]\n",
    "\n",
    "for name in names:\n",
    "    print(name)"
   ]
  },
  {
   "cell_type": "raw",
   "id": "029311b8",
   "metadata": {},
   "source": [
    "使用 range() 生成 字典列表 + 方法append()"
   ]
  },
  {
   "cell_type": "code",
   "execution_count": 35,
   "id": "fd64535c",
   "metadata": {},
   "outputs": [
    {
     "name": "stdout",
     "output_type": "stream",
     "text": [
      "{'brand': 'huawei', 'type': 'nova', 'color': 'black'}\n",
      "{'brand': 'huawei', 'type': 'nova', 'color': 'black'}\n",
      "{'brand': 'huawei', 'type': 'nova', 'color': 'black'}\n"
     ]
    },
    {
     "data": {
      "text/plain": [
       "10"
      ]
     },
     "execution_count": 35,
     "metadata": {},
     "output_type": "execute_result"
    }
   ],
   "source": [
    "phones = []\n",
    "\n",
    "# 创建10部手机\n",
    "for phone in range(10):\n",
    "    new_phone = {'brand': 'huawei', 'type': 'nova', 'color': 'black'}\n",
    "    phones.append(new_phone)\n",
    "\n",
    "# 显示前3部手机\n",
    "for phone in phones[:3]:\n",
    "    print(phone)\n",
    "\n",
    "len(phones)"
   ]
  },
  {
   "cell_type": "markdown",
   "id": "d30b2da3",
   "metadata": {},
   "source": [
    "在字典列表中，使用for循环语句 + if语句"
   ]
  },
  {
   "cell_type": "code",
   "execution_count": 39,
   "id": "19e8f9fd",
   "metadata": {},
   "outputs": [
    {
     "name": "stdout",
     "output_type": "stream",
     "text": [
      "{'brand': 'huawei', 'type': 'nova', 'color': 'black'}\n",
      "{'brand': 'huawei', 'type': 'nova', 'color': 'black'}\n",
      "{'brand': 'huawei', 'type': 'nova', 'color': 'black'}\n",
      "\n",
      "\n",
      "{'brand': 'iphone', 'type': 'iphone 4', 'color': 'white'}\n",
      "{'brand': 'iphone', 'type': 'iphone 4', 'color': 'white'}\n",
      "{'brand': 'huawei', 'type': 'nova', 'color': 'black'}\n",
      "{'brand': 'huawei', 'type': 'nova', 'color': 'black'}\n",
      "{'brand': 'huawei', 'type': 'nova', 'color': 'black'}\n"
     ]
    }
   ],
   "source": [
    "phones = []\n",
    "\n",
    "# 创建10部手机\n",
    "for phone in range(10):\n",
    "    new_phone = {'brand': 'huawei', 'type': 'nova', 'color': 'black'}\n",
    "    phones.append(new_phone)\n",
    "\n",
    "# 显示前3部手机\n",
    "for phone in phones[:3]:\n",
    "    print(phone)\n",
    "\n",
    "print(f\"\\n\")\n",
    "    \n",
    "# 显示前5部手机\n",
    "for phone in phones[:2]:\n",
    "    if phone['color'] == 'black':\n",
    "        phone['color'] = 'white'\n",
    "        phone['brand'] = 'iphone'\n",
    "        phone['type'] = 'iphone 4'\n",
    "\n",
    "for phone in phones[:5]:\n",
    "    print(phone)"
   ]
  },
  {
   "cell_type": "code",
   "execution_count": 41,
   "id": "a3a940b9",
   "metadata": {},
   "outputs": [
    {
     "name": "stdout",
     "output_type": "stream",
     "text": [
      "{'brand': 'summung', 'type': 'galaxy', 'color': 'red'}\n",
      "{'brand': 'summung', 'type': 'galaxy', 'color': 'red'}\n",
      "{'brand': 'xiaomi', 'type': 'mi8', 'color': 'silver'}\n",
      "{'brand': 'xiaomi', 'type': 'mi8', 'color': 'silver'}\n",
      "{'brand': 'xiaomi', 'type': 'mi8', 'color': 'silver'}\n",
      "{'brand': 'huawei', 'type': 'nova', 'color': 'black'}\n",
      "{'brand': 'huawei', 'type': 'nova', 'color': 'black'}\n",
      "{'brand': 'huawei', 'type': 'nova', 'color': 'black'}\n",
      "{'brand': 'huawei', 'type': 'nova', 'color': 'black'}\n",
      "{'brand': 'huawei', 'type': 'nova', 'color': 'black'}\n"
     ]
    }
   ],
   "source": [
    "for phone in phones[0:5]:\n",
    "    if phone['color'] == 'white':\n",
    "        phone['color'] = 'red'\n",
    "        phone['brand'] = 'summung'\n",
    "        phone['type'] = 'galaxy'\n",
    "    elif phone['color'] == 'black':\n",
    "        phone['color'] = 'silver'\n",
    "        phone['brand'] = 'xiaomi'\n",
    "        phone['type'] = 'mi8'\n",
    "\n",
    "for phone in phones:\n",
    "    print(phone)"
   ]
  },
  {
   "cell_type": "markdown",
   "id": "589adae5",
   "metadata": {},
   "source": [
    "### 6.4.2　在字典中存储列表"
   ]
  },
  {
   "cell_type": "code",
   "execution_count": 42,
   "id": "bd6eec05",
   "metadata": {},
   "outputs": [
    {
     "name": "stdout",
     "output_type": "stream",
     "text": [
      "Zhang's info. are:\n",
      "\t20, Stuttgart\n",
      "Li's info. are:\n",
      "\t30, Beijing\n",
      "Wang's info. are:\n",
      "\t40, Paris\n"
     ]
    }
   ],
   "source": [
    "names = {'zhang': ['20', 'stuttgart'], 'li': ['30', 'beijing'], 'wang': ['40', 'paris']}\n",
    "\n",
    "for name, infos in names.items():\n",
    "    print(f\"{name.title()}'s info. are:\")\n",
    "    print(f\"\\t{infos[0]}, {infos[1].title()}\")"
   ]
  },
  {
   "cell_type": "code",
   "execution_count": 43,
   "id": "c67c02d9",
   "metadata": {},
   "outputs": [
    {
     "name": "stdout",
     "output_type": "stream",
     "text": [
      "Zhang's info. are:\n",
      "\t20, {infos[1].title()}\n",
      "Li's info. are:\n",
      "\t30, {infos[1].title()}\n",
      "Wang's info. are:\n",
      "\t40, {infos[1].title()}\n"
     ]
    }
   ],
   "source": [
    "# print()分行\n",
    "\n",
    "for name, infos in names.items():\n",
    "    print(f\"{name.title()}'s info. are:\")\n",
    "    print(f\"\\t{infos[0]}, \"\n",
    "          \"{infos[1].title()}\")"
   ]
  },
  {
   "cell_type": "markdown",
   "id": "c7bc82f0",
   "metadata": {
    "vscode": {
     "languageId": "raw"
    }
   },
   "source": [
    "### 6.4.3　在字典中存储字典"
   ]
  },
  {
   "cell_type": "code",
   "execution_count": 47,
   "id": "23c0e181",
   "metadata": {},
   "outputs": [
    {
     "name": "stdout",
     "output_type": "stream",
     "text": [
      "\n",
      "Username:\tabc1de\n",
      "Full name:\tAb C\n",
      "Location:\tDe\n",
      "\n",
      "Username:\txyz9cn\n",
      "Full name:\tXy Z\n",
      "Location:\tCn\n"
     ]
    }
   ],
   "source": [
    "users = {\n",
    "    'abc1de': {\n",
    "        'first_name': 'ab',\n",
    "        'last_name': 'c',\n",
    "        'location': 'de',\n",
    "        },\n",
    "    \n",
    "    'xyz9cn': {\n",
    "        'first_name': 'xy',\n",
    "        'last_name': 'z',\n",
    "        'location': 'cn',\n",
    "        },\n",
    "    }\n",
    "\n",
    "for username, user_info in users.items():\n",
    "    print(f\"\\nUsername:\\t{username}\")\n",
    "    \n",
    "    full_name = f\"{user_info['first_name'].title()} {user_info['last_name'].upper()}\"\n",
    "    location = user_info['location'].title()\n",
    "    \n",
    "    print(f\"Full name:\\t{full_name}\")\n",
    "    print(f\"Location:\\t{location}\")"
   ]
  },
  {
   "cell_type": "code",
   "execution_count": null,
   "id": "79fe37bf",
   "metadata": {},
   "outputs": [],
   "source": [
    "练习6-7：人们 　在为完成练习6-1而编写的程序中，再创建两个表示人的字典，\n",
    "然后将这三个字典都存储在一个名为people 的列表中。\n",
    "遍历这个列表，将其中每个人的所有信息都打印出来。\n",
    "--> refer § 6.4.1"
   ]
  },
  {
   "cell_type": "code",
   "execution_count": null,
   "id": "f7ed8760",
   "metadata": {},
   "outputs": [],
   "source": [
    "练习6-8：宠物 　创建多个表示宠物的字典，每个字典都包含宠物的类型及其主人的名字。\n",
    "将这些字典存储在一个名为pets 的列表中，再遍历该列表，并将有关每个宠物的所有信息都打印出来。\n",
    "--> refer § 6.4.1"
   ]
  },
  {
   "cell_type": "code",
   "execution_count": null,
   "id": "25796b77",
   "metadata": {},
   "outputs": [],
   "source": [
    "练习6-9：喜欢的地方 　创建一个名为favorite_places 的字典。\n",
    "在这个字典中，将三个人的名字用作键，并存储每个人喜欢的1～3个地方。\n",
    "为了让这个练习更有趣些，可以让一些朋友说出他们喜欢的几个地方。\n",
    "遍历这个字典，并将其中每个人的名字及其喜欢的地方打印出来。\n",
    "--> refer § 6.4.2"
   ]
  },
  {
   "cell_type": "code",
   "execution_count": null,
   "id": "91739849",
   "metadata": {},
   "outputs": [],
   "source": [
    "练习6-10：喜欢的数2 　修改为完成练习6-2而编写的程序，\n",
    "让每个人都可以有多个喜欢的数，然后将每个人的名字及其喜欢的数打印出来。"
   ]
  },
  {
   "cell_type": "code",
   "execution_count": null,
   "id": "dd21f8b9",
   "metadata": {},
   "outputs": [],
   "source": [
    "练习6-11：城市 　创建一个名为cities 的字典，将三个城市名用作键。\n",
    "对于每座城市，都创建一个字典，并在其中包含该城市所属的国家、人口约数以及一个有关该城市的事实。\n",
    "在表示每座城市的字典中，应包含country 、population 和fact 等键。\n",
    "将每座城市的名字以及有关信息都打印出来。\n",
    "--> refer § 6.4.3"
   ]
  },
  {
   "cell_type": "code",
   "execution_count": null,
   "id": "57357495",
   "metadata": {},
   "outputs": [],
   "source": [
    "练习6-12：扩展 　本章的示例足够复杂，能以很多方式进行扩展。\n",
    "请对本章的一个示例进行扩展：添加键和值、调整程序要解决的问题或改进输出的格式。"
   ]
  },
  {
   "cell_type": "markdown",
   "id": "536e0ae9",
   "metadata": {},
   "source": [
    "# Q & A"
   ]
  },
  {
   "cell_type": "markdown",
   "id": "424335d2",
   "metadata": {},
   "source": [
    "## `Q1:` 这样的表格应该是字典还是列表？<br>\n",
    "|姓名\t|工资\n",
    "|------|-----\n",
    "|张三\t|200\n",
    "|李四\t|500"
   ]
  },
  {
   "cell_type": "markdown",
   "id": "5651641e",
   "metadata": {},
   "source": [
    "这个表是输出结果，可以使用列表，字典，元组，集合各种数据结构生成，python的语法相应的有些变化"
   ]
  },
  {
   "cell_type": "code",
   "execution_count": 5,
   "id": "a47b1c48",
   "metadata": {},
   "outputs": [
    {
     "name": "stdout",
     "output_type": "stream",
     "text": [
      "姓名\t工资\n",
      "张三\t200\n",
      "李四\t500\n"
     ]
    }
   ],
   "source": [
    "# 使用列表\n",
    "employees = [[\"张三\", 200], [\"李四\", 500]]\n",
    " \n",
    "# 输出结果\n",
    "print(\"姓名\\t工资\")\n",
    "for employee in employees:\n",
    "    print(f\"{employee[0]}\\t{employee[1]}\")"
   ]
  },
  {
   "cell_type": "code",
   "execution_count": 6,
   "id": "e44862c3",
   "metadata": {},
   "outputs": [
    {
     "name": "stdout",
     "output_type": "stream",
     "text": [
      "姓名\t工资\n",
      "张三\t200\n",
      "李四\t500\n"
     ]
    }
   ],
   "source": [
    "# 使用字典\n",
    "employees = {\"张三\": 200, \"李四\": 500}\n",
    " \n",
    "# 输出结果\n",
    "print(\"姓名\\t工资\")\n",
    "for name, salary in employees.items():\n",
    "    print(f\"{name}\\t{salary}\")"
   ]
  },
  {
   "cell_type": "code",
   "execution_count": 7,
   "id": "3c912989",
   "metadata": {},
   "outputs": [
    {
     "name": "stdout",
     "output_type": "stream",
     "text": [
      "姓名\t工资\n",
      "张三\t200\n",
      "李四\t500\n"
     ]
    }
   ],
   "source": [
    "# 使用元组\n",
    "employees = ((\"张三\", 200), (\"李四\", 500))\n",
    " \n",
    "# 输出结果\n",
    "print(\"姓名\\t工资\")\n",
    "for employee in employees:\n",
    "    print(f\"{employee[0]}\\t{employee[1]}\")"
   ]
  },
  {
   "cell_type": "code",
   "execution_count": 8,
   "id": "31dfda93",
   "metadata": {},
   "outputs": [
    {
     "name": "stdout",
     "output_type": "stream",
     "text": [
      "姓名\t工资\n",
      "张三\t200\n",
      "李四\t500\n"
     ]
    }
   ],
   "source": [
    "# 使用集合\n",
    "employees = {(\"张三\", 200), (\"李四\", 500)}\n",
    " \n",
    "# 输出结果\n",
    "print(\"姓名\\t工资\")\n",
    "for employee in employees:\n",
    "    print(f\"{employee[0]}\\t{employee[1]}\")"
   ]
  },
  {
   "cell_type": "markdown",
   "id": "741b5839",
   "metadata": {},
   "source": [
    "还可以使用其它方式，比如numpy数组，python数组，pandas数组，等等等等"
   ]
  },
  {
   "cell_type": "markdown",
   "id": "6c560ebd",
   "metadata": {},
   "source": [
    "Q1.1: 在对其中一列编程时，常常纠结于是用字典还是列表的语法，原来两种都可以，就不要浪费时间在是否定义字典还是列表<br>\n",
    "A1.1: 高效的数据存储，使用numpy数组比较好，对内存消耗比较小，这些数据结构的差异，是模块3的内容，底层逻辑和差异"
   ]
  },
  {
   "cell_type": "markdown",
   "id": "04acd843",
   "metadata": {},
   "source": [
    "## `Q2:` 嵌套的例子, 在什么时候需要嵌套？"
   ]
  },
  {
   "cell_type": "code",
   "execution_count": 9,
   "id": "19f07ed9",
   "metadata": {},
   "outputs": [
    {
     "name": "stdout",
     "output_type": "stream",
     "text": [
      "姓名\t工资\t职位\n",
      "张三\t200\t工程师\n",
      "李四\t500\t经理\n"
     ]
    }
   ],
   "source": [
    "# 使用嵌套字典\n",
    "employees = {\n",
    "    \"张三\": {\"工资\": 200, \"职位\": \"工程师\"},\n",
    "    \"李四\": {\"工资\": 500, \"职位\": \"经理\"}\n",
    "}\n",
    " \n",
    "# 输出结果\n",
    "print(\"姓名\\t工资\\t职位\")\n",
    "for name, details in employees.items():\n",
    "    print(f\"{name}\\t{details['工资']}\\t{details['职位']}\")"
   ]
  },
  {
   "cell_type": "markdown",
   "id": "966838da",
   "metadata": {},
   "source": [
    "嵌套字典在以下情况下非常有用：\n",
    "- **表示复杂数据结构**：当你需要存储具有多个属性的对象时，嵌套字典可以帮助你组织数据。例如，员工不仅有工资，还有职位、年龄等其他属性。\n",
    "- **层次化数据**：当数据具有层次结构时，例如公司部门和员工，嵌套字典可以清晰地表示这种关系。\n",
    "- **提高可读性和可维护性**：嵌套字典可以使代码更具可读性和可维护性，因为它们可以更直观地表示数据之间的关系"
   ]
  },
  {
   "cell_type": "code",
   "execution_count": 10,
   "id": "dd7a2917",
   "metadata": {},
   "outputs": [
    {
     "name": "stdout",
     "output_type": "stream",
     "text": [
      "部门\t姓名\t工资\t职位\n",
      "研发部\t张三\t200\t工程师\n",
      "研发部\t王五\t300\t高级工程师\n",
      "管理部\t李四\t500\t经理\n",
      "管理部\t赵六\t400\t助理\n"
     ]
    }
   ],
   "source": [
    "# 一个更复杂的嵌套字典，表示公司部门和员工的信息：\n",
    "company = {\n",
    "    \"研发部\": {\n",
    "        \"张三\": {\"工资\": 200, \"职位\": \"工程师\"},\n",
    "        \"王五\": {\"工资\": 300, \"职位\": \"高级工程师\"}\n",
    "    },\n",
    "    \"管理部\": {\n",
    "        \"李四\": {\"工资\": 500, \"职位\": \"经理\"},\n",
    "        \"赵六\": {\"工资\": 400, \"职位\": \"助理\"}\n",
    "    }\n",
    "}\n",
    " \n",
    "# 输出结果\n",
    "print(\"部门\\t姓名\\t工资\\t职位\")\n",
    "for department, employees in company.items():\n",
    "    for name, details in employees.items():\n",
    "        print(f\"{department}\\t{name}\\t{details['工资']}\\t{details['职位']}\")"
   ]
  },
  {
   "cell_type": "markdown",
   "id": "5b167d4e",
   "metadata": {},
   "source": [
    "## `Q3:` 在字典中可储存列表，如果我需要列表里的一个值， 我该如何查询？print 出，条件下的值？"
   ]
  },
  {
   "cell_type": "code",
   "execution_count": 12,
   "id": "e84e92ec",
   "metadata": {},
   "outputs": [
    {
     "name": "stdout",
     "output_type": "stream",
     "text": [
      "字典内容:\n",
      "{'brand': 'gm chevrolet', 'colors': ['black', 'red', 'blue']}\n",
      "\n",
      "列表中的第二个颜色:\n",
      "red\n"
     ]
    }
   ],
   "source": [
    "'''通过键值检索'''\n",
    "\n",
    "# 定义一个字典，其中包含一个列表\n",
    "cars = {\n",
    "    'brand': 'gm chevrolet',\n",
    "    'colors': ['black', 'red', 'blue']\n",
    "}\n",
    " \n",
    "# 输出字典内容\n",
    "print(\"字典内容:\")\n",
    "print(cars)\n",
    " \n",
    "# 查询并打印列表中的一个值\n",
    "# 例如，获取列表中的第二个颜色\n",
    "second_color = cars['colors'][1]\n",
    "print(\"\\n列表中的第二个颜色:\")\n",
    "print(second_color)"
   ]
  },
  {
   "cell_type": "markdown",
   "id": "b4680963",
   "metadata": {},
   "source": [
    "## `Q4:` 用空的字典开始RAM里是不是浮动的空间占用？RAM的占用是不是随数据的增加而增加？"
   ]
  },
  {
   "cell_type": "markdown",
   "id": "6a20ca61",
   "metadata": {},
   "source": [
    "是的，空字典在内存中会占用一些空间，但这个占用是非常小的。空字典的内存占用主要包括字典对象本身的开销和一些初始的内部结构。<br>\n",
    "在这个示例中，我们使用 sys.getsizeof() 函数来检查空字典的内存占用。这个函数返回对象在内存中的大小（以字节为单位）。虽然空字典占用的内存很小，但随着字典中元素的增加，内存占用也会相应增加。"
   ]
  },
  {
   "cell_type": "code",
   "execution_count": 13,
   "id": "84911b66",
   "metadata": {},
   "outputs": [
    {
     "name": "stdout",
     "output_type": "stream",
     "text": [
      "空字典的内存占用: 64 字节\n"
     ]
    }
   ],
   "source": [
    "import sys\n",
    " \n",
    "# 创建一个空字典\n",
    "empty_dict = {}\n",
    " \n",
    "# 检查空字典的内存占用\n",
    "print(\"空字典的内存占用:\", sys.getsizeof(empty_dict), \"字节\")"
   ]
  }
 ],
 "metadata": {
  "hide_input": false,
  "kernelspec": {
   "display_name": "Python 3",
   "language": "python",
   "name": "python3"
  },
  "language_info": {
   "codemirror_mode": {
    "name": "ipython",
    "version": 3
   },
   "file_extension": ".py",
   "mimetype": "text/x-python",
   "name": "python",
   "nbconvert_exporter": "python",
   "pygments_lexer": "ipython3",
   "version": "3.11.5"
  },
  "toc": {
   "base_numbering": 1,
   "nav_menu": {},
   "number_sections": true,
   "sideBar": true,
   "skip_h1_title": false,
   "title_cell": "Table of Contents",
   "title_sidebar": "Contents",
   "toc_cell": false,
   "toc_position": {
    "height": "calc(100% - 180px)",
    "left": "10px",
    "top": "150px",
    "width": "165px"
   },
   "toc_section_display": true,
   "toc_window_display": true
  },
  "varInspector": {
   "cols": {
    "lenName": 16,
    "lenType": 16,
    "lenVar": 40
   },
   "kernels_config": {
    "python": {
     "delete_cmd_postfix": "",
     "delete_cmd_prefix": "del ",
     "library": "var_list.py",
     "varRefreshCmd": "print(var_dic_list())"
    },
    "r": {
     "delete_cmd_postfix": ") ",
     "delete_cmd_prefix": "rm(",
     "library": "var_list.r",
     "varRefreshCmd": "cat(var_dic_list()) "
    }
   },
   "position": {
    "height": "396.854px",
    "left": "910px",
    "right": "20px",
    "top": "120px",
    "width": "350px"
   },
   "types_to_exclude": [
    "module",
    "function",
    "builtin_function_or_method",
    "instance",
    "_Feature"
   ],
   "window_display": false
  }
 },
 "nbformat": 4,
 "nbformat_minor": 5
}
