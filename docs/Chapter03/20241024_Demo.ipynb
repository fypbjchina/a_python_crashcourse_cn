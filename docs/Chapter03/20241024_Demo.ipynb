{
 "cells": [
  {
   "cell_type": "markdown",
   "id": "da5aec23-ec9d-4fc6-b6ba-f9414568d854",
   "metadata": {},
   "source": [
    "# Python list\n",
    "\n",
    "1.1. 回顾，总结，答疑 \n",
    "\n",
    "1.2. 深刻理解核心基础概念 - §03列表, 顺序，索引 \n",
    "\n",
    "1.3. 初出茅庐建功立业 - §03 列表的结构，生成和消亡 \n",
    "\n",
    "1.4. 知识点 - 独家揭秘： 如何表达Python指令 \n",
    "\n",
    "1.5.（MDA:-)）管理入门 - §03 列表的管理（修改，排序，etc） "
   ]
  },
  {
   "cell_type": "code",
   "execution_count": null,
   "id": "e4540245-bc87-4ca7-b4ae-7e9f61fbdab6",
   "metadata": {},
   "outputs": [],
   "source": []
  },
  {
   "cell_type": "markdown",
   "id": "a5c06334-82c5-4f66-be4a-fbc0a6f49b95",
   "metadata": {},
   "source": [
    " ## 回顾，总结，答疑"
   ]
  },
  {
   "cell_type": "markdown",
   "id": "cecac3b1-1afe-47ac-8dae-a5c783ea4864",
   "metadata": {},
   "source": [
    "## 深刻理解核心基础概念 - §03列表, 顺序，索引 \n",
    "\n",
    "容器\n",
    "动态\n",
    "顺序\n",
    "索引Index\n"
   ]
  },
  {
   "cell_type": "markdown",
   "id": "2d01cac1-e78e-4a32-b049-d328b44eb669",
   "metadata": {},
   "source": [
    "## 初出茅庐建功立业 - §03 列表的结构，生成和消亡"
   ]
  },
  {
   "cell_type": "code",
   "execution_count": 2,
   "id": "188334e7-1e0d-459c-9997-902f881cae5b",
   "metadata": {},
   "outputs": [
    {
     "data": {
      "text/plain": [
       "[]"
      ]
     },
     "execution_count": 2,
     "metadata": {},
     "output_type": "execute_result"
    }
   ],
   "source": [
    "my_list = []\n",
    "my_list"
   ]
  },
  {
   "cell_type": "code",
   "execution_count": 3,
   "id": "a7e93def-ced9-45f2-b0d7-3abe79a4d479",
   "metadata": {},
   "outputs": [
    {
     "data": {
      "text/plain": [
       "['MyFirstCompany', 'Owner', 'Date', 'Waren']"
      ]
     },
     "execution_count": 3,
     "metadata": {},
     "output_type": "execute_result"
    }
   ],
   "source": [
    "my_buz = []\n",
    "my_buz =[\"MyFirstCompany\", \"Owner\",\"Date\",\"Waren\"]\n",
    "my_buz"
   ]
  },
  {
   "cell_type": "code",
   "execution_count": 4,
   "id": "aaf9ea38-7d6f-41b4-8434-f3185548a268",
   "metadata": {},
   "outputs": [
    {
     "ename": "IndexError",
     "evalue": "list index out of range",
     "output_type": "error",
     "traceback": [
      "\u001b[1;31m---------------------------------------------------------------------------\u001b[0m",
      "\u001b[1;31mIndexError\u001b[0m                                Traceback (most recent call last)",
      "Cell \u001b[1;32mIn[4], line 5\u001b[0m\n\u001b[0;32m      3\u001b[0m my_buz[\u001b[38;5;241m2\u001b[39m]  \u001b[38;5;241m=\u001b[39m \u001b[38;5;124m\"\u001b[39m\u001b[38;5;124m2024-09-17\u001b[39m\u001b[38;5;124m\"\u001b[39m\n\u001b[0;32m      4\u001b[0m my_buz[\u001b[38;5;241m3\u001b[39m]\u001b[38;5;241m=\u001b[39m \u001b[38;5;124m\"\u001b[39m\u001b[38;5;124mApple\u001b[39m\u001b[38;5;124m\"\u001b[39m\n\u001b[1;32m----> 5\u001b[0m \u001b[43mmy_buz\u001b[49m\u001b[43m[\u001b[49m\u001b[38;5;241;43m4\u001b[39;49m\u001b[43m]\u001b[49m  \u001b[38;5;66;03m# 如果不小心就要出错的！！\u001b[39;00m\n",
      "\u001b[1;31mIndexError\u001b[0m: list index out of range"
     ]
    }
   ],
   "source": [
    "my_buz[0] =\"Online Handyshop\"\n",
    "my_buz[1] = \"小疯子\"\n",
    "my_buz[2]  = \"2024-09-17\"\n",
    "my_buz[3]= \"Apple\"\n",
    "my_buz[4]  # 如果不小心就要出错的！！"
   ]
  },
  {
   "cell_type": "markdown",
   "id": "ee445e13-e4b8-4410-9866-b3f7e2ad860a",
   "metadata": {},
   "source": [
    "## 知识点 - 独家揭秘： 如何表达Python指令 \n"
   ]
  },
  {
   "cell_type": "code",
   "execution_count": 5,
   "id": "a658bd94-b143-4d88-a89d-c3bfc1f3594c",
   "metadata": {},
   "outputs": [
    {
     "name": "stdout",
     "output_type": "stream",
     "text": [
      "['Online Handyshop', '小疯子', '2024-09-17', 'Apple']\n"
     ]
    }
   ],
   "source": [
    "print(my_buz)"
   ]
  },
  {
   "cell_type": "markdown",
   "id": "3a813da4-7424-4051-8fff-f65bc2362d4c",
   "metadata": {},
   "source": [
    " ## MDA:-)）管理入门 - §03 列表的管理（修改，排序，etc） \n",
    "\n",
    " insert, apppend"
   ]
  },
  {
   "cell_type": "code",
   "execution_count": 6,
   "id": "e3dfcb09-b323-4597-b66f-52ef0abbf7d1",
   "metadata": {},
   "outputs": [
    {
     "data": {
      "text/plain": [
       "['Online Handyshop', '小疯子', 'Tuoer', '2024-09-17', 'Apple', 20]"
      ]
     },
     "execution_count": 6,
     "metadata": {},
     "output_type": "execute_result"
    }
   ],
   "source": [
    "my_buz.append(5+15)\n",
    "my_buz.insert(2,\"Tuoer\")\n",
    "my_buz"
   ]
  },
  {
   "cell_type": "code",
   "execution_count": 12,
   "id": "985fe55c-6071-4f61-bac6-0c0e1ee24c0e",
   "metadata": {},
   "outputs": [
    {
     "data": {
      "text/plain": [
       "6"
      ]
     },
     "execution_count": 12,
     "metadata": {},
     "output_type": "execute_result"
    }
   ],
   "source": [
    "len(my_buz)"
   ]
  }
 ],
 "metadata": {
  "kernelspec": {
   "display_name": "Python 3 (ipykernel)",
   "language": "python",
   "name": "python3"
  },
  "language_info": {
   "codemirror_mode": {
    "name": "ipython",
    "version": 3
   },
   "file_extension": ".py",
   "mimetype": "text/x-python",
   "name": "python",
   "nbconvert_exporter": "python",
   "pygments_lexer": "ipython3",
   "version": "3.10.14"
  }
 },
 "nbformat": 4,
 "nbformat_minor": 5
}
