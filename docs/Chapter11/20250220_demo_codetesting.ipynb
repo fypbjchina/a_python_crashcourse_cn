{
 "cells": [
  {
   "cell_type": "markdown",
   "id": "c1576b5c-7075-4b68-82b9-ea2a08a8ff4c",
   "metadata": {},
   "source": [
    "# Chapter 11 Python Code Testing\n",
    "\n",
    "## 开篇闲谈\n",
    "正规做软件的在干什么？什么是测试流程？\n",
    "- 对比理工科眼里的工程和软件工程师的工程\n",
    "- 测试驱动开发：先写测试再写实现代码\n",
    "- 软件测试有哪些级别？\n",
    "\"\"\"\n",
    "  单元测试 → 集成测试 → 系统测试 → 验收测试\n",
    "（开发阶段）————————————→（用户验收阶段）\n",
    "\"\"\"\n",
    "\n",
    "- 入门需要关注的测试方法有哪些？\n",
    "\n",
    "测试核心知识:\n",
    "- 测试目的（重要性）\n",
    "  - 确保代码质量：测试可以帮助我们发现代码中的错误和缺陷，确保程序按预期运行。\n",
    "    - 预防代码修改引发的连锁问题\n",
    "    - 验证边界条件和异常处理可靠性\n",
    "  - 提高代码可维护性：通过编写测试，我们可以更容易地修改和扩展代码，明确代码行为预期，因为我们可以快速验证更改是否引入了新的问题。\n",
    "  - 促进重构：当我们需要重构代码时，测试可以作为安全网，确保重构后的代码仍然正常工作。\n",
    "\n",
    "\n",
    "- 测试方法\n",
    "  - 单元测试工具 unittest：Python标准库，基于类的测试框架\n",
    "\n",
    "unittest的系统框架：\n",
    "- 概念：TestCase， assert断言\n",
    "\n",
    "“”“\n",
    "import unittest\n",
    "\n",
    "class TestClass(unittest.TestCase):  # 继承测试基类\n",
    "    def test_feature(self):          # 测试方法必须用test_开头\n",
    "        # 执行操作 → 断言结果\n",
    "        self.assertEqual(实际结果, 预期结果)\n",
    "”“”"
   ]
  },
  {
   "cell_type": "code",
   "execution_count": null,
   "id": "f670b32d-e512-46d0-86bd-1a1f12c2ee79",
   "metadata": {},
   "outputs": [],
   "source": []
  },
  {
   "cell_type": "code",
   "execution_count": null,
   "id": "af0feed2-3779-4c6e-9fae-ffc49866a018",
   "metadata": {},
   "outputs": [],
   "source": [
    "# 测试示范案例 \n",
    "# 示范案例 定义一个游戏角色的函数\n",
    "\"\"\"\n",
    "需求介绍游戏角色的生命值测试\n",
    "- 角色初始生命值100，最大不超过150，最低不低于0\n",
    "- get_damage()遭遇伤害,get_heal()接受治疗\n",
    "- 生命值=0：=Game Over\n",
    "\"\"\"\n",
    "\n",
    "\n"
   ]
  },
  {
   "cell_type": "code",
   "execution_count": null,
   "id": "3c2961eb-4591-45da-a1f4-4c1f7fe1baeb",
   "metadata": {},
   "outputs": [],
   "source": [
    "# 测试示范案例\n",
    "import unittest\n",
    "\n",
    "class TestClass(unittest.TestCase):  # 继承测试基类\n",
    "    def test_feature(self):          # 测试方法必须用test_开头\n",
    "        # 执行操作 → 断言结果\n",
    "        self.assertEqual(实际结果, 预期结果)"
   ]
  },
  {
   "cell_type": "markdown",
   "id": "68b35a72-ec7a-4f6d-b58e-6c23e61d5df6",
   "metadata": {},
   "source": [
    "测试亮点: \n",
    "- setUp()方法避免重复初始化（书）\n",
    "- 边界测试：治疗溢出、伤害致死、负数伤害异常\n",
    "- 状态联动：生命值与存活状态的同步变化\n",
    "- 隐藏Bug捕捉：治疗复活时是否更新is_alive状态\n"
   ]
  },
  {
   "cell_type": "code",
   "execution_count": null,
   "id": "495b6c33-cd48-4431-b491-65813ea55d78",
   "metadata": {},
   "outputs": [],
   "source": []
  }
 ],
 "metadata": {
  "kernelspec": {
   "display_name": "Python 3 (ipykernel)",
   "language": "python",
   "name": "python3"
  },
  "language_info": {
   "codemirror_mode": {
    "name": "ipython",
    "version": 3
   },
   "file_extension": ".py",
   "mimetype": "text/x-python",
   "name": "python",
   "nbconvert_exporter": "python",
   "pygments_lexer": "ipython3",
   "version": "3.10.14"
  }
 },
 "nbformat": 4,
 "nbformat_minor": 5
}
