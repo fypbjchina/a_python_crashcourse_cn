{
 "cells": [
  {
   "cell_type": "markdown",
   "id": "d7f4f20f-85aa-423c-812a-320e799ba879",
   "metadata": {},
   "source": [
    "# Chapter10 Python异常和文件处理\n",
    "\n",
    "## Python异常处理\n",
    "\n",
    "基本知识点：\n",
    "- 理解什么是异常？\n",
    "- 理解为什么要处理异常\n",
    "- 了解最常见最基本的异常类型\n",
    "- 掌握Python异常处理框架\n",
    "- 异常处理案例示范\n",
    "\n",
    "\n",
    "什么是异常？\n",
    "- 异常是程序在运行时发生的错误\n",
    "- 异常处理是编程中一个非常重要的概念\n",
    "\n",
    "为什么需要异常处理？\n",
    "- 允许程序在遇到错误或异常情况时，能够优雅地处理这些问题，而不是直接崩溃。\n",
    "- 确保程序的稳定性\n",
    "- 提升用户体验(避免Vorführungseffekt (观众效应))\n",
    "- 培养结构性思维=初学者来说编写健壮代码的结构框架思维\n",
    "\n",
    "\n",
    "常见异常类型\n",
    "- ZeroDivisionError：尝试除以零。\n",
    "- ValueError：传递给函数的参数类型不正确。\n",
    "- TypeError：操作或函数应用于不适当类型的对象。\n",
    "- IndexError：尝试访问列表中不存在的索引。\n",
    "- FileNotFoundError：尝试打开一个不存在的文件。\n",
    "\n",
    "异常处理的基本结构\n",
    "Python异常处理范式**try-except**基本结构：\n",
    "\n",
    "try:\n",
    "    # 可能会引发异常的代码块\n",
    "except SomeException:  #使用Python内部异常命名，异常名不用双引号（不是字符串）\n",
    "    # 处理异常的代码\n",
    "    # 进阶用法\n",
    "else: \n",
    "    # (optional),try 块中的代码没有引发异常，else 块中的代码将被执行\n",
    "finally: \n",
    "    # (optional), 结束期代码（无论有无异常）\n",
    "\n"
   ]
  },
  {
   "cell_type": "code",
   "execution_count": 2,
   "id": "2c814941-d004-4bd9-85e8-1375993bbb68",
   "metadata": {},
   "outputs": [],
   "source": [
    "import os\n",
    "%load_ext autoreload\n",
    "%autoreload 2"
   ]
  },
  {
   "cell_type": "markdown",
   "id": "052edf20-3d86-42cf-b3ba-283f6d404758",
   "metadata": {},
   "source": [
    "# 文件处理\n",
    "\n",
    "历史源远流长，随敲码编程而生，是历朝历代所有软件编程人员入门功夫，也是键盘侠最常用的编写方法。 \n",
    "\n",
    "从Unix，Linux开天辟地开始一直延续到今，Python世界也继承了这一习俗。 手握鼠标出生的Windows新生代非常不习惯。切记：文本操作是最底层的操作！\n",
    "\n",
    "文件处理的功能：\n",
    "- 创建文件\n",
    "- 读取文件\n",
    "- 写入文件，\n",
    "- 存储和管理数据： 如修改文件名，存储地址，修改文件内容\n",
    "- ***以上功能是Python自带指令可供使用****\n",
    "- 删除文件\n",
    "- ***以上功能需要导入第三方函数库， 最常见的是os（操作系统指令）库： import os***\n",
    "\n",
    "问卷：敲码对比微软鼠标操作，哪个更简短？哪个更高效？\n",
    "\n",
    "文件处理的基本概念\n",
    "- 文件类型：\n",
    "  - 文本文件：包含可读的字符（如 .txt， .csv， .py, .ipynb, .bat）。\n",
    "  - 二进制文件：包含非文本数据（如图像、音频文件等）。\n",
    "\n",
    "- 文件模式：\n",
    "    - 'r'：只读模式（默认模式），文件必须存在。\n",
    "    - 'w'：写入模式，创建新文件或覆盖现有文件。\n",
    "    - 'a'：追加模式，向文件末尾添加内容。\n",
    "    - 'b'：二进制模式（与其他模式结合使用，如 'rb' 或 'wb'）。\n",
    "    - 'x'：独占写入模式，文件必须不存在。\n",
    "      \n",
    "文件处理的基本步骤\n",
    "1. 打开文件：使用 open() 函数打开文件。\n",
    "2. 操作文件：读取或写入文件内容。\n",
    "3. 关闭文件：使用 close() 方法关闭文件，释放资源。\n",
    "4. 懒人安全法： with open（）：\n",
    "\n",
    "示例代码\n"
   ]
  },
  {
   "cell_type": "code",
   "execution_count": 3,
   "id": "50f61a98-04fc-4599-9aea-142be03a16dd",
   "metadata": {},
   "outputs": [
    {
     "name": "stdout",
     "output_type": "stream",
     "text": [
      "内容已经写入到：myfirsttest.txt\n"
     ]
    }
   ],
   "source": [
    "#创建文本文件/写入文本文件\n",
    "# 规则： 无则建，有则连\n",
    "def write_file(filename, content):\n",
    "    with open(filename,'w') as file:\n",
    "        file.write(content)\n",
    "    print(f\"内容已经写入到：{filename}\")\n",
    "\n",
    "filename = \"myfirsttest.txt\"\n",
    "write_file(filename, \"this is my first try to write a text into a file! good luck!\")"
   ]
  },
  {
   "cell_type": "code",
   "execution_count": 4,
   "id": "51a4a5fc-bca5-4abc-8448-ed928a20e6d2",
   "metadata": {},
   "outputs": [
    {
     "name": "stdout",
     "output_type": "stream",
     "text": [
      "内容已经添加到：myfirsttest.txt\n"
     ]
    }
   ],
   "source": [
    "#添加内容\n",
    "def append_to_file(filename,content):\n",
    "    with open(filename,'a') as f:\n",
    "        f.write(content)\n",
    "    print(f\"内容已经添加到：{filename}\")   \n",
    "\n",
    "append_to_file(filename, \"\\n this is new added content to file!\")"
   ]
  },
  {
   "cell_type": "code",
   "execution_count": 9,
   "id": "edb87d8a-9902-4160-af66-623e7afbda5c",
   "metadata": {},
   "outputs": [
    {
     "name": "stdout",
     "output_type": "stream",
     "text": [
      "this is my first try to write a text into a file! good luck!\n",
      " this is new added content to file!\n",
      "文件的内容是： myfirsttest.txt\n"
     ]
    }
   ],
   "source": [
    "#读取文件\n",
    "def read_file(filename):\n",
    "    try:\n",
    "        with open(filename, 'r') as file:\n",
    "            content =file.read()\n",
    "            print(content)\n",
    "    except FileNotFoundError:\n",
    "        print(f\"主人，我找不到你的文件名： {filename}\")\n",
    "    else:\n",
    "        print(f\"文件的内容是： {filename}\")\n",
    "\n",
    "#filename=\"mypath/myfirstest.txt\"\n",
    "read_file(\"myfirsttest.txt\")"
   ]
  },
  {
   "cell_type": "code",
   "execution_count": null,
   "id": "0cc287c4-44f2-4271-be3a-9ab7aa89c2f5",
   "metadata": {},
   "outputs": [],
   "source": [
    "#删除文件\n",
    "import os\n",
    "#os.remove sample.txt"
   ]
  },
  {
   "cell_type": "code",
   "execution_count": 2,
   "id": "011478ae-a321-483e-9fcf-729ca1c2f55a",
   "metadata": {},
   "outputs": [
    {
     "name": "stdout",
     "output_type": "stream",
     "text": [
      "文件内容行:\n",
      "this is my first try to write a text into a file! good luck!\n",
      "this is new added content to file!\n"
     ]
    }
   ],
   "source": [
    "#逐行读取文件 \n",
    "# readlines()输出一个列表[line1, line2, ....]，每一行原文件=列表的元素\n",
    "def readline_from_file(filename):\n",
    "    try:\n",
    "        with open(filename, 'r') as file: \n",
    "            lines = file.readlines()\n",
    "            print(f\"文件内容行:\")\n",
    "            for line in lines:\n",
    "                print(line.strip()) # strip（）去除行里的空格和换行符 \" \",\"\\n\"\n",
    "    except FileNotFoundError:\n",
    "        print(f\"error: your file {filename} is not existing!\")\n",
    "\n",
    "readline_from_file(\"myfirsttest.txt\")\n",
    "            \n"
   ]
  },
  {
   "cell_type": "code",
   "execution_count": null,
   "id": "9026e25d-b417-47c7-b9a6-78a7a60f9b92",
   "metadata": {},
   "outputs": [],
   "source": [
    "#实际案例： 使用Python读取文件，逐行去掉空格和换行符，结果重新写入一个新文件\n",
    "\n"
   ]
  }
 ],
 "metadata": {
  "kernelspec": {
   "display_name": "Python 3 (ipykernel)",
   "language": "python",
   "name": "python3"
  },
  "language_info": {
   "codemirror_mode": {
    "name": "ipython",
    "version": 3
   },
   "file_extension": ".py",
   "mimetype": "text/x-python",
   "name": "python",
   "nbconvert_exporter": "python",
   "pygments_lexer": "ipython3",
   "version": "3.10.14"
  }
 },
 "nbformat": 4,
 "nbformat_minor": 5
}
