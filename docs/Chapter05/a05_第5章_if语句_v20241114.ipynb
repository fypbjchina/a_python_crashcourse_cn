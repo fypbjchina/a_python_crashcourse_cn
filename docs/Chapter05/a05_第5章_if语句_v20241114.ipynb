{
 "cells": [
  {
   "cell_type": "markdown",
   "id": "e27a4d82",
   "metadata": {},
   "source": [
    "# Python编程：从入门到实践（第2版）/ 20240919 <a class=\"tocSkip\">"
   ]
  },
  {
   "cell_type": "code",
   "execution_count": 1,
   "id": "3695f08a",
   "metadata": {},
   "outputs": [
    {
     "data": {
      "text/plain": [
       "[0, 1, 2, 3, 4]"
      ]
     },
     "execution_count": 1,
     "metadata": {},
     "output_type": "execute_result"
    }
   ],
   "source": [
    "# 左闭右开区间 [0, 5)\n",
    "\n",
    "a = list(range(0, 5))\n",
    "a"
   ]
  },
  {
   "cell_type": "code",
   "execution_count": 2,
   "id": "5715ab8d",
   "metadata": {},
   "outputs": [
    {
     "data": {
      "text/plain": [
       "[0, 1, 2]"
      ]
     },
     "execution_count": 2,
     "metadata": {},
     "output_type": "execute_result"
    }
   ],
   "source": [
    "a[0:3]"
   ]
  },
  {
   "cell_type": "markdown",
   "id": "09f868f2",
   "metadata": {},
   "source": [
    "# 第 5 章　if 语句 / 20241114"
   ]
  },
  {
   "cell_type": "markdown",
   "id": "cdfc4a83",
   "metadata": {},
   "source": [
    "在Python中，if 语句让你能够检查程序的当前状态，并采取相应的措施。"
   ]
  },
  {
   "cell_type": "markdown",
   "id": "917b4013",
   "metadata": {},
   "source": [
    "## 5.1 使用if-else 语句来正确地处理特殊情"
   ]
  },
  {
   "cell_type": "code",
   "execution_count": 9,
   "id": "deec3463",
   "metadata": {},
   "outputs": [
    {
     "name": "stdout",
     "output_type": "stream",
     "text": [
      "Gm Chevrolet\n",
      "Vw Cross Polo\n",
      "Vw Passat\n",
      "Renaut Clio\n"
     ]
    }
   ],
   "source": [
    "cars = ['gm chevrolet', 'vw cross polo', 'vw passat', 'renaut clio']\n",
    "\n",
    "for car in cars:\n",
    "    #if car != 'GLB':\n",
    "    if False:\n",
    "        print(f\"==> I drive {car.upper()} currently!\")\n",
    "    else:\n",
    "        print(car.title())"
   ]
  },
  {
   "cell_type": "markdown",
   "id": "89fd2199",
   "metadata": {},
   "source": [
    "## 5.2　条件测试 <br>\n",
    "每条if 语句的核心都是一个值为True 或False 的表达式，这种表达式称为条件测试\n",
    "\n",
    "### 5.2.1　检查是否相等"
   ]
  },
  {
   "cell_type": "code",
   "execution_count": 13,
   "id": "ca14dcf8",
   "metadata": {},
   "outputs": [
    {
     "data": {
      "text/plain": [
       "True"
      ]
     },
     "execution_count": 13,
     "metadata": {},
     "output_type": "execute_result"
    }
   ],
   "source": [
    "#car = 'renaut clio'\n",
    "car == 'renaut clio'\n",
    "#car"
   ]
  },
  {
   "cell_type": "code",
   "execution_count": 22,
   "id": "9daa2f40",
   "metadata": {},
   "outputs": [
    {
     "name": "stdout",
     "output_type": "stream",
     "text": [
      "raw data \t-->Renaut ClIo\n",
      "raw lower() \t-->renaut clio\n",
      "RENAUT CLIO\n",
      "Renaut Clio\n"
     ]
    }
   ],
   "source": [
    "car = 'Renaut ClIo'\n",
    "print(f\"raw data \\t-->{car}\")\n",
    "print(f\"raw lower() \\t-->{car.lower()}\")\n",
    "print(car.lower().upper())\n",
    "print(car.lower().upper().title())\n",
    "\n",
    "#car.lower().upper().title().title()\n",
    "#car.lower() == 'renaut clio'"
   ]
  },
  {
   "cell_type": "code",
   "execution_count": 27,
   "id": "dce8435f-c3f4-4997-bd67-135585436557",
   "metadata": {},
   "outputs": [
    {
     "name": "stdout",
     "output_type": "stream",
     "text": [
      "B\n",
      "B\n"
     ]
    },
    {
     "data": {
      "text/plain": [
       "\"['a', 'b', 'c', 'd', 'e', 'f']\""
      ]
     },
     "execution_count": 27,
     "metadata": {},
     "output_type": "execute_result"
    }
   ],
   "source": [
    "name = \"abcdef\"\n",
    "\n",
    "list_name = list(name)\n",
    "list_name\n",
    "\n",
    "print(name[1].upper())\n",
    "print(list_name[1].upper())\n",
    "list_name"
   ]
  },
  {
   "cell_type": "code",
   "execution_count": 28,
   "id": "33e6a519",
   "metadata": {},
   "outputs": [
    {
     "data": {
      "text/plain": [
       "False"
      ]
     },
     "execution_count": 28,
     "metadata": {},
     "output_type": "execute_result"
    }
   ],
   "source": [
    "car = 'Renaut Clio'\n",
    "car.lower() == 'renaut Clio'"
   ]
  },
  {
   "cell_type": "markdown",
   "id": "b1650c36",
   "metadata": {},
   "source": [
    "### 5.2.3　检查是否不相等: = != + =="
   ]
  },
  {
   "cell_type": "code",
   "execution_count": 33,
   "id": "abab3841",
   "metadata": {},
   "outputs": [
    {
     "name": "stdout",
     "output_type": "stream",
     "text": [
      "Enter the name of car:\t GLB\n"
     ]
    },
    {
     "name": "stdout",
     "output_type": "stream",
     "text": [
      "GLB:\tThis is my current car!\n"
     ]
    }
   ],
   "source": [
    "current_car = input(\"Enter the name of car:\\t\")\n",
    "\n",
    "if current_car != 'GLB':\n",
    "    print(f\"{current_car}:\\tThis is not my current car!\")\n",
    "else:\n",
    "    print((f\"{current_car}:\\tThis is my current car!\"))"
   ]
  },
  {
   "cell_type": "markdown",
   "id": "d3cc0ed6",
   "metadata": {},
   "source": [
    "### 5.2.4　数值比较：=, !=, >, <, >=, <="
   ]
  },
  {
   "cell_type": "code",
   "execution_count": null,
   "id": "c3445ece",
   "metadata": {},
   "outputs": [],
   "source": [
    "age = int(input(\"Enter the age:\\t\"))\n",
    "# age = input()\n",
    "# age = int(age)\n",
    "\n",
    "if age != '42':\n",
    "    print(\"False, please try again!\")\n",
    "else:\n",
    "    print(\"super, you're right!\")\n",
    "\n",
    "type(age)"
   ]
  },
  {
   "cell_type": "markdown",
   "id": "13f7840a",
   "metadata": {},
   "source": [
    "### 5.2.5　检查多个条件: and / or"
   ]
  },
  {
   "cell_type": "code",
   "execution_count": 37,
   "id": "5f77ed03",
   "metadata": {},
   "outputs": [
    {
     "name": "stdout",
     "output_type": "stream",
     "text": [
      "age_01 < 5 and age_02 > 9\n"
     ]
    },
    {
     "data": {
      "text/plain": [
       "True"
      ]
     },
     "execution_count": 37,
     "metadata": {},
     "output_type": "execute_result"
    }
   ],
   "source": [
    "# and\n",
    "\n",
    "print(\"age_01 < 5 and age_02 > 9\")\n",
    "\n",
    "age_01 = 4\n",
    "age_02 = 10\n",
    "\n",
    "age_01 < 5 and age_02 > 9"
   ]
  },
  {
   "cell_type": "code",
   "execution_count": 36,
   "id": "34f3b516",
   "metadata": {},
   "outputs": [
    {
     "name": "stdout",
     "output_type": "stream",
     "text": [
      "age_01 < 5 or age_02 > 9\n"
     ]
    },
    {
     "data": {
      "text/plain": [
       "True"
      ]
     },
     "execution_count": 36,
     "metadata": {},
     "output_type": "execute_result"
    }
   ],
   "source": [
    "# or\n",
    "\n",
    "print(\"age_01 < 5 or age_02 > 9\")\n",
    "\n",
    "age_01 = 6\n",
    "age_02 = 10\n",
    "\n",
    "age_01 < 5 or age_02 > 9"
   ]
  },
  {
   "cell_type": "markdown",
   "id": "84fb8db3",
   "metadata": {},
   "source": [
    "### 5.2.6　检查特定值是否包含在列表中：in"
   ]
  },
  {
   "cell_type": "code",
   "execution_count": 41,
   "id": "beca3e62",
   "metadata": {
    "scrolled": true
   },
   "outputs": [
    {
     "data": {
      "text/plain": [
       "True"
      ]
     },
     "execution_count": 41,
     "metadata": {},
     "output_type": "execute_result"
    }
   ],
   "source": [
    "# in\n",
    "\n",
    "letter = \"c\"\n",
    "\n",
    "letters = [\"a\", 'b', 'c', 'd']\n",
    "\n",
    "letter in letters"
   ]
  },
  {
   "cell_type": "markdown",
   "id": "38b94030",
   "metadata": {},
   "source": [
    "### 5.2.7　检查特定值是否不包含在列表中: not in"
   ]
  },
  {
   "cell_type": "code",
   "execution_count": 42,
   "id": "7883f30e",
   "metadata": {},
   "outputs": [
    {
     "name": "stdout",
     "output_type": "stream",
     "text": [
      "Wow! you have a new letter 'f'!\n"
     ]
    }
   ],
   "source": [
    "# not in\n",
    "\n",
    "letters = ['a', 'b', 'c', 'd']\n",
    "\n",
    "letter = 'f'\n",
    "\n",
    "if letter not in letters:\n",
    "    print(f\"Wow! you have a new letter '{letter}'!\")"
   ]
  },
  {
   "cell_type": "markdown",
   "id": "3ade3c9c",
   "metadata": {},
   "source": [
    "### 5.2.8　布尔表达式"
   ]
  },
  {
   "cell_type": "code",
   "execution_count": 5,
   "id": "fe20f801",
   "metadata": {},
   "outputs": [],
   "source": [
    "colors = ['red', 'green', 'grey', 'blue', 'white']\n",
    "\n",
    "color = 'black'"
   ]
  },
  {
   "cell_type": "code",
   "execution_count": 6,
   "id": "3bcbabd9",
   "metadata": {},
   "outputs": [
    {
     "data": {
      "text/plain": [
       "True"
      ]
     },
     "execution_count": 6,
     "metadata": {},
     "output_type": "execute_result"
    }
   ],
   "source": [
    "color == 'black'"
   ]
  },
  {
   "cell_type": "code",
   "execution_count": 8,
   "id": "8513c177",
   "metadata": {},
   "outputs": [
    {
     "data": {
      "text/plain": [
       "False"
      ]
     },
     "execution_count": 8,
     "metadata": {},
     "output_type": "execute_result"
    }
   ],
   "source": [
    "color in colors"
   ]
  },
  {
   "cell_type": "markdown",
   "id": "79a6b589",
   "metadata": {},
   "source": [
    "## 5.3　if 语句\n",
    "\n",
    "### 5.3.1　简单的if 语句\n",
    "\n",
    "### 5.3.2　if-else 语句"
   ]
  },
  {
   "cell_type": "code",
   "execution_count": 10,
   "id": "7d497072",
   "metadata": {},
   "outputs": [
    {
     "name": "stdout",
     "output_type": "stream",
     "text": [
      "Please enter your age:\t22\n",
      "You are old enough to vote!\n",
      "Have you registered to vote yet?\n"
     ]
    }
   ],
   "source": [
    "age = input(\"Please enter your age:\\t\")\n",
    "age = int(age)\n",
    "\n",
    "if age >= 18:\n",
    "    print(\"You are old enough to vote!\")\n",
    "    print(\"Have you registered to vote yet?\")\n",
    "else:\n",
    "    print(\"Sorry, you are too young to vote.\")\n",
    "    print(\"Please register to vote as soon as you turn 18!\")"
   ]
  },
  {
   "cell_type": "markdown",
   "id": "22ac79aa",
   "metadata": {},
   "source": [
    "### 5.3.3　if-elif-else 结构"
   ]
  },
  {
   "cell_type": "code",
   "execution_count": 43,
   "id": "021a7f24",
   "metadata": {},
   "outputs": [
    {
     "name": "stdout",
     "output_type": "stream",
     "text": [
      "Your admission cost is $30.\n"
     ]
    }
   ],
   "source": [
    "# a. 在if-elif-else代码块中, 直接输出价格信息 - print()函数\n",
    "\n",
    "age = 18\n",
    "\n",
    "if age < 4:\n",
    "    print(\"Your admission cost is $0.\")\n",
    "elif age < 18:\n",
    "    print(\"Your admission cost is $25.\")\n",
    "elif age < 36:\n",
    "    print(\"Your admission cost is $30.\")\n",
    "else:\n",
    "    print(\"Your admission cost is $40.\")"
   ]
  },
  {
   "cell_type": "code",
   "execution_count": 44,
   "id": "3b556fc8",
   "metadata": {},
   "outputs": [
    {
     "name": "stdout",
     "output_type": "stream",
     "text": [
      "Your admission cost is $40.\n"
     ]
    }
   ],
   "source": [
    "# b. 在if-elif-else代码块中, 只设置门票价格变量 - price\n",
    "\n",
    "age = 19\n",
    "\n",
    "if age < 4:\n",
    "    price = 0\n",
    "elif age < 18:\n",
    "    price = 25\n",
    "else:\n",
    "    price = 40\n",
    "    \n",
    "print(f\"Your admission cost is ${price}.\")"
   ]
  },
  {
   "cell_type": "markdown",
   "id": "5b669c9a",
   "metadata": {},
   "source": [
    "### 5.3.4　使用多个 elif 代码块\n",
    "\n",
    "### 5.3.5　省略 else 代码块: 使用 elif 代替 else 代码块"
   ]
  },
  {
   "cell_type": "code",
   "execution_count": 45,
   "id": "ef439384",
   "metadata": {},
   "outputs": [
    {
     "name": "stdout",
     "output_type": "stream",
     "text": [
      "Please input your Qty:\t 15\n"
     ]
    },
    {
     "name": "stdout",
     "output_type": "stream",
     "text": [
      "\n",
      "Quantity is:\t15\tpc\n",
      "Price is:\t4.5\tRMB\n",
      "Total cost is:\t67.5\tRMB\n"
     ]
    }
   ],
   "source": [
    "Qty = input(\"Please input your Qty:\\t\")\n",
    "Qty = int(Qty)\n",
    "\n",
    "if Qty < 10:\n",
    "    price = 5\n",
    "    cost = Qty * price\n",
    "elif Qty < 100:\n",
    "    price = 4.5\n",
    "    cost = Qty * price\n",
    "elif Qty < 1000:\n",
    "    price = 4\n",
    "    cost = Qty * price   \n",
    "elif Qty >= 1000:\n",
    "    price = 3\n",
    "    cost = Qty * price \n",
    "    \n",
    "print(f\"\\nQuantity is:\\t{Qty}\\tpc\")\n",
    "print(f\"Price is:\\t{price}\\tRMB\")\n",
    "print(f\"Total cost is:\\t{cost}\\tRMB\")"
   ]
  },
  {
   "cell_type": "markdown",
   "id": "4a5bfe33",
   "metadata": {},
   "source": [
    "### 5.3.6　测试多个条件"
   ]
  },
  {
   "cell_type": "code",
   "execution_count": 46,
   "id": "936fbcaa",
   "metadata": {},
   "outputs": [
    {
     "name": "stdout",
     "output_type": "stream",
     "text": [
      "Factor a is important.\n",
      "Factor b is important.\n",
      "\n",
      "Your DoE should consider factors: ['a', 'b']!\n"
     ]
    }
   ],
   "source": [
    "factors = ['a', 'b', 'c']\n",
    "f_list = []\n",
    "\n",
    "f_01 = 'a'\n",
    "f_02 = 'b'\n",
    "f_03 = 'e'\n",
    "\n",
    "if f_01 in factors:\n",
    "    f_list.append(f_01)\n",
    "    print(f\"Factor {f_01} is important.\")\n",
    "if f_02 in factors:\n",
    "    f_list.append(f_02)\n",
    "    print(f\"Factor {f_02} is important.\")\n",
    "if f_03 in factors:\n",
    "    f_list.append(f_03)\n",
    "    print(f\"Factor {f_03} is important.\")\n",
    "\n",
    "print(f\"\\nYour DoE should consider factors: {f_list}!\")"
   ]
  },
  {
   "cell_type": "raw",
   "id": "86416d7d",
   "metadata": {},
   "source": [
    "练习5-3：外星人颜色　假设在游戏中刚射杀了一个外星人，请创建一个名为\n",
    "alien_color 的变量，并将其赋值为'green' 、'yellow' 或'red' 。\n",
    "编写一条if 语句，检查外星人是否是绿色的。如果是，就打印一条消息，\n",
    "指出玩家获得了5分。\n",
    "编写这个程序的两个版本，在一个版本中上述测试通过了，而在另一个版\n",
    "本中未通过（未通过测试时没有输出）。"
   ]
  },
  {
   "cell_type": "code",
   "execution_count": null,
   "id": "afefbe09",
   "metadata": {},
   "outputs": [],
   "source": [
    "alien_color = 'green'\n",
    "\n",
    "if alien_color == 'green':\n",
    "    print(\"you win 5 points!\")"
   ]
  },
  {
   "cell_type": "raw",
   "id": "e9fd6304",
   "metadata": {},
   "source": [
    "练习5-4：外星人颜色2 　像练习5-3那样设置外星人的颜色，并编写一个if-else\n",
    "结构。\n",
    "如果外星人是绿色的，就打印一条消息，指出玩家因射杀该外星人获得了5\n",
    "分。\n",
    "如果外星人不是绿色的，就打印一条消息，指出玩家获得了10分。\n",
    "编写这个程序的两个版本，在一个版本中执行if 代码块，在另一个版本中\n",
    "执行else 代码块。"
   ]
  },
  {
   "cell_type": "code",
   "execution_count": null,
   "id": "6cda8402",
   "metadata": {},
   "outputs": [],
   "source": [
    "alien_color = 'blue'\n",
    "\n",
    "if alien_color == 'green':\n",
    "    print(\"you win 5 points!\")\n",
    "else:\n",
    "    print(\"you win 10 points!\")"
   ]
  },
  {
   "cell_type": "raw",
   "id": "dad92f82",
   "metadata": {},
   "source": [
    "练习5-5：外星人颜色3 　将练习5-4中的if-else 结构改为if-elif-else\n",
    "结构。\n",
    "如果外星人是绿色的，就打印一条消息，指出玩家获得了5分。\n",
    "如果外星人是黄色的，就打印一条消息，指出玩家获得了10分。\n",
    "如果外星人是红色的，就打印一条消息，指出玩家获得了15分。\n",
    "编写这个程序的三个版本，分别在外星人为绿色、黄色和红色时打印一条\n",
    "消息。"
   ]
  },
  {
   "cell_type": "code",
   "execution_count": null,
   "id": "58451425",
   "metadata": {},
   "outputs": [],
   "source": [
    "alien_color = input(\"please input the color:\\t\")\n",
    "\n",
    "if alien_color == 'green':\n",
    "    print(\"you win 5 points!\")\n",
    "elif alien_color == 'yellow':\n",
    "    print(\"you win 10 points!\")\n",
    "else:\n",
    "    print(\"you win 15 points!\")"
   ]
  },
  {
   "cell_type": "raw",
   "id": "396bfc68",
   "metadata": {},
   "source": [
    "练习5-6：人生的不同阶段 　设置变量age 的值，再编写一个if-elif-else\n",
    "结构，根据age 的值判断一个人处于人生的哪个阶段。\n",
    "如果年龄小于2岁，就打印一条消息，指出这个人是婴儿。\n",
    "如果年龄为2（含）～4岁，就打印一条消息，指出这个人是幼儿。\n",
    "如果年龄为4（含）～13岁，就打印一条消息，指出这个人是儿童。\n",
    "如果年龄为13（含）～20岁，就打印一条消息，指出这个人是青少年。\n",
    "如果年龄为20（含）～65岁，就打印一条消息，指出这个人是成年人。\n",
    "如果年龄超过65岁（含），就打印一条消息，指出这个人是老年人。"
   ]
  },
  {
   "cell_type": "code",
   "execution_count": null,
   "id": "2791d59d",
   "metadata": {},
   "outputs": [],
   "source": [
    "age = input(\"please input the age(years):\\t\")\n",
    "age = int(age)\n",
    "\n",
    "if age < 2:\n",
    "    print(\"this is a baby!\")\n",
    "elif age < 4:\n",
    "    print(\"this is a toddler!\")\n",
    "elif age < 13:\n",
    "    print(\"this is a child!\")\n",
    "elif age < 20:\n",
    "    print(\"this is a teenager!\")\n",
    "elif age < 65:\n",
    "    print(\"this is an adult!\")\n",
    "else:\n",
    "    print(\"this is an old man!\")"
   ]
  },
  {
   "cell_type": "raw",
   "id": "cd9b748f",
   "metadata": {},
   "source": [
    "练习5-7：喜欢的水果 　创建一个列表，其中包含你喜欢的水果，再编写一系\n",
    "列独立的if 语句，检查列表中是否包含特定的水果。\n",
    "将该列表命名为favorite_fruits ，并在其中包含三种水果。\n",
    "编写5条if 语句，每条都检查某种水果是否包含在列表中。如果是，就打\n",
    "印一条消息，下面是一个例子。\n",
    "You really like bananas!"
   ]
  },
  {
   "cell_type": "code",
   "execution_count": null,
   "id": "ba287b10",
   "metadata": {},
   "outputs": [],
   "source": [
    "fruits = ['apple', 'orange', 'watermelon']\n",
    "\n",
    "fruit = 'watermelon'\n",
    "\n",
    "if fruit in fruits:\n",
    "    print(f\"You really like {fruit}!\")\n",
    "    \n",
    "if 'orange' in fruits:\n",
    "    print(\"You really like orange!\")\n",
    "\n",
    "if 'banana' in fruits:\n",
    "    print(\"You really like banana!\")\n",
    "else:\n",
    "    print(\"Ops..., Banana is not your favorate fruit!\")"
   ]
  },
  {
   "cell_type": "markdown",
   "id": "e696e034",
   "metadata": {},
   "source": [
    "## 5.4　使用 if 语句处理列表\n",
    "\n",
    "### 5.4.1　检查特殊元素"
   ]
  },
  {
   "cell_type": "code",
   "execution_count": 15,
   "id": "46c8e1f1",
   "metadata": {},
   "outputs": [
    {
     "name": "stdout",
     "output_type": "stream",
     "text": [
      "Adding sugar.\n",
      "Adding ice.\n",
      "Adding lemon.\n",
      "\n",
      "Finished making your drink!\n"
     ]
    }
   ],
   "source": [
    "addings = ['sugar', 'ice', 'lemon']\n",
    "\n",
    "for adding in addings:\n",
    "    print(f\"Adding {adding}.\")\n",
    "\n",
    "print(\"\\nFinished making your drink!\")"
   ]
  },
  {
   "cell_type": "code",
   "execution_count": 16,
   "id": "927fb507",
   "metadata": {},
   "outputs": [
    {
     "name": "stdout",
     "output_type": "stream",
     "text": [
      "Adding sugar.\n",
      "Adding ice.\n",
      "Sorry, lemon is out of stock!\n",
      "\n",
      "Finished making your drink!\n"
     ]
    }
   ],
   "source": [
    "addings = ['sugar', 'ice', 'lemon']\n",
    "\n",
    "for adding in addings:\n",
    "    if adding == 'lemon':\n",
    "        print(f\"Sorry, {adding} is out of stock!\")\n",
    "    else:\n",
    "        print(f\"Adding {adding}.\")\n",
    "\n",
    "print(\"\\nFinished making your drink!\")"
   ]
  },
  {
   "cell_type": "markdown",
   "id": "f3b9accd",
   "metadata": {},
   "source": [
    "### 5.4.2　确定列表不是空的"
   ]
  },
  {
   "cell_type": "code",
   "execution_count": 47,
   "id": "81567f74",
   "metadata": {},
   "outputs": [
    {
     "name": "stdout",
     "output_type": "stream",
     "text": [
      "Do you want a cup of boiled water?\n"
     ]
    }
   ],
   "source": [
    "addings = []\n",
    "\n",
    "if addings:\n",
    "    for adding in addings:\n",
    "        print(f\"Adding {adding}.\")\n",
    "    print(\"\\nFinished making your drink!\")\n",
    "else:\n",
    "    print(\"Do you want a cup of boiled water?\")\n"
   ]
  },
  {
   "cell_type": "code",
   "execution_count": 42,
   "id": "57bab6ce",
   "metadata": {},
   "outputs": [
    {
     "data": {
      "text/plain": [
       "False"
      ]
     },
     "execution_count": 42,
     "metadata": {},
     "output_type": "execute_result"
    }
   ],
   "source": [
    "len(addings) == True"
   ]
  },
  {
   "cell_type": "code",
   "execution_count": 39,
   "id": "a8729d61",
   "metadata": {},
   "outputs": [
    {
     "data": {
      "text/plain": [
       "True"
      ]
     },
     "execution_count": 39,
     "metadata": {},
     "output_type": "execute_result"
    }
   ],
   "source": [
    "float(len(addings)) == False"
   ]
  },
  {
   "cell_type": "code",
   "execution_count": 23,
   "id": "75820e45",
   "metadata": {},
   "outputs": [
    {
     "data": {
      "text/plain": [
       "True"
      ]
     },
     "execution_count": 23,
     "metadata": {},
     "output_type": "execute_result"
    }
   ],
   "source": [
    "1 == True"
   ]
  },
  {
   "cell_type": "code",
   "execution_count": 24,
   "id": "9b1aa323",
   "metadata": {},
   "outputs": [
    {
     "data": {
      "text/plain": [
       "True"
      ]
     },
     "execution_count": 24,
     "metadata": {},
     "output_type": "execute_result"
    }
   ],
   "source": [
    "0 == False"
   ]
  },
  {
   "cell_type": "code",
   "execution_count": 25,
   "id": "5ac794f8",
   "metadata": {},
   "outputs": [
    {
     "data": {
      "text/plain": [
       "False"
      ]
     },
     "execution_count": 25,
     "metadata": {},
     "output_type": "execute_result"
    }
   ],
   "source": [
    "None == False"
   ]
  },
  {
   "cell_type": "code",
   "execution_count": 30,
   "id": "d40e196e",
   "metadata": {},
   "outputs": [
    {
     "data": {
      "text/plain": [
       "False"
      ]
     },
     "execution_count": 30,
     "metadata": {},
     "output_type": "execute_result"
    }
   ],
   "source": [
    "import numpy as np\n",
    "\n",
    "np.nan == False"
   ]
  },
  {
   "cell_type": "code",
   "execution_count": 33,
   "id": "327225f4",
   "metadata": {},
   "outputs": [
    {
     "data": {
      "text/plain": [
       "False"
      ]
     },
     "execution_count": 33,
     "metadata": {},
     "output_type": "execute_result"
    }
   ],
   "source": [
    "np.nan == None"
   ]
  },
  {
   "cell_type": "markdown",
   "id": "920563a9",
   "metadata": {},
   "source": [
    "### 5.4.3　使用多个列表"
   ]
  },
  {
   "cell_type": "code",
   "execution_count": 49,
   "id": "767fce11",
   "metadata": {},
   "outputs": [
    {
     "name": "stdout",
     "output_type": "stream",
     "text": [
      "Sorry, we don't offer salt.\n",
      "Adding sugar.\n",
      "Sorry, we don't offer oil.\n",
      "Adding ice.\n",
      "Sorry, we don't offer salt.\n",
      "Adding sugar.\n",
      "Sorry, we don't offer oil.\n",
      "Adding ice.\n",
      "Sorry, we don't offer salt.\n",
      "Adding sugar.\n",
      "Sorry, we don't offer oil.\n",
      "Adding ice.\n",
      "\n",
      "Finished making your dirnk!\n"
     ]
    }
   ],
   "source": [
    "addings = ['sugar', 'ice', 'lemon']\n",
    "demands = ['salt', 'sugar', 'oil', 'ice']\n",
    "\n",
    "for adding in addings:\n",
    "    for demand in demands:\n",
    "        if demand in addings:\n",
    "            print(f\"Adding {demand}.\")\n",
    "        else:\n",
    "            print(f\"Sorry, we don't offer {demand}.\")\n",
    "\n",
    "print(\"\\nFinished making your dirnk!\")"
   ]
  },
  {
   "cell_type": "code",
   "execution_count": 51,
   "id": "4a71a849-8979-42d5-a424-7f399d123005",
   "metadata": {},
   "outputs": [
    {
     "name": "stdout",
     "output_type": "stream",
     "text": [
      "sugar vs salt.\n",
      "sugar vs sugar.\n",
      "sugar vs oil.\n",
      "sugar vs ice.\n",
      "ice vs salt.\n",
      "ice vs sugar.\n",
      "ice vs oil.\n",
      "ice vs ice.\n",
      "lemon vs salt.\n",
      "lemon vs sugar.\n",
      "lemon vs oil.\n",
      "lemon vs ice.\n",
      "\n",
      "Finished making your dirnk!\n"
     ]
    }
   ],
   "source": [
    "addings = ['sugar', 'ice', 'lemon']\n",
    "demands = ['salt', 'sugar', 'oil', 'ice']\n",
    "\n",
    "for adding in addings:\n",
    "    for demand in demands:\n",
    "        print(f\"{adding} vs {demand}.\")\n",
    "\n",
    "print(\"\\nFinished making your dirnk!\")"
   ]
  },
  {
   "cell_type": "raw",
   "id": "d2a0acac",
   "metadata": {},
   "source": [
    "练习5-8：以特殊方式跟管理员打招呼 　创建一个至少包含5个用户名的列表，\n",
    "且其中一个用户名为'admin' 。想象你要编写代码，在每位用户登录网站后都\n",
    "打印一条问候消息。遍历用户名列表，并向每位用户打印一条问候消息。\n",
    "如果用户名为'admin' ，就打印一条特殊的问候消息，如下所示。\n",
    "Hello admin, would you like to see a status report?\n",
    "否则，打印一条普通的问候消息，如下所示。\n",
    "Hello Jaden, thank you for logging in again."
   ]
  },
  {
   "cell_type": "code",
   "execution_count": null,
   "id": "82f02898",
   "metadata": {
    "scrolled": true
   },
   "outputs": [],
   "source": [
    "users = ['admin', 'zhao','qian','sun','li']\n",
    "\n",
    "for user in users:\n",
    "    if user == 'admin':\n",
    "        print(f\"Hello {user.title()}, would you like to see a status report?\")\n",
    "    else:\n",
    "        print(f\"Hello {user.title()}, thank you for logging in.\")"
   ]
  },
  {
   "cell_type": "raw",
   "id": "a666071e",
   "metadata": {},
   "source": [
    "练习5-9：处理没有用户的情形 　在为完成练习5-8编写的程序中，添加一条\n",
    "if 语句，检查用户名列表是否为空。\n",
    "如果为空，就打印如下消息。\n",
    "We need to find some users!\n",
    "删除列表中的所有用户名，确定将打印正确的消息。"
   ]
  },
  {
   "cell_type": "code",
   "execution_count": null,
   "id": "305d52c0",
   "metadata": {},
   "outputs": [],
   "source": [
    "users = ['zhao']\n",
    "\n",
    "if users:\n",
    "    for user in users:\n",
    "        if user == 'admin':\n",
    "            print(f\"Hello {user.title()}, would you like to see a status report?\")\n",
    "        else:\n",
    "            print(f\"Hello {user.title()}, thank you for logging in.\")\n",
    "else:\n",
    "    print(\"We need to find some users.\")"
   ]
  },
  {
   "cell_type": "raw",
   "id": "e0cb76d3",
   "metadata": {},
   "source": [
    "练习5-10：检查用户名 　按下面的说明编写一个程序，模拟网站如何确保每位\n",
    "用户的用户名都独一无二。\n",
    "创建一个至少包含5个用户名的列表，并将其命名为current_users 。\n",
    "再创建一个包含5个用户名的列表，将其命名为new_users ，并确保其中\n",
    "有一两个用户名也包含在列表current_users 中。\n",
    "遍历列表new_users ，对于其中的每个用户名，都检查它是否已被使\n",
    "用。如果是，就打印一条消息，指出需要输入别的用户名；否则，打印一\n",
    "条消息，指出这个用户名未被使用。\n",
    "确保比较时不区分大小写。换句话说，如果用户名'John' 已被使用，应\n",
    "拒绝用户名'JOHN' 。（为此，需要创建列表current_users 的副本，\n",
    "其中包含当前所有用户名的小写版本。）"
   ]
  },
  {
   "cell_type": "code",
   "execution_count": null,
   "id": "b3040b44",
   "metadata": {},
   "outputs": [],
   "source": [
    "current_users = ['zhao','qian','sun','li','ZHOU']\n",
    "new_users = ['Zhou','wu','zhen','wang','fu']\n",
    "users_list = []\n",
    "\n",
    "for current_user in current_users:\n",
    "    current_user = current_user.lower()\n",
    "    users_list.append(current_user) \n",
    "    \n",
    "print(f\"Users list:\\t {users_list}\\n\")\n",
    "\n",
    "# users_list_update = users_list[:]\n",
    "\n",
    "for new_user in new_users:\n",
    "    if new_user.lower() in users_list:\n",
    "        print(f\"Ops..., your username {new_user} is used, please login with other name!\")\n",
    "    else:\n",
    "        print(f\"Your username {new_user.title()} is valid, welcome to login!\")\n",
    "        users_list.append(new_user.lower())\n",
    "\n",
    "print(f\"\\nUpdated users list:\\t {users_list}\")"
   ]
  },
  {
   "cell_type": "raw",
   "id": "b38f723c",
   "metadata": {},
   "source": [
    "练习5-11：序数 　序数表示位置，如1st和2nd。序数大多以th结尾，只有1、2\n",
    "和3例外。\n",
    "在一个列表中存储数字1～9。\n",
    "遍历这个列表。\n",
    "在循环中使用一个if-elif-else 结构，以打印每个数字对应的序数。输\n",
    "出内容应为\"1st 2nd 3rd 4th 5th 6th 7th 8th 9th\" ，\n",
    "但每个序数都独占一行。"
   ]
  },
  {
   "cell_type": "code",
   "execution_count": null,
   "id": "b6ca27a5",
   "metadata": {},
   "outputs": [],
   "source": [
    "numbers = list(range(1,10))\n",
    "\n",
    "print(numbers)\n",
    "\n",
    "for number in numbers:\n",
    "    if number == 1:\n",
    "        print(\"1st\")\n",
    "    elif number == 2:\n",
    "        print(\"2nd\")\n",
    "    elif number == 3:\n",
    "        print(\"3rd\")\n",
    "    else:\n",
    "        print(f\"{number}th\")"
   ]
  },
  {
   "cell_type": "markdown",
   "id": "17352988",
   "metadata": {},
   "source": [
    "## 5.5　设置if 语句的格式\n",
    "\n",
    "在条件测试的格式设置方面，PEP 8提供的唯一建议是，\n",
    "\n",
    "在诸如== 、>= 和<= 等比较运算符两边各添加一个空格"
   ]
  },
  {
   "cell_type": "markdown",
   "id": "329634bd",
   "metadata": {},
   "source": [
    "`Q1:` 能不能写个例子，关于这个if 语句中的括号？如果if中有2个条件呢?"
   ]
  },
  {
   "cell_type": "code",
   "execution_count": 1,
   "id": "5e594999",
   "metadata": {},
   "outputs": [
    {
     "name": "stdout",
     "output_type": "stream",
     "text": [
      "你需要大人陪同进入。\n"
     ]
    }
   ],
   "source": [
    "# 定义两个变量\n",
    "age = 10\n",
    "has_id = True\n",
    "\n",
    "# 使用 if 语句检查两个条件\n",
    "if (age >= 18 and has_id):\n",
    "    print(\"你可以进入。\")\n",
    "elif (6 < age < 18 and has_id):\n",
    "    print(\"你需要大人陪同进入。\")\n",
    "elif (age < 6):\n",
    "    print(\"你不能进入。\")"
   ]
  }
 ],
 "metadata": {
  "kernelspec": {
   "display_name": "Python 3 (ipykernel)",
   "language": "python",
   "name": "python3"
  },
  "language_info": {
   "codemirror_mode": {
    "name": "ipython",
    "version": 3
   },
   "file_extension": ".py",
   "mimetype": "text/x-python",
   "name": "python",
   "nbconvert_exporter": "python",
   "pygments_lexer": "ipython3",
   "version": "3.11.5"
  },
  "toc": {
   "base_numbering": 1,
   "nav_menu": {},
   "number_sections": true,
   "sideBar": true,
   "skip_h1_title": false,
   "title_cell": "Table of Contents",
   "title_sidebar": "Contents",
   "toc_cell": false,
   "toc_position": {
    "height": "calc(100% - 180px)",
    "left": "10px",
    "top": "150px",
    "width": "202.975px"
   },
   "toc_section_display": true,
   "toc_window_display": true
  },
  "varInspector": {
   "cols": {
    "lenName": 16,
    "lenType": 16,
    "lenVar": 40
   },
   "kernels_config": {
    "python": {
     "delete_cmd_postfix": "",
     "delete_cmd_prefix": "del ",
     "library": "var_list.py",
     "varRefreshCmd": "print(var_dic_list())"
    },
    "r": {
     "delete_cmd_postfix": ") ",
     "delete_cmd_prefix": "rm(",
     "library": "var_list.r",
     "varRefreshCmd": "cat(var_dic_list()) "
    }
   },
   "position": {
    "height": "396.854px",
    "left": "910px",
    "right": "20px",
    "top": "120px",
    "width": "350px"
   },
   "types_to_exclude": [
    "module",
    "function",
    "builtin_function_or_method",
    "instance",
    "_Feature"
   ],
   "window_display": false
  }
 },
 "nbformat": 4,
 "nbformat_minor": 5
}
